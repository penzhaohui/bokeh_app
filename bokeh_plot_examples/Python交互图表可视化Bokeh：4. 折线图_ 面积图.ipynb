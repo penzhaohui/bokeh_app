{
 "cells": [
  {
   "cell_type": "code",
   "execution_count": 2,
   "metadata": {},
   "outputs": [
    {
     "data": {
      "text/html": [
       "\n",
       "    <div class=\"bk-root\">\n",
       "        <a href=\"https://bokeh.org\" target=\"_blank\" class=\"bk-logo bk-logo-small bk-logo-notebook\"></a>\n",
       "        <span id=\"1001\">Loading BokehJS ...</span>\n",
       "    </div>"
      ]
     },
     "metadata": {},
     "output_type": "display_data"
    },
    {
     "data": {
      "application/javascript": [
       "\n",
       "(function(root) {\n",
       "  function now() {\n",
       "    return new Date();\n",
       "  }\n",
       "\n",
       "  var force = true;\n",
       "\n",
       "  if (typeof root._bokeh_onload_callbacks === \"undefined\" || force === true) {\n",
       "    root._bokeh_onload_callbacks = [];\n",
       "    root._bokeh_is_loading = undefined;\n",
       "  }\n",
       "\n",
       "  var JS_MIME_TYPE = 'application/javascript';\n",
       "  var HTML_MIME_TYPE = 'text/html';\n",
       "  var EXEC_MIME_TYPE = 'application/vnd.bokehjs_exec.v0+json';\n",
       "  var CLASS_NAME = 'output_bokeh rendered_html';\n",
       "\n",
       "  /**\n",
       "   * Render data to the DOM node\n",
       "   */\n",
       "  function render(props, node) {\n",
       "    var script = document.createElement(\"script\");\n",
       "    node.appendChild(script);\n",
       "  }\n",
       "\n",
       "  /**\n",
       "   * Handle when an output is cleared or removed\n",
       "   */\n",
       "  function handleClearOutput(event, handle) {\n",
       "    var cell = handle.cell;\n",
       "\n",
       "    var id = cell.output_area._bokeh_element_id;\n",
       "    var server_id = cell.output_area._bokeh_server_id;\n",
       "    // Clean up Bokeh references\n",
       "    if (id != null && id in Bokeh.index) {\n",
       "      Bokeh.index[id].model.document.clear();\n",
       "      delete Bokeh.index[id];\n",
       "    }\n",
       "\n",
       "    if (server_id !== undefined) {\n",
       "      // Clean up Bokeh references\n",
       "      var cmd = \"from bokeh.io.state import curstate; print(curstate().uuid_to_server['\" + server_id + \"'].get_sessions()[0].document.roots[0]._id)\";\n",
       "      cell.notebook.kernel.execute(cmd, {\n",
       "        iopub: {\n",
       "          output: function(msg) {\n",
       "            var id = msg.content.text.trim();\n",
       "            if (id in Bokeh.index) {\n",
       "              Bokeh.index[id].model.document.clear();\n",
       "              delete Bokeh.index[id];\n",
       "            }\n",
       "          }\n",
       "        }\n",
       "      });\n",
       "      // Destroy server and session\n",
       "      var cmd = \"import bokeh.io.notebook as ion; ion.destroy_server('\" + server_id + \"')\";\n",
       "      cell.notebook.kernel.execute(cmd);\n",
       "    }\n",
       "  }\n",
       "\n",
       "  /**\n",
       "   * Handle when a new output is added\n",
       "   */\n",
       "  function handleAddOutput(event, handle) {\n",
       "    var output_area = handle.output_area;\n",
       "    var output = handle.output;\n",
       "\n",
       "    // limit handleAddOutput to display_data with EXEC_MIME_TYPE content only\n",
       "    if ((output.output_type != \"display_data\") || (!output.data.hasOwnProperty(EXEC_MIME_TYPE))) {\n",
       "      return\n",
       "    }\n",
       "\n",
       "    var toinsert = output_area.element.find(\".\" + CLASS_NAME.split(' ')[0]);\n",
       "\n",
       "    if (output.metadata[EXEC_MIME_TYPE][\"id\"] !== undefined) {\n",
       "      toinsert[toinsert.length - 1].firstChild.textContent = output.data[JS_MIME_TYPE];\n",
       "      // store reference to embed id on output_area\n",
       "      output_area._bokeh_element_id = output.metadata[EXEC_MIME_TYPE][\"id\"];\n",
       "    }\n",
       "    if (output.metadata[EXEC_MIME_TYPE][\"server_id\"] !== undefined) {\n",
       "      var bk_div = document.createElement(\"div\");\n",
       "      bk_div.innerHTML = output.data[HTML_MIME_TYPE];\n",
       "      var script_attrs = bk_div.children[0].attributes;\n",
       "      for (var i = 0; i < script_attrs.length; i++) {\n",
       "        toinsert[toinsert.length - 1].firstChild.setAttribute(script_attrs[i].name, script_attrs[i].value);\n",
       "        toinsert[toinsert.length - 1].firstChild.textContent = bk_div.children[0].textContent\n",
       "      }\n",
       "      // store reference to server id on output_area\n",
       "      output_area._bokeh_server_id = output.metadata[EXEC_MIME_TYPE][\"server_id\"];\n",
       "    }\n",
       "  }\n",
       "\n",
       "  function register_renderer(events, OutputArea) {\n",
       "\n",
       "    function append_mime(data, metadata, element) {\n",
       "      // create a DOM node to render to\n",
       "      var toinsert = this.create_output_subarea(\n",
       "        metadata,\n",
       "        CLASS_NAME,\n",
       "        EXEC_MIME_TYPE\n",
       "      );\n",
       "      this.keyboard_manager.register_events(toinsert);\n",
       "      // Render to node\n",
       "      var props = {data: data, metadata: metadata[EXEC_MIME_TYPE]};\n",
       "      render(props, toinsert[toinsert.length - 1]);\n",
       "      element.append(toinsert);\n",
       "      return toinsert\n",
       "    }\n",
       "\n",
       "    /* Handle when an output is cleared or removed */\n",
       "    events.on('clear_output.CodeCell', handleClearOutput);\n",
       "    events.on('delete.Cell', handleClearOutput);\n",
       "\n",
       "    /* Handle when a new output is added */\n",
       "    events.on('output_added.OutputArea', handleAddOutput);\n",
       "\n",
       "    /**\n",
       "     * Register the mime type and append_mime function with output_area\n",
       "     */\n",
       "    OutputArea.prototype.register_mime_type(EXEC_MIME_TYPE, append_mime, {\n",
       "      /* Is output safe? */\n",
       "      safe: true,\n",
       "      /* Index of renderer in `output_area.display_order` */\n",
       "      index: 0\n",
       "    });\n",
       "  }\n",
       "\n",
       "  // register the mime type if in Jupyter Notebook environment and previously unregistered\n",
       "  if (root.Jupyter !== undefined) {\n",
       "    var events = require('base/js/events');\n",
       "    var OutputArea = require('notebook/js/outputarea').OutputArea;\n",
       "\n",
       "    if (OutputArea.prototype.mime_types().indexOf(EXEC_MIME_TYPE) == -1) {\n",
       "      register_renderer(events, OutputArea);\n",
       "    }\n",
       "  }\n",
       "\n",
       "  \n",
       "  if (typeof (root._bokeh_timeout) === \"undefined\" || force === true) {\n",
       "    root._bokeh_timeout = Date.now() + 5000;\n",
       "    root._bokeh_failed_load = false;\n",
       "  }\n",
       "\n",
       "  var NB_LOAD_WARNING = {'data': {'text/html':\n",
       "     \"<div style='background-color: #fdd'>\\n\"+\n",
       "     \"<p>\\n\"+\n",
       "     \"BokehJS does not appear to have successfully loaded. If loading BokehJS from CDN, this \\n\"+\n",
       "     \"may be due to a slow or bad network connection. Possible fixes:\\n\"+\n",
       "     \"</p>\\n\"+\n",
       "     \"<ul>\\n\"+\n",
       "     \"<li>re-rerun `output_notebook()` to attempt to load from CDN again, or</li>\\n\"+\n",
       "     \"<li>use INLINE resources instead, as so:</li>\\n\"+\n",
       "     \"</ul>\\n\"+\n",
       "     \"<code>\\n\"+\n",
       "     \"from bokeh.resources import INLINE\\n\"+\n",
       "     \"output_notebook(resources=INLINE)\\n\"+\n",
       "     \"</code>\\n\"+\n",
       "     \"</div>\"}};\n",
       "\n",
       "  function display_loaded() {\n",
       "    var el = document.getElementById(\"1001\");\n",
       "    if (el != null) {\n",
       "      el.textContent = \"BokehJS is loading...\";\n",
       "    }\n",
       "    if (root.Bokeh !== undefined) {\n",
       "      if (el != null) {\n",
       "        el.textContent = \"BokehJS \" + root.Bokeh.version + \" successfully loaded.\";\n",
       "      }\n",
       "    } else if (Date.now() < root._bokeh_timeout) {\n",
       "      setTimeout(display_loaded, 100)\n",
       "    }\n",
       "  }\n",
       "\n",
       "\n",
       "  function run_callbacks() {\n",
       "    try {\n",
       "      root._bokeh_onload_callbacks.forEach(function(callback) {\n",
       "        if (callback != null)\n",
       "          callback();\n",
       "      });\n",
       "    } finally {\n",
       "      delete root._bokeh_onload_callbacks\n",
       "    }\n",
       "    console.debug(\"Bokeh: all callbacks have finished\");\n",
       "  }\n",
       "\n",
       "  function load_libs(css_urls, js_urls, callback) {\n",
       "    if (css_urls == null) css_urls = [];\n",
       "    if (js_urls == null) js_urls = [];\n",
       "\n",
       "    root._bokeh_onload_callbacks.push(callback);\n",
       "    if (root._bokeh_is_loading > 0) {\n",
       "      console.debug(\"Bokeh: BokehJS is being loaded, scheduling callback at\", now());\n",
       "      return null;\n",
       "    }\n",
       "    if (js_urls == null || js_urls.length === 0) {\n",
       "      run_callbacks();\n",
       "      return null;\n",
       "    }\n",
       "    console.debug(\"Bokeh: BokehJS not loaded, scheduling load and callback at\", now());\n",
       "    root._bokeh_is_loading = css_urls.length + js_urls.length;\n",
       "\n",
       "    function on_load() {\n",
       "      root._bokeh_is_loading--;\n",
       "      if (root._bokeh_is_loading === 0) {\n",
       "        console.debug(\"Bokeh: all BokehJS libraries/stylesheets loaded\");\n",
       "        run_callbacks()\n",
       "      }\n",
       "    }\n",
       "\n",
       "    function on_error() {\n",
       "      console.error(\"failed to load \" + url);\n",
       "    }\n",
       "\n",
       "    for (var i = 0; i < css_urls.length; i++) {\n",
       "      var url = css_urls[i];\n",
       "      const element = document.createElement(\"link\");\n",
       "      element.onload = on_load;\n",
       "      element.onerror = on_error;\n",
       "      element.rel = \"stylesheet\";\n",
       "      element.type = \"text/css\";\n",
       "      element.href = url;\n",
       "      console.debug(\"Bokeh: injecting link tag for BokehJS stylesheet: \", url);\n",
       "      document.body.appendChild(element);\n",
       "    }\n",
       "\n",
       "    const hashes = {\"https://cdn.bokeh.org/bokeh/release/bokeh-2.2.3.min.js\": \"T2yuo9Oe71Cz/I4X9Ac5+gpEa5a8PpJCDlqKYO0CfAuEszu1JrXLl8YugMqYe3sM\", \"https://cdn.bokeh.org/bokeh/release/bokeh-widgets-2.2.3.min.js\": \"98GDGJ0kOMCUMUePhksaQ/GYgB3+NH9h996V88sh3aOiUNX3N+fLXAtry6xctSZ6\", \"https://cdn.bokeh.org/bokeh/release/bokeh-tables-2.2.3.min.js\": \"89bArO+nlbP3sgakeHjCo1JYxYR5wufVgA3IbUvDY+K7w4zyxJqssu7wVnfeKCq8\"};\n",
       "\n",
       "    for (var i = 0; i < js_urls.length; i++) {\n",
       "      var url = js_urls[i];\n",
       "      var element = document.createElement('script');\n",
       "      element.onload = on_load;\n",
       "      element.onerror = on_error;\n",
       "      element.async = false;\n",
       "      element.src = url;\n",
       "      if (url in hashes) {\n",
       "        element.crossOrigin = \"anonymous\";\n",
       "        element.integrity = \"sha384-\" + hashes[url];\n",
       "      }\n",
       "      console.debug(\"Bokeh: injecting script tag for BokehJS library: \", url);\n",
       "      document.head.appendChild(element);\n",
       "    }\n",
       "  };\n",
       "\n",
       "  function inject_raw_css(css) {\n",
       "    const element = document.createElement(\"style\");\n",
       "    element.appendChild(document.createTextNode(css));\n",
       "    document.body.appendChild(element);\n",
       "  }\n",
       "\n",
       "  \n",
       "  var js_urls = [\"https://cdn.bokeh.org/bokeh/release/bokeh-2.2.3.min.js\", \"https://cdn.bokeh.org/bokeh/release/bokeh-widgets-2.2.3.min.js\", \"https://cdn.bokeh.org/bokeh/release/bokeh-tables-2.2.3.min.js\"];\n",
       "  var css_urls = [];\n",
       "  \n",
       "\n",
       "  var inline_js = [\n",
       "    function(Bokeh) {\n",
       "      Bokeh.set_log_level(\"info\");\n",
       "    },\n",
       "    function(Bokeh) {\n",
       "    \n",
       "    \n",
       "    }\n",
       "  ];\n",
       "\n",
       "  function run_inline_js() {\n",
       "    \n",
       "    if (root.Bokeh !== undefined || force === true) {\n",
       "      \n",
       "    for (var i = 0; i < inline_js.length; i++) {\n",
       "      inline_js[i].call(root, root.Bokeh);\n",
       "    }\n",
       "    if (force === true) {\n",
       "        display_loaded();\n",
       "      }} else if (Date.now() < root._bokeh_timeout) {\n",
       "      setTimeout(run_inline_js, 100);\n",
       "    } else if (!root._bokeh_failed_load) {\n",
       "      console.log(\"Bokeh: BokehJS failed to load within specified timeout.\");\n",
       "      root._bokeh_failed_load = true;\n",
       "    } else if (force !== true) {\n",
       "      var cell = $(document.getElementById(\"1001\")).parents('.cell').data().cell;\n",
       "      cell.output_area.append_execute_result(NB_LOAD_WARNING)\n",
       "    }\n",
       "\n",
       "  }\n",
       "\n",
       "  if (root._bokeh_is_loading === 0) {\n",
       "    console.debug(\"Bokeh: BokehJS loaded, going straight to plotting\");\n",
       "    run_inline_js();\n",
       "  } else {\n",
       "    load_libs(css_urls, js_urls, function() {\n",
       "      console.debug(\"Bokeh: BokehJS plotting callback run at\", now());\n",
       "      run_inline_js();\n",
       "    });\n",
       "  }\n",
       "}(window));"
      ],
      "application/vnd.bokehjs_load.v0+json": "\n(function(root) {\n  function now() {\n    return new Date();\n  }\n\n  var force = true;\n\n  if (typeof root._bokeh_onload_callbacks === \"undefined\" || force === true) {\n    root._bokeh_onload_callbacks = [];\n    root._bokeh_is_loading = undefined;\n  }\n\n  \n\n  \n  if (typeof (root._bokeh_timeout) === \"undefined\" || force === true) {\n    root._bokeh_timeout = Date.now() + 5000;\n    root._bokeh_failed_load = false;\n  }\n\n  var NB_LOAD_WARNING = {'data': {'text/html':\n     \"<div style='background-color: #fdd'>\\n\"+\n     \"<p>\\n\"+\n     \"BokehJS does not appear to have successfully loaded. If loading BokehJS from CDN, this \\n\"+\n     \"may be due to a slow or bad network connection. Possible fixes:\\n\"+\n     \"</p>\\n\"+\n     \"<ul>\\n\"+\n     \"<li>re-rerun `output_notebook()` to attempt to load from CDN again, or</li>\\n\"+\n     \"<li>use INLINE resources instead, as so:</li>\\n\"+\n     \"</ul>\\n\"+\n     \"<code>\\n\"+\n     \"from bokeh.resources import INLINE\\n\"+\n     \"output_notebook(resources=INLINE)\\n\"+\n     \"</code>\\n\"+\n     \"</div>\"}};\n\n  function display_loaded() {\n    var el = document.getElementById(\"1001\");\n    if (el != null) {\n      el.textContent = \"BokehJS is loading...\";\n    }\n    if (root.Bokeh !== undefined) {\n      if (el != null) {\n        el.textContent = \"BokehJS \" + root.Bokeh.version + \" successfully loaded.\";\n      }\n    } else if (Date.now() < root._bokeh_timeout) {\n      setTimeout(display_loaded, 100)\n    }\n  }\n\n\n  function run_callbacks() {\n    try {\n      root._bokeh_onload_callbacks.forEach(function(callback) {\n        if (callback != null)\n          callback();\n      });\n    } finally {\n      delete root._bokeh_onload_callbacks\n    }\n    console.debug(\"Bokeh: all callbacks have finished\");\n  }\n\n  function load_libs(css_urls, js_urls, callback) {\n    if (css_urls == null) css_urls = [];\n    if (js_urls == null) js_urls = [];\n\n    root._bokeh_onload_callbacks.push(callback);\n    if (root._bokeh_is_loading > 0) {\n      console.debug(\"Bokeh: BokehJS is being loaded, scheduling callback at\", now());\n      return null;\n    }\n    if (js_urls == null || js_urls.length === 0) {\n      run_callbacks();\n      return null;\n    }\n    console.debug(\"Bokeh: BokehJS not loaded, scheduling load and callback at\", now());\n    root._bokeh_is_loading = css_urls.length + js_urls.length;\n\n    function on_load() {\n      root._bokeh_is_loading--;\n      if (root._bokeh_is_loading === 0) {\n        console.debug(\"Bokeh: all BokehJS libraries/stylesheets loaded\");\n        run_callbacks()\n      }\n    }\n\n    function on_error() {\n      console.error(\"failed to load \" + url);\n    }\n\n    for (var i = 0; i < css_urls.length; i++) {\n      var url = css_urls[i];\n      const element = document.createElement(\"link\");\n      element.onload = on_load;\n      element.onerror = on_error;\n      element.rel = \"stylesheet\";\n      element.type = \"text/css\";\n      element.href = url;\n      console.debug(\"Bokeh: injecting link tag for BokehJS stylesheet: \", url);\n      document.body.appendChild(element);\n    }\n\n    const hashes = {\"https://cdn.bokeh.org/bokeh/release/bokeh-2.2.3.min.js\": \"T2yuo9Oe71Cz/I4X9Ac5+gpEa5a8PpJCDlqKYO0CfAuEszu1JrXLl8YugMqYe3sM\", \"https://cdn.bokeh.org/bokeh/release/bokeh-widgets-2.2.3.min.js\": \"98GDGJ0kOMCUMUePhksaQ/GYgB3+NH9h996V88sh3aOiUNX3N+fLXAtry6xctSZ6\", \"https://cdn.bokeh.org/bokeh/release/bokeh-tables-2.2.3.min.js\": \"89bArO+nlbP3sgakeHjCo1JYxYR5wufVgA3IbUvDY+K7w4zyxJqssu7wVnfeKCq8\"};\n\n    for (var i = 0; i < js_urls.length; i++) {\n      var url = js_urls[i];\n      var element = document.createElement('script');\n      element.onload = on_load;\n      element.onerror = on_error;\n      element.async = false;\n      element.src = url;\n      if (url in hashes) {\n        element.crossOrigin = \"anonymous\";\n        element.integrity = \"sha384-\" + hashes[url];\n      }\n      console.debug(\"Bokeh: injecting script tag for BokehJS library: \", url);\n      document.head.appendChild(element);\n    }\n  };\n\n  function inject_raw_css(css) {\n    const element = document.createElement(\"style\");\n    element.appendChild(document.createTextNode(css));\n    document.body.appendChild(element);\n  }\n\n  \n  var js_urls = [\"https://cdn.bokeh.org/bokeh/release/bokeh-2.2.3.min.js\", \"https://cdn.bokeh.org/bokeh/release/bokeh-widgets-2.2.3.min.js\", \"https://cdn.bokeh.org/bokeh/release/bokeh-tables-2.2.3.min.js\"];\n  var css_urls = [];\n  \n\n  var inline_js = [\n    function(Bokeh) {\n      Bokeh.set_log_level(\"info\");\n    },\n    function(Bokeh) {\n    \n    \n    }\n  ];\n\n  function run_inline_js() {\n    \n    if (root.Bokeh !== undefined || force === true) {\n      \n    for (var i = 0; i < inline_js.length; i++) {\n      inline_js[i].call(root, root.Bokeh);\n    }\n    if (force === true) {\n        display_loaded();\n      }} else if (Date.now() < root._bokeh_timeout) {\n      setTimeout(run_inline_js, 100);\n    } else if (!root._bokeh_failed_load) {\n      console.log(\"Bokeh: BokehJS failed to load within specified timeout.\");\n      root._bokeh_failed_load = true;\n    } else if (force !== true) {\n      var cell = $(document.getElementById(\"1001\")).parents('.cell').data().cell;\n      cell.output_area.append_execute_result(NB_LOAD_WARNING)\n    }\n\n  }\n\n  if (root._bokeh_is_loading === 0) {\n    console.debug(\"Bokeh: BokehJS loaded, going straight to plotting\");\n    run_inline_js();\n  } else {\n    load_libs(css_urls, js_urls, function() {\n      console.debug(\"Bokeh: BokehJS plotting callback run at\", now());\n      run_inline_js();\n    });\n  }\n}(window));"
     },
     "metadata": {},
     "output_type": "display_data"
    }
   ],
   "source": [
    "import numpy as np\n",
    "import pandas as pd\n",
    "import matplotlib.pyplot as plt\n",
    "%matplotlib inline\n",
    "\n",
    "import warnings\n",
    "warnings.filterwarnings('ignore') \n",
    "# 不发出警告\n",
    "\n",
    "from bokeh.io import output_notebook\n",
    "output_notebook()\n",
    "# 导入notebook绘图模块\n",
    "\n",
    "from bokeh.plotting import figure,show\n",
    "# 导入图表绘制、图标展示模块"
   ]
  },
  {
   "cell_type": "code",
   "execution_count": 3,
   "metadata": {},
   "outputs": [
    {
     "data": {
      "text/html": [
       "\n",
       "\n",
       "\n",
       "\n",
       "\n",
       "\n",
       "  <div class=\"bk-root\" id=\"1152f906-f691-406c-999f-32511b9d7447\" data-root-id=\"1003\"></div>\n"
      ]
     },
     "metadata": {},
     "output_type": "display_data"
    },
    {
     "data": {
      "application/javascript": [
       "(function(root) {\n",
       "  function embed_document(root) {\n",
       "    \n",
       "  var docs_json = {\"3e2248ac-c2ba-477e-80b6-9c0b8adebe9b\":{\"roots\":{\"references\":[{\"attributes\":{\"below\":[{\"id\":\"1012\"}],\"center\":[{\"id\":\"1015\"},{\"id\":\"1019\"}],\"left\":[{\"id\":\"1016\"}],\"plot_height\":400,\"renderers\":[{\"id\":\"1037\"},{\"id\":\"1042\"}],\"title\":{\"id\":\"1045\"},\"toolbar\":{\"id\":\"1027\"},\"x_range\":{\"id\":\"1004\"},\"x_scale\":{\"id\":\"1008\"},\"y_range\":{\"id\":\"1006\"},\"y_scale\":{\"id\":\"1010\"}},\"id\":\"1003\",\"subtype\":\"Figure\",\"type\":\"Plot\"},{\"attributes\":{\"line_alpha\":0.1,\"line_dash\":[10,4],\"x\":{\"field\":\"index\"},\"y\":{\"field\":\"value\"}},\"id\":\"1036\",\"type\":\"Line\"},{\"attributes\":{},\"id\":\"1020\",\"type\":\"PanTool\"},{\"attributes\":{},\"id\":\"1021\",\"type\":\"WheelZoomTool\"},{\"attributes\":{\"overlay\":{\"id\":\"1026\"}},\"id\":\"1022\",\"type\":\"BoxZoomTool\"},{\"attributes\":{\"data\":{\"index\":[0,1,2,3,4,5,6,7,8,9,10,11,12,13,14,15,16,17,18,19,20,21,22,23,24,25,26,27,28,29,30,31,32,33,34,35,36,37,38,39,40,41,42,43,44,45,46,47,48,49,50,51,52,53,54,55,56,57,58,59,60,61,62,63,64,65,66,67,68,69,70,71,72,73,74,75,76,77,78,79,80,81,82,83,84,85,86,87,88,89,90,91,92,93,94,95,96,97,98,99],\"value\":{\"__ndarray__\":\"hS4ChnMdAkCh8s7SiegCQDyX9JTkrQhAFOVF2fU8DkDe2xUHxFEBQCKUDaVJgv4/MD5HlTPgAEBIxvA7JLj4PzAJ0Us5RsW//vj/3zLt2b9OO7OZHSr4v6qjXxNENv6/LE8P3kAFAMBO4p4mKYMDwEboLsEtSe+/rXGnzVmS378GLf4VmXrnP60oWKRnUNE/FqFEUrj46D9ol5hlL9bxP3xxjfCy2uw/VgU0CmLP6j8QLfo0RDyvv4BZNF74mso/XCjDY5Xsob8vnsVIaFrMP/t0ENO8wOS/XsrEljW49T8OIt9xtIXwPx3Vt8Q7cPc/tmrEy1zW5T+scckpcBLFP2byqkA0v9q/JiQFITNw+r8c/ZQxh4bfv3SdSqUrUPG/qZfIi35q8L9ojDCzl5QEwEcKbC9mHwPAP6vMWTfCAcCcyXSEPVwJwCjJQADKg+u/ZGdZaA537r+E0Ua4QjXMv8tAKs/Ehc2/IhzkUxx8tL9p7BhyRQzxv98Fl/elcPU/CdUGyR/0/D8StedgxLIFQHI0dldp0w1AGbc70fN6D0B/9cdNTtIMQEB89LfeZQhAFceoUFzkC0BYFK1LnhEIQJ28Y/BANQ5Amja/yjDN/D8aQcsY9S3yP9w6kltgru6/7IR61zcJ6r8Atsb1vwXAv4rR/zLJ6MU/2qWM4Ir35z8H5R1SHtHZP+menoqNfQDA++0LfylrBMCJ0SMVE9sHwPYJOKMpV/+/lNdPxrzw979YZFtt0UIIwIz1fDkzZu+/wNRBM7h0+L+Viaivifv0v4jtx11nvu6/lBiwTZGu9796DFkymon/v7OLdGtNagbAMMYXmklWEcDmW+FsS4YJwAM3ZWsUJxDAEb/uwttyF8DGpSD8rekTwD07P0FumBPAaN08QlKsFMBRjpUmBQMUwGsbYI6pDhjAcZvFaxZBGMA//bNqQkwRwHZ1KdFkrgnABrLLKKLfE8D7PIY/XosQwCwISPfTAxTAvwlH3d4IC8AIHaelnDUTwOa4oetIhhLASIN59rYDCcAjQMTwvQERwCLdQC9m9BPA1+x3MUlBGMA=\",\"dtype\":\"float64\",\"order\":\"little\",\"shape\":[100]}},\"selected\":{\"id\":\"1051\"},\"selection_policy\":{\"id\":\"1052\"}},\"id\":\"1002\",\"type\":\"ColumnDataSource\"},{\"attributes\":{\"text\":\"\"},\"id\":\"1045\",\"type\":\"Title\"},{\"attributes\":{},\"id\":\"1023\",\"type\":\"SaveTool\"},{\"attributes\":{},\"id\":\"1024\",\"type\":\"ResetTool\"},{\"attributes\":{},\"id\":\"1006\",\"type\":\"DataRange1d\"},{\"attributes\":{\"formatter\":{\"id\":\"1046\"},\"ticker\":{\"id\":\"1017\"}},\"id\":\"1016\",\"type\":\"LinearAxis\"},{\"attributes\":{\"formatter\":{\"id\":\"1048\"},\"ticker\":{\"id\":\"1013\"}},\"id\":\"1012\",\"type\":\"LinearAxis\"},{\"attributes\":{},\"id\":\"1025\",\"type\":\"HelpTool\"},{\"attributes\":{\"line_alpha\":0.8,\"line_dash\":[10,4],\"x\":{\"field\":\"index\"},\"y\":{\"field\":\"value\"}},\"id\":\"1035\",\"type\":\"Line\"},{\"attributes\":{},\"id\":\"1004\",\"type\":\"DataRange1d\"},{\"attributes\":{\"source\":{\"id\":\"1002\"}},\"id\":\"1043\",\"type\":\"CDSView\"},{\"attributes\":{},\"id\":\"1010\",\"type\":\"LinearScale\"},{\"attributes\":{\"data_source\":{\"id\":\"1002\"},\"glyph\":{\"id\":\"1040\"},\"hover_glyph\":null,\"muted_glyph\":null,\"nonselection_glyph\":{\"id\":\"1041\"},\"selection_glyph\":null,\"view\":{\"id\":\"1043\"}},\"id\":\"1042\",\"type\":\"GlyphRenderer\"},{\"attributes\":{},\"id\":\"1046\",\"type\":\"BasicTickFormatter\"},{\"attributes\":{},\"id\":\"1051\",\"type\":\"Selection\"},{\"attributes\":{},\"id\":\"1013\",\"type\":\"BasicTicker\"},{\"attributes\":{},\"id\":\"1017\",\"type\":\"BasicTicker\"},{\"attributes\":{\"axis\":{\"id\":\"1012\"},\"ticker\":null},\"id\":\"1015\",\"type\":\"Grid\"},{\"attributes\":{},\"id\":\"1048\",\"type\":\"BasicTickFormatter\"},{\"attributes\":{},\"id\":\"1052\",\"type\":\"UnionRenderers\"},{\"attributes\":{\"data_source\":{\"id\":\"1002\"},\"glyph\":{\"id\":\"1035\"},\"hover_glyph\":null,\"muted_glyph\":null,\"nonselection_glyph\":{\"id\":\"1036\"},\"selection_glyph\":null,\"view\":{\"id\":\"1038\"}},\"id\":\"1037\",\"type\":\"GlyphRenderer\"},{\"attributes\":{\"fill_alpha\":{\"value\":0.8},\"fill_color\":{\"value\":\"red\"},\"line_alpha\":{\"value\":0.8},\"line_color\":{\"value\":\"red\"},\"size\":{\"units\":\"screen\",\"value\":2},\"x\":{\"field\":\"index\"},\"y\":{\"field\":\"value\"}},\"id\":\"1040\",\"type\":\"Circle\"},{\"attributes\":{\"axis\":{\"id\":\"1016\"},\"dimension\":1,\"ticker\":null},\"id\":\"1019\",\"type\":\"Grid\"},{\"attributes\":{},\"id\":\"1008\",\"type\":\"LinearScale\"},{\"attributes\":{\"fill_alpha\":{\"value\":0.1},\"fill_color\":{\"value\":\"red\"},\"line_alpha\":{\"value\":0.1},\"line_color\":{\"value\":\"red\"},\"size\":{\"units\":\"screen\",\"value\":2},\"x\":{\"field\":\"index\"},\"y\":{\"field\":\"value\"}},\"id\":\"1041\",\"type\":\"Circle\"},{\"attributes\":{\"source\":{\"id\":\"1002\"}},\"id\":\"1038\",\"type\":\"CDSView\"},{\"attributes\":{\"bottom_units\":\"screen\",\"fill_alpha\":0.5,\"fill_color\":\"lightgrey\",\"left_units\":\"screen\",\"level\":\"overlay\",\"line_alpha\":1.0,\"line_color\":\"black\",\"line_dash\":[4,4],\"line_width\":2,\"right_units\":\"screen\",\"top_units\":\"screen\"},\"id\":\"1026\",\"type\":\"BoxAnnotation\"},{\"attributes\":{\"active_drag\":\"auto\",\"active_inspect\":\"auto\",\"active_multi\":null,\"active_scroll\":\"auto\",\"active_tap\":\"auto\",\"tools\":[{\"id\":\"1020\"},{\"id\":\"1021\"},{\"id\":\"1022\"},{\"id\":\"1023\"},{\"id\":\"1024\"},{\"id\":\"1025\"}]},\"id\":\"1027\",\"type\":\"Toolbar\"}],\"root_ids\":[\"1003\"]},\"title\":\"Bokeh Application\",\"version\":\"2.2.3\"}};\n",
       "  var render_items = [{\"docid\":\"3e2248ac-c2ba-477e-80b6-9c0b8adebe9b\",\"root_ids\":[\"1003\"],\"roots\":{\"1003\":\"1152f906-f691-406c-999f-32511b9d7447\"}}];\n",
       "  root.Bokeh.embed.embed_items_notebook(docs_json, render_items);\n",
       "\n",
       "  }\n",
       "  if (root.Bokeh !== undefined) {\n",
       "    embed_document(root);\n",
       "  } else {\n",
       "    var attempts = 0;\n",
       "    var timer = setInterval(function(root) {\n",
       "      if (root.Bokeh !== undefined) {\n",
       "        clearInterval(timer);\n",
       "        embed_document(root);\n",
       "      } else {\n",
       "        attempts++;\n",
       "        if (attempts > 100) {\n",
       "          clearInterval(timer);\n",
       "          console.log(\"Bokeh: ERROR: Unable to run BokehJS code because BokehJS library is missing\");\n",
       "        }\n",
       "      }\n",
       "    }, 10, root)\n",
       "  }\n",
       "})(window);"
      ],
      "application/vnd.bokehjs_exec.v0+json": ""
     },
     "metadata": {
      "application/vnd.bokehjs_exec.v0+json": {
       "id": "1003"
      }
     },
     "output_type": "display_data"
    },
    {
     "data": {
      "text/html": [
       "<div>\n",
       "<style scoped>\n",
       "    .dataframe tbody tr th:only-of-type {\n",
       "        vertical-align: middle;\n",
       "    }\n",
       "\n",
       "    .dataframe tbody tr th {\n",
       "        vertical-align: top;\n",
       "    }\n",
       "\n",
       "    .dataframe thead th {\n",
       "        text-align: right;\n",
       "    }\n",
       "</style>\n",
       "<table border=\"1\" class=\"dataframe\">\n",
       "  <thead>\n",
       "    <tr style=\"text-align: right;\">\n",
       "      <th></th>\n",
       "      <th>value</th>\n",
       "    </tr>\n",
       "    <tr>\n",
       "      <th>index</th>\n",
       "      <th></th>\n",
       "    </tr>\n",
       "  </thead>\n",
       "  <tbody>\n",
       "    <tr>\n",
       "      <th>0</th>\n",
       "      <td>2.264380</td>\n",
       "    </tr>\n",
       "    <tr>\n",
       "      <th>1</th>\n",
       "      <td>2.363544</td>\n",
       "    </tr>\n",
       "    <tr>\n",
       "      <th>2</th>\n",
       "      <td>3.084909</td>\n",
       "    </tr>\n",
       "    <tr>\n",
       "      <th>3</th>\n",
       "      <td>3.779766</td>\n",
       "    </tr>\n",
       "    <tr>\n",
       "      <th>4</th>\n",
       "      <td>2.164925</td>\n",
       "    </tr>\n",
       "  </tbody>\n",
       "</table>\n",
       "</div>"
      ],
      "text/plain": [
       "          value\n",
       "index          \n",
       "0      2.264380\n",
       "1      2.363544\n",
       "2      3.084909\n",
       "3      3.779766\n",
       "4      2.164925"
      ]
     },
     "execution_count": 3,
     "metadata": {},
     "output_type": "execute_result"
    }
   ],
   "source": [
    "# 1、折线图 - 单线图\n",
    "\n",
    "from bokeh.models import ColumnDataSource\n",
    "# 导入ColumnDataSource模块\n",
    "# 将数据存储为ColumnDataSource对象\n",
    "# 参考文档：http://bokeh.pydata.org/en/latest/docs/user_guide/data.html\n",
    "# 可以将dict、Dataframe、group对象转化为ColumnDataSource对象\n",
    "\n",
    "df = pd.DataFrame({'value':np.random.randn(100).cumsum()})\n",
    "# 创建数据\n",
    "df.index.name = 'index'\n",
    "source = ColumnDataSource(data = df)\n",
    "# 转化为ColumnDataSource对象\n",
    "# 这里注意了，index和columns都必须有名称字段\n",
    "\n",
    "p = figure(plot_width=600, plot_height=400)\n",
    "p.line(x='index',y='value',source = source,     # 设置x，y值, source → 数据源\n",
    "       line_width=1, line_alpha = 0.8, line_color = 'black',line_dash = [10,4])   # 线型基本设置\n",
    "# 绘制折线图\n",
    "p.circle(x='index',y='value',source = source, \n",
    "         size = 2,color = 'red',alpha = 0.8)\n",
    "# 绘制折点\n",
    "\n",
    "show(p)\n",
    "df.head()"
   ]
  },
  {
   "cell_type": "code",
   "execution_count": 4,
   "metadata": {},
   "outputs": [
    {
     "name": "stdout",
     "output_type": "stream",
     "text": [
      "ColumnDataSource(id='1098', ...)\n"
     ]
    },
    {
     "data": {
      "text/html": [
       "\n",
       "\n",
       "\n",
       "\n",
       "\n",
       "\n",
       "  <div class=\"bk-root\" id=\"18716bc0-225b-42f9-a668-6dfc056f4491\" data-root-id=\"1099\"></div>\n"
      ]
     },
     "metadata": {},
     "output_type": "display_data"
    },
    {
     "data": {
      "application/javascript": [
       "(function(root) {\n",
       "  function embed_document(root) {\n",
       "    \n",
       "  var docs_json = {\"af23f326-aae1-41d9-bebb-630549eeb7d9\":{\"roots\":{\"references\":[{\"attributes\":{\"below\":[{\"id\":\"1108\"}],\"center\":[{\"id\":\"1111\"},{\"id\":\"1115\"}],\"left\":[{\"id\":\"1112\"}],\"plot_height\":400,\"renderers\":[{\"id\":\"1133\"}],\"title\":{\"id\":\"1145\"},\"toolbar\":{\"id\":\"1123\"},\"x_range\":{\"id\":\"1100\"},\"x_scale\":{\"id\":\"1104\"},\"y_range\":{\"id\":\"1102\"},\"y_scale\":{\"id\":\"1106\"}},\"id\":\"1099\",\"subtype\":\"Figure\",\"type\":\"Plot\"},{\"attributes\":{},\"id\":\"1113\",\"type\":\"BasicTicker\"},{\"attributes\":{\"axis\":{\"id\":\"1112\"},\"dimension\":1,\"ticker\":null},\"id\":\"1115\",\"type\":\"Grid\"},{\"attributes\":{\"data\":{\"index\":[0,1,2,3,4,5,6,7,8,9,10,11,12,13,14,15,16,17,18,19,20,21,22,23,24,25,26,27,28,29,30,31,32,33,34,35,36,37,38,39,40,41,42,43,44,45,46,47,48,49,50,51,52,53,54,55,56,57,58,59,60,61,62,63,64,65,66,67,68,69,70,71,72,73,74,75,76,77,78,79,80,81,82,83,84,85,86,87,88,89,90,91,92,93,94,95,96,97,98,99],\"value\":[2.2643804997840697,2.3635441274075935,3.0849086415427376,3.779765794225236,2.164924674372272,1.9068085143455922,2.1094733869902242,1.5449564305712489,-0.166205560703085,-0.4051024615763622,-1.5102821353827554,-1.8882485157757665,-2.0025651310369508,-2.439043332790141,-0.9776829503164286,-0.4933075435963257,0.7337155751751261,0.27053252267126987,0.7803613287733551,1.1147912949176888,0.9016966532031314,0.8378153037339569,-0.06100667139716098,0.20785431480244299,-0.035008114269275054,0.22150901368444084,-0.6485275385236088,1.357472981395993,1.0326427887067697,1.464900749616681,0.6824172954396406,0.16462518730521702,-0.41792017283640914,-1.652392510399531,-0.49258594362250263,-1.0820728737542966,-1.0259995899482226,-2.5725549697104277,-2.390331621632217,-2.2198321357331277,-3.170039210142205,-0.8598375325148355,-0.9520332372733091,-0.22037538526423017,-0.23064479938012136,-0.08001877830621187,-1.0654959160736104,1.3400020286065837,1.8096006252865797,2.7122886248313387,3.7282282669971716,3.93503535712706,3.6026884152076373,3.049741208218194,3.486504202032743,3.0086027061648046,3.7760027676045653,1.8000953597833473,1.136220070697226,-0.9587861813068588,-0.813625260216353,-0.12517547131339768,0.17116656294059523,0.7489675889711933,0.4033885766908302,-2.06130512520382,-2.5523252416148785,-2.9819699908786714,-1.9587799430597648,-1.496273779540819,-3.032626013137399,-0.9812255976500395,-1.528495979521992,-1.3114106046346923,-0.9607426482829604,-1.480119040935766,-1.9710943190300712,-2.8019054789487767,-4.334265144063053,-3.190573549868975,-4.038163831761042,-5.86216644842331,-4.978202762119912,-4.898858088955248,-5.168282542195222,-5.002949335935754,-6.01431868039695,-6.063562091766344,-4.324472110019371,-3.210153230741237,-4.968392026360112,-4.136101715629816,-5.003738273402671,-3.3793313300422763,-4.802355373692315,-4.63113754438948,-3.126813817580487,-4.251701127985174,-4.98867105325124,-6.063755772537852]},\"selected\":{\"id\":\"1151\"},\"selection_policy\":{\"id\":\"1152\"}},\"id\":\"1098\",\"type\":\"ColumnDataSource\"},{\"attributes\":{\"line_alpha\":0.1,\"line_dash\":[10,4],\"x\":{\"field\":\"index\"},\"y\":{\"field\":\"value\"}},\"id\":\"1132\",\"type\":\"Line\"},{\"attributes\":{\"line_alpha\":0.8,\"line_dash\":[10,4],\"x\":{\"field\":\"index\"},\"y\":{\"field\":\"value\"}},\"id\":\"1131\",\"type\":\"Line\"},{\"attributes\":{\"active_drag\":\"auto\",\"active_inspect\":\"auto\",\"active_multi\":null,\"active_scroll\":\"auto\",\"active_tap\":\"auto\",\"tools\":[{\"id\":\"1116\"},{\"id\":\"1117\"},{\"id\":\"1118\"},{\"id\":\"1119\"},{\"id\":\"1120\"},{\"id\":\"1121\"}]},\"id\":\"1123\",\"type\":\"Toolbar\"},{\"attributes\":{},\"id\":\"1109\",\"type\":\"BasicTicker\"},{\"attributes\":{\"source\":{\"id\":\"1098\"}},\"id\":\"1134\",\"type\":\"CDSView\"},{\"attributes\":{},\"id\":\"1116\",\"type\":\"PanTool\"},{\"attributes\":{},\"id\":\"1117\",\"type\":\"WheelZoomTool\"},{\"attributes\":{\"bottom_units\":\"screen\",\"fill_alpha\":0.5,\"fill_color\":\"lightgrey\",\"left_units\":\"screen\",\"level\":\"overlay\",\"line_alpha\":1.0,\"line_color\":\"black\",\"line_dash\":[4,4],\"line_width\":2,\"right_units\":\"screen\",\"top_units\":\"screen\"},\"id\":\"1122\",\"type\":\"BoxAnnotation\"},{\"attributes\":{\"overlay\":{\"id\":\"1122\"}},\"id\":\"1118\",\"type\":\"BoxZoomTool\"},{\"attributes\":{},\"id\":\"1106\",\"type\":\"LinearScale\"},{\"attributes\":{},\"id\":\"1119\",\"type\":\"SaveTool\"},{\"attributes\":{},\"id\":\"1100\",\"type\":\"DataRange1d\"},{\"attributes\":{\"text\":\"\"},\"id\":\"1145\",\"type\":\"Title\"},{\"attributes\":{},\"id\":\"1120\",\"type\":\"ResetTool\"},{\"attributes\":{},\"id\":\"1102\",\"type\":\"DataRange1d\"},{\"attributes\":{\"formatter\":{\"id\":\"1148\"},\"ticker\":{\"id\":\"1109\"}},\"id\":\"1108\",\"type\":\"LinearAxis\"},{\"attributes\":{\"data_source\":{\"id\":\"1098\"},\"glyph\":{\"id\":\"1131\"},\"hover_glyph\":null,\"muted_glyph\":null,\"nonselection_glyph\":{\"id\":\"1132\"},\"selection_glyph\":null,\"view\":{\"id\":\"1134\"}},\"id\":\"1133\",\"type\":\"GlyphRenderer\"},{\"attributes\":{},\"id\":\"1146\",\"type\":\"BasicTickFormatter\"},{\"attributes\":{\"formatter\":{\"id\":\"1146\"},\"ticker\":{\"id\":\"1113\"}},\"id\":\"1112\",\"type\":\"LinearAxis\"},{\"attributes\":{},\"id\":\"1121\",\"type\":\"HelpTool\"},{\"attributes\":{},\"id\":\"1152\",\"type\":\"UnionRenderers\"},{\"attributes\":{},\"id\":\"1104\",\"type\":\"LinearScale\"},{\"attributes\":{\"axis\":{\"id\":\"1108\"},\"ticker\":null},\"id\":\"1111\",\"type\":\"Grid\"},{\"attributes\":{},\"id\":\"1148\",\"type\":\"BasicTickFormatter\"},{\"attributes\":{},\"id\":\"1151\",\"type\":\"Selection\"}],\"root_ids\":[\"1099\"]},\"title\":\"Bokeh Application\",\"version\":\"2.2.3\"}};\n",
       "  var render_items = [{\"docid\":\"af23f326-aae1-41d9-bebb-630549eeb7d9\",\"root_ids\":[\"1099\"],\"roots\":{\"1099\":\"18716bc0-225b-42f9-a668-6dfc056f4491\"}}];\n",
       "  root.Bokeh.embed.embed_items_notebook(docs_json, render_items);\n",
       "\n",
       "  }\n",
       "  if (root.Bokeh !== undefined) {\n",
       "    embed_document(root);\n",
       "  } else {\n",
       "    var attempts = 0;\n",
       "    var timer = setInterval(function(root) {\n",
       "      if (root.Bokeh !== undefined) {\n",
       "        clearInterval(timer);\n",
       "        embed_document(root);\n",
       "      } else {\n",
       "        attempts++;\n",
       "        if (attempts > 100) {\n",
       "          clearInterval(timer);\n",
       "          console.log(\"Bokeh: ERROR: Unable to run BokehJS code because BokehJS library is missing\");\n",
       "        }\n",
       "      }\n",
       "    }, 10, root)\n",
       "  }\n",
       "})(window);"
      ],
      "application/vnd.bokehjs_exec.v0+json": ""
     },
     "metadata": {
      "application/vnd.bokehjs_exec.v0+json": {
       "id": "1099"
      }
     },
     "output_type": "display_data"
    }
   ],
   "source": [
    "from bokeh.models import ColumnDataSource\n",
    "# 导入ColumnDataSource模块\n",
    "# 将数据存储为ColumnDataSource对象\n",
    "# 参考文档：http://bokeh.pydata.org/en/latest/docs/user_guide/data.html\n",
    "# 可以将dict、Dataframe、group对象转化为ColumnDataSource对象\n",
    "\n",
    "dic = {'index':df.index.tolist(), 'value':df['value'].tolist()} #一般把它先变成字典的格式\n",
    "source = ColumnDataSource(data=dic)\n",
    "print(source)\n",
    "\n",
    "p = figure(plot_width=600, plot_height=400)\n",
    "p.line(x='index',y='value',source = source,     # 设置x，y值, source → 数据源\n",
    "       line_width=1, line_alpha = 0.8, line_color = 'black',line_dash = [10,4])   # 线型基本设置\n",
    "# 绘制折线图\n",
    "\n",
    "show(p)"
   ]
  },
  {
   "cell_type": "code",
   "execution_count": 5,
   "metadata": {},
   "outputs": [
    {
     "data": {
      "text/html": [
       "\n",
       "\n",
       "\n",
       "\n",
       "\n",
       "\n",
       "  <div class=\"bk-root\" id=\"679d2ae3-c447-445f-8b2a-1e6ea11e1793\" data-root-id=\"1199\"></div>\n"
      ]
     },
     "metadata": {},
     "output_type": "display_data"
    },
    {
     "data": {
      "application/javascript": [
       "(function(root) {\n",
       "  function embed_document(root) {\n",
       "    \n",
       "  var docs_json = {\"e0736c65-d862-46b0-bd5e-509b5206ce2b\":{\"roots\":{\"references\":[{\"attributes\":{\"below\":[{\"id\":\"1208\"}],\"center\":[{\"id\":\"1211\"},{\"id\":\"1215\"}],\"left\":[{\"id\":\"1212\"}],\"plot_height\":400,\"renderers\":[{\"id\":\"1233\"}],\"title\":{\"id\":\"1254\"},\"toolbar\":{\"id\":\"1223\"},\"x_range\":{\"id\":\"1200\"},\"x_scale\":{\"id\":\"1204\"},\"y_range\":{\"id\":\"1202\"},\"y_scale\":{\"id\":\"1206\"}},\"id\":\"1199\",\"subtype\":\"Figure\",\"type\":\"Plot\"},{\"attributes\":{},\"id\":\"1219\",\"type\":\"SaveTool\"},{\"attributes\":{\"overlay\":{\"id\":\"1222\"}},\"id\":\"1218\",\"type\":\"BoxZoomTool\"},{\"attributes\":{\"axis\":{\"id\":\"1212\"},\"dimension\":1,\"ticker\":null},\"id\":\"1215\",\"type\":\"Grid\"},{\"attributes\":{},\"id\":\"1213\",\"type\":\"BasicTicker\"},{\"attributes\":{},\"id\":\"1217\",\"type\":\"WheelZoomTool\"},{\"attributes\":{\"line_alpha\":0.1,\"line_dash\":[10,4],\"x\":{\"field\":\"a\"},\"y\":{\"field\":\"value\"}},\"id\":\"1232\",\"type\":\"Line\"},{\"attributes\":{\"bottom_units\":\"screen\",\"fill_alpha\":0.5,\"fill_color\":\"lightgrey\",\"left_units\":\"screen\",\"level\":\"overlay\",\"line_alpha\":1.0,\"line_color\":\"black\",\"line_dash\":[4,4],\"line_width\":2,\"right_units\":\"screen\",\"top_units\":\"screen\"},\"id\":\"1222\",\"type\":\"BoxAnnotation\"},{\"attributes\":{\"axis\":{\"id\":\"1208\"},\"ticker\":null},\"id\":\"1211\",\"type\":\"Grid\"},{\"attributes\":{\"data\":{\"a\":[0,1,2,3,4,5,6,7,8,9,10,11,12,13,14,15,16,17,18,19,20,21,22,23,24,25,26,27,28,29,30,31,32,33,34,35,36,37,38,39,40,41,42,43,44,45,46,47,48,49,50,51,52,53,54,55,56,57,58,59,60,61,62,63,64,65,66,67,68,69,70,71,72,73,74,75,76,77,78,79,80,81,82,83,84,85,86,87,88,89,90,91,92,93,94,95,96,97,98,99],\"value\":{\"__ndarray__\":\"hS4ChnMdAkCh8s7SiegCQDyX9JTkrQhAFOVF2fU8DkDe2xUHxFEBQCKUDaVJgv4/MD5HlTPgAEBIxvA7JLj4PzAJ0Us5RsW//vj/3zLt2b9OO7OZHSr4v6qjXxNENv6/LE8P3kAFAMBO4p4mKYMDwEboLsEtSe+/rXGnzVmS378GLf4VmXrnP60oWKRnUNE/FqFEUrj46D9ol5hlL9bxP3xxjfCy2uw/VgU0CmLP6j8QLfo0RDyvv4BZNF74mso/XCjDY5Xsob8vnsVIaFrMP/t0ENO8wOS/XsrEljW49T8OIt9xtIXwPx3Vt8Q7cPc/tmrEy1zW5T+scckpcBLFP2byqkA0v9q/JiQFITNw+r8c/ZQxh4bfv3SdSqUrUPG/qZfIi35q8L9ojDCzl5QEwEcKbC9mHwPAP6vMWTfCAcCcyXSEPVwJwCjJQADKg+u/ZGdZaA537r+E0Ua4QjXMv8tAKs/Ehc2/IhzkUxx8tL9p7BhyRQzxv98Fl/elcPU/CdUGyR/0/D8StedgxLIFQHI0dldp0w1AGbc70fN6D0B/9cdNTtIMQEB89LfeZQhAFceoUFzkC0BYFK1LnhEIQJ28Y/BANQ5Amja/yjDN/D8aQcsY9S3yP9w6kltgru6/7IR61zcJ6r8Atsb1vwXAv4rR/zLJ6MU/2qWM4Ir35z8H5R1SHtHZP+menoqNfQDA++0LfylrBMCJ0SMVE9sHwPYJOKMpV/+/lNdPxrzw979YZFtt0UIIwIz1fDkzZu+/wNRBM7h0+L+Viaivifv0v4jtx11nvu6/lBiwTZGu9796DFkymon/v7OLdGtNagbAMMYXmklWEcDmW+FsS4YJwAM3ZWsUJxDAEb/uwttyF8DGpSD8rekTwD07P0FumBPAaN08QlKsFMBRjpUmBQMUwGsbYI6pDhjAcZvFaxZBGMA//bNqQkwRwHZ1KdFkrgnABrLLKKLfE8D7PIY/XosQwCwISPfTAxTAvwlH3d4IC8AIHaelnDUTwOa4oetIhhLASIN59rYDCcAjQMTwvQERwCLdQC9m9BPA1+x3MUlBGMA=\",\"dtype\":\"float64\",\"order\":\"little\",\"shape\":[100]}},\"selected\":{\"id\":\"1260\"},\"selection_policy\":{\"id\":\"1261\"}},\"id\":\"1198\",\"type\":\"ColumnDataSource\"},{\"attributes\":{},\"id\":\"1216\",\"type\":\"PanTool\"},{\"attributes\":{},\"id\":\"1220\",\"type\":\"ResetTool\"},{\"attributes\":{\"data_source\":{\"id\":\"1198\"},\"glyph\":{\"id\":\"1231\"},\"hover_glyph\":null,\"muted_glyph\":null,\"nonselection_glyph\":{\"id\":\"1232\"},\"selection_glyph\":null,\"view\":{\"id\":\"1234\"}},\"id\":\"1233\",\"type\":\"GlyphRenderer\"},{\"attributes\":{\"active_drag\":\"auto\",\"active_inspect\":\"auto\",\"active_multi\":null,\"active_scroll\":\"auto\",\"active_tap\":\"auto\",\"tools\":[{\"id\":\"1216\"},{\"id\":\"1217\"},{\"id\":\"1218\"},{\"id\":\"1219\"},{\"id\":\"1220\"},{\"id\":\"1221\"}]},\"id\":\"1223\",\"type\":\"Toolbar\"},{\"attributes\":{},\"id\":\"1209\",\"type\":\"BasicTicker\"},{\"attributes\":{},\"id\":\"1202\",\"type\":\"DataRange1d\"},{\"attributes\":{\"formatter\":{\"id\":\"1257\"},\"ticker\":{\"id\":\"1209\"}},\"id\":\"1208\",\"type\":\"LinearAxis\"},{\"attributes\":{\"text\":\"\"},\"id\":\"1254\",\"type\":\"Title\"},{\"attributes\":{},\"id\":\"1255\",\"type\":\"BasicTickFormatter\"},{\"attributes\":{},\"id\":\"1206\",\"type\":\"LinearScale\"},{\"attributes\":{\"line_alpha\":0.8,\"line_dash\":[10,4],\"x\":{\"field\":\"a\"},\"y\":{\"field\":\"value\"}},\"id\":\"1231\",\"type\":\"Line\"},{\"attributes\":{},\"id\":\"1204\",\"type\":\"LinearScale\"},{\"attributes\":{\"source\":{\"id\":\"1198\"}},\"id\":\"1234\",\"type\":\"CDSView\"},{\"attributes\":{},\"id\":\"1261\",\"type\":\"UnionRenderers\"},{\"attributes\":{\"formatter\":{\"id\":\"1255\"},\"ticker\":{\"id\":\"1213\"}},\"id\":\"1212\",\"type\":\"LinearAxis\"},{\"attributes\":{},\"id\":\"1221\",\"type\":\"HelpTool\"},{\"attributes\":{},\"id\":\"1257\",\"type\":\"BasicTickFormatter\"},{\"attributes\":{},\"id\":\"1260\",\"type\":\"Selection\"},{\"attributes\":{},\"id\":\"1200\",\"type\":\"DataRange1d\"}],\"root_ids\":[\"1199\"]},\"title\":\"Bokeh Application\",\"version\":\"2.2.3\"}};\n",
       "  var render_items = [{\"docid\":\"e0736c65-d862-46b0-bd5e-509b5206ce2b\",\"root_ids\":[\"1199\"],\"roots\":{\"1199\":\"679d2ae3-c447-445f-8b2a-1e6ea11e1793\"}}];\n",
       "  root.Bokeh.embed.embed_items_notebook(docs_json, render_items);\n",
       "\n",
       "  }\n",
       "  if (root.Bokeh !== undefined) {\n",
       "    embed_document(root);\n",
       "  } else {\n",
       "    var attempts = 0;\n",
       "    var timer = setInterval(function(root) {\n",
       "      if (root.Bokeh !== undefined) {\n",
       "        clearInterval(timer);\n",
       "        embed_document(root);\n",
       "      } else {\n",
       "        attempts++;\n",
       "        if (attempts > 100) {\n",
       "          clearInterval(timer);\n",
       "          console.log(\"Bokeh: ERROR: Unable to run BokehJS code because BokehJS library is missing\");\n",
       "        }\n",
       "      }\n",
       "    }, 10, root)\n",
       "  }\n",
       "})(window);"
      ],
      "application/vnd.bokehjs_exec.v0+json": ""
     },
     "metadata": {
      "application/vnd.bokehjs_exec.v0+json": {
       "id": "1199"
      }
     },
     "output_type": "display_data"
    }
   ],
   "source": [
    "df.index.name = 'a'                      #不转换为字典也可以，把index提取出来\n",
    "source = ColumnDataSource(data = df)\n",
    "p = figure(plot_width=600, plot_height=400)\n",
    "p.line(x='a',y='value',source = source,     # 设置x，y值, source → 数据源\n",
    "       line_width=1, line_alpha = 0.8, line_color = 'black',line_dash = [10,4])   # 线型基本设置\n",
    "# 绘制折线图\n",
    "show(p)"
   ]
  },
  {
   "cell_type": "code",
   "execution_count": 6,
   "metadata": {},
   "outputs": [
    {
     "data": {
      "text/html": [
       "\n",
       "\n",
       "\n",
       "\n",
       "\n",
       "\n",
       "  <div class=\"bk-root\" id=\"8f0c7399-ffee-44de-badd-2987d73970e4\" data-root-id=\"1308\"></div>\n"
      ]
     },
     "metadata": {},
     "output_type": "display_data"
    },
    {
     "data": {
      "application/javascript": [
       "(function(root) {\n",
       "  function embed_document(root) {\n",
       "    \n",
       "  var docs_json = {\"71f9bbf7-2116-44d4-82fe-6c68cf65c3d1\":{\"roots\":{\"references\":[{\"attributes\":{\"below\":[{\"id\":\"1317\"}],\"center\":[{\"id\":\"1320\"},{\"id\":\"1324\"}],\"left\":[{\"id\":\"1321\"}],\"renderers\":[{\"id\":\"1342\"}],\"title\":{\"id\":\"1372\"},\"toolbar\":{\"id\":\"1332\"},\"x_range\":{\"id\":\"1309\"},\"x_scale\":{\"id\":\"1313\"},\"y_range\":{\"id\":\"1311\"},\"y_scale\":{\"id\":\"1315\"}},\"id\":\"1308\",\"subtype\":\"Figure\",\"type\":\"Plot\"},{\"attributes\":{\"data_source\":{\"id\":\"1307\"},\"glyph\":{\"id\":\"1340\"},\"hover_glyph\":null,\"muted_glyph\":null,\"nonselection_glyph\":{\"id\":\"1341\"},\"selection_glyph\":null,\"view\":{\"id\":\"1343\"}},\"id\":\"1342\",\"type\":\"GlyphRenderer\"},{\"attributes\":{},\"id\":\"1326\",\"type\":\"WheelZoomTool\"},{\"attributes\":{},\"id\":\"1318\",\"type\":\"BasicTicker\"},{\"attributes\":{\"text\":\"\"},\"id\":\"1372\",\"type\":\"Title\"},{\"attributes\":{\"active_drag\":\"auto\",\"active_inspect\":\"auto\",\"active_multi\":null,\"active_scroll\":\"auto\",\"active_tap\":\"auto\",\"tools\":[{\"id\":\"1325\"},{\"id\":\"1326\"},{\"id\":\"1327\"},{\"id\":\"1328\"},{\"id\":\"1329\"},{\"id\":\"1330\"}]},\"id\":\"1332\",\"type\":\"Toolbar\"},{\"attributes\":{\"line_alpha\":0.1,\"line_color\":\"#1f77b4\",\"x\":{\"field\":\"a\"},\"y\":{\"field\":\"value\"}},\"id\":\"1341\",\"type\":\"Line\"},{\"attributes\":{},\"id\":\"1322\",\"type\":\"BasicTicker\"},{\"attributes\":{},\"id\":\"1373\",\"type\":\"BasicTickFormatter\"},{\"attributes\":{},\"id\":\"1325\",\"type\":\"PanTool\"},{\"attributes\":{},\"id\":\"1378\",\"type\":\"Selection\"},{\"attributes\":{},\"id\":\"1309\",\"type\":\"DataRange1d\"},{\"attributes\":{},\"id\":\"1329\",\"type\":\"ResetTool\"},{\"attributes\":{\"formatter\":{\"id\":\"1375\"},\"ticker\":{\"id\":\"1318\"}},\"id\":\"1317\",\"type\":\"LinearAxis\"},{\"attributes\":{},\"id\":\"1313\",\"type\":\"LinearScale\"},{\"attributes\":{},\"id\":\"1328\",\"type\":\"SaveTool\"},{\"attributes\":{\"axis\":{\"id\":\"1317\"},\"ticker\":null},\"id\":\"1320\",\"type\":\"Grid\"},{\"attributes\":{},\"id\":\"1375\",\"type\":\"BasicTickFormatter\"},{\"attributes\":{\"axis\":{\"id\":\"1321\"},\"dimension\":1,\"ticker\":null},\"id\":\"1324\",\"type\":\"Grid\"},{\"attributes\":{\"overlay\":{\"id\":\"1331\"}},\"id\":\"1327\",\"type\":\"BoxZoomTool\"},{\"attributes\":{},\"id\":\"1379\",\"type\":\"UnionRenderers\"},{\"attributes\":{\"formatter\":{\"id\":\"1373\"},\"ticker\":{\"id\":\"1322\"}},\"id\":\"1321\",\"type\":\"LinearAxis\"},{\"attributes\":{\"source\":{\"id\":\"1307\"}},\"id\":\"1343\",\"type\":\"CDSView\"},{\"attributes\":{},\"id\":\"1311\",\"type\":\"DataRange1d\"},{\"attributes\":{\"bottom_units\":\"screen\",\"fill_alpha\":0.5,\"fill_color\":\"lightgrey\",\"left_units\":\"screen\",\"level\":\"overlay\",\"line_alpha\":1.0,\"line_color\":\"black\",\"line_dash\":[4,4],\"line_width\":2,\"right_units\":\"screen\",\"top_units\":\"screen\"},\"id\":\"1331\",\"type\":\"BoxAnnotation\"},{\"attributes\":{},\"id\":\"1330\",\"type\":\"HelpTool\"},{\"attributes\":{\"data\":{\"a\":[0,1,2,3,4,5,6,7,8,9,10,11,12,13,14,15,16,17,18,19,20,21,22,23,24,25,26,27,28,29,30,31,32,33,34,35,36,37,38,39,40,41,42,43,44,45,46,47,48,49,50,51,52,53,54,55,56,57,58,59,60,61,62,63,64,65,66,67,68,69,70,71,72,73,74,75,76,77,78,79,80,81,82,83,84,85,86,87,88,89,90,91,92,93,94,95,96,97,98,99],\"value\":{\"__ndarray__\":\"hS4ChnMdAkCh8s7SiegCQDyX9JTkrQhAFOVF2fU8DkDe2xUHxFEBQCKUDaVJgv4/MD5HlTPgAEBIxvA7JLj4PzAJ0Us5RsW//vj/3zLt2b9OO7OZHSr4v6qjXxNENv6/LE8P3kAFAMBO4p4mKYMDwEboLsEtSe+/rXGnzVmS378GLf4VmXrnP60oWKRnUNE/FqFEUrj46D9ol5hlL9bxP3xxjfCy2uw/VgU0CmLP6j8QLfo0RDyvv4BZNF74mso/XCjDY5Xsob8vnsVIaFrMP/t0ENO8wOS/XsrEljW49T8OIt9xtIXwPx3Vt8Q7cPc/tmrEy1zW5T+scckpcBLFP2byqkA0v9q/JiQFITNw+r8c/ZQxh4bfv3SdSqUrUPG/qZfIi35q8L9ojDCzl5QEwEcKbC9mHwPAP6vMWTfCAcCcyXSEPVwJwCjJQADKg+u/ZGdZaA537r+E0Ua4QjXMv8tAKs/Ehc2/IhzkUxx8tL9p7BhyRQzxv98Fl/elcPU/CdUGyR/0/D8StedgxLIFQHI0dldp0w1AGbc70fN6D0B/9cdNTtIMQEB89LfeZQhAFceoUFzkC0BYFK1LnhEIQJ28Y/BANQ5Amja/yjDN/D8aQcsY9S3yP9w6kltgru6/7IR61zcJ6r8Atsb1vwXAv4rR/zLJ6MU/2qWM4Ir35z8H5R1SHtHZP+menoqNfQDA++0LfylrBMCJ0SMVE9sHwPYJOKMpV/+/lNdPxrzw979YZFtt0UIIwIz1fDkzZu+/wNRBM7h0+L+Viaivifv0v4jtx11nvu6/lBiwTZGu9796DFkymon/v7OLdGtNagbAMMYXmklWEcDmW+FsS4YJwAM3ZWsUJxDAEb/uwttyF8DGpSD8rekTwD07P0FumBPAaN08QlKsFMBRjpUmBQMUwGsbYI6pDhjAcZvFaxZBGMA//bNqQkwRwHZ1KdFkrgnABrLLKKLfE8D7PIY/XosQwCwISPfTAxTAvwlH3d4IC8AIHaelnDUTwOa4oetIhhLASIN59rYDCcAjQMTwvQERwCLdQC9m9BPA1+x3MUlBGMA=\",\"dtype\":\"float64\",\"order\":\"little\",\"shape\":[100]}},\"selected\":{\"id\":\"1378\"},\"selection_policy\":{\"id\":\"1379\"}},\"id\":\"1307\",\"type\":\"ColumnDataSource\"},{\"attributes\":{\"line_color\":\"#1f77b4\",\"x\":{\"field\":\"a\"},\"y\":{\"field\":\"value\"}},\"id\":\"1340\",\"type\":\"Line\"},{\"attributes\":{},\"id\":\"1315\",\"type\":\"LinearScale\"}],\"root_ids\":[\"1308\"]},\"title\":\"Bokeh Application\",\"version\":\"2.2.3\"}};\n",
       "  var render_items = [{\"docid\":\"71f9bbf7-2116-44d4-82fe-6c68cf65c3d1\",\"root_ids\":[\"1308\"],\"roots\":{\"1308\":\"8f0c7399-ffee-44de-badd-2987d73970e4\"}}];\n",
       "  root.Bokeh.embed.embed_items_notebook(docs_json, render_items);\n",
       "\n",
       "  }\n",
       "  if (root.Bokeh !== undefined) {\n",
       "    embed_document(root);\n",
       "  } else {\n",
       "    var attempts = 0;\n",
       "    var timer = setInterval(function(root) {\n",
       "      if (root.Bokeh !== undefined) {\n",
       "        clearInterval(timer);\n",
       "        embed_document(root);\n",
       "      } else {\n",
       "        attempts++;\n",
       "        if (attempts > 100) {\n",
       "          clearInterval(timer);\n",
       "          console.log(\"Bokeh: ERROR: Unable to run BokehJS code because BokehJS library is missing\");\n",
       "        }\n",
       "      }\n",
       "    }, 10, root)\n",
       "  }\n",
       "})(window);"
      ],
      "application/vnd.bokehjs_exec.v0+json": ""
     },
     "metadata": {
      "application/vnd.bokehjs_exec.v0+json": {
       "id": "1308"
      }
     },
     "output_type": "display_data"
    }
   ],
   "source": [
    "df.index.name = 'a'\n",
    "source = ColumnDataSource(data = df)\n",
    "p = figure()\n",
    "p.line(x='a',y='value',source = source)     # 设置x，y值, source → 数据源\n",
    "\n",
    "show(p)"
   ]
  },
  {
   "cell_type": "code",
   "execution_count": 7,
   "metadata": {},
   "outputs": [
    {
     "data": {
      "text/html": [
       "\n",
       "\n",
       "\n",
       "\n",
       "\n",
       "\n",
       "  <div class=\"bk-root\" id=\"9ae30b64-1ead-4bb5-afb7-ee0a1525be12\" data-root-id=\"1425\"></div>\n"
      ]
     },
     "metadata": {},
     "output_type": "display_data"
    },
    {
     "data": {
      "application/javascript": [
       "(function(root) {\n",
       "  function embed_document(root) {\n",
       "    \n",
       "  var docs_json = {\"a18f31a9-183b-4127-98f8-419db366e839\":{\"roots\":{\"references\":[{\"attributes\":{\"below\":[{\"id\":\"1434\"}],\"center\":[{\"id\":\"1437\"},{\"id\":\"1441\"}],\"left\":[{\"id\":\"1438\"}],\"plot_height\":400,\"renderers\":[{\"id\":\"1459\"}],\"title\":{\"id\":\"1498\"},\"toolbar\":{\"id\":\"1449\"},\"x_range\":{\"id\":\"1426\"},\"x_scale\":{\"id\":\"1430\"},\"y_range\":{\"id\":\"1428\"},\"y_scale\":{\"id\":\"1432\"}},\"id\":\"1425\",\"subtype\":\"Figure\",\"type\":\"Plot\"},{\"attributes\":{\"data_source\":{\"id\":\"1456\"},\"glyph\":{\"id\":\"1457\"},\"hover_glyph\":null,\"muted_glyph\":null,\"nonselection_glyph\":{\"id\":\"1458\"},\"selection_glyph\":null,\"view\":{\"id\":\"1460\"}},\"id\":\"1459\",\"type\":\"GlyphRenderer\"},{\"attributes\":{\"axis\":{\"id\":\"1434\"},\"ticker\":null},\"id\":\"1437\",\"type\":\"Grid\"},{\"attributes\":{\"axis\":{\"id\":\"1438\"},\"dimension\":1,\"ticker\":null},\"id\":\"1441\",\"type\":\"Grid\"},{\"attributes\":{\"line_alpha\":{\"value\":0.1},\"line_color\":{\"field\":\"line_color\"},\"line_width\":{\"field\":\"line_width\"},\"xs\":{\"field\":\"xs\"},\"ys\":{\"field\":\"ys\"}},\"id\":\"1458\",\"type\":\"MultiLine\"},{\"attributes\":{},\"id\":\"1430\",\"type\":\"LinearScale\"},{\"attributes\":{\"data\":{\"line_alpha\":[0.8,0.6],\"line_color\":[\"firebrick\",\"navy\"],\"line_width\":[2,1],\"xs\":[[0,1,2,3,4,5,6,7,8,9,10,11,12,13,14,15,16,17,18,19,20,21,22,23,24,25,26,27,28,29,30,31,32,33,34,35,36,37,38,39,40,41,42,43,44,45,46,47,48,49,50,51,52,53,54,55,56,57,58,59,60,61,62,63,64,65,66,67,68,69,70,71,72,73,74,75,76,77,78,79,80,81,82,83,84,85,86,87,88,89,90,91,92,93,94,95,96,97,98,99],[0,1,2,3,4,5,6,7,8,9,10,11,12,13,14,15,16,17,18,19,20,21,22,23,24,25,26,27,28,29,30,31,32,33,34,35,36,37,38,39,40,41,42,43,44,45,46,47,48,49,50,51,52,53,54,55,56,57,58,59,60,61,62,63,64,65,66,67,68,69,70,71,72,73,74,75,76,77,78,79,80,81,82,83,84,85,86,87,88,89,90,91,92,93,94,95,96,97,98,99]],\"ys\":[[-0.23025973259763993,-0.5861788231731389,-1.4694067771820765,-1.2477887040649314,-2.4050479412718855,-3.4767737801420324,-3.2933442501422974,-3.9400313580212343,-5.145798659987397,-6.031670546536424,-4.378745118788199,-3.4811013266703394,-1.8014519743096533,-0.7203488084408582,-1.2179321606547857,-2.7767760894880724,-1.6052418613795516,-0.23450111613353153,0.3399977568695123,0.3067240797218874,1.4618083816243783,3.2230450176515593,3.2381885778519175,3.1683436414390953,3.9690507864490323,3.9001924783490045,2.9873183275230195,3.7990022002675787,5.2355340711820855,4.6526808492121665,6.3863377798140455,7.432370032926505,7.611967441925805,7.2638499712734665,6.658801250597411,6.733121674790713,6.603231259955868,7.046321773030382,5.905810658798785,5.932399049555351,5.507186249729152,7.726417265557506,8.130373894653186,7.619404955044438,7.3100993769876235,6.376390893668683,7.9008031464723025,7.488858257296659,6.097298456235074,8.176135872819945,8.47330415442179,9.425289056066523,8.434424506311975,10.085184900895264,9.086899004280884,9.35749724948264,10.113587737525155,9.957249405893263,11.404830423011628,11.616037243031592,11.36060285147311,10.841900122062427,10.917189042584514,11.681157517549538,13.28033019147142,15.439863299112377,14.905369053141783,16.300960668196367,15.191156440732893,15.641972523808933,17.011447168988216,17.26639097459682,16.93159773402622,16.004362536599203,17.14330320354738,18.63228513043696,18.337816556971035,17.419362801201107,17.070830184913472,16.20131226184028,17.116818743458705,17.988099941466114,18.313065298268885,17.21117933235868,16.797391828511085,16.052576782399377,15.922059861453869,15.447712166294297,13.546342015274949,13.769585683617853,14.372987978085028,13.233722309154565,13.382791928113946,13.947570555606713,15.087773210814971,15.460648124932405,15.143442905634572,14.885464383243809,14.901454590853739,13.679857136549494],[0.3046858482722005,1.2348309531728507,1.8914142757468868,3.093140667831607,2.3550472640923905,2.535991166329151,1.8308923224599405,2.0108248921927223,2.4365798756583725,3.0511557530440783,2.1574376790141345,2.3494435117024564,1.0999652133966484,1.5434530384827279,1.0813136031662296,-0.5323176221671173,0.2514179012551946,2.144726882259676,2.6017047157299475,3.077510793676848,3.691740332709391,3.821072183157607,4.149933903456841,3.4406491475544874,6.272562606612934,5.382989583195445,4.963340883445186,4.805934803111088,4.2912260616515425,6.040626787418447,4.903806304573269,5.976634251920533,5.44918561164199,7.640106620090156,7.314792055681027,8.41945440126496,8.865184644495042,8.098832709069223,7.362828588224059,7.7959596712251304,7.71569134585522,6.4771012852625915,8.155888190101287,9.423149858872506,10.544604332610144,9.222739367985216,8.281269638892521,8.109828250429016,7.109154260117993,6.985538897456342,7.557014510870685,5.826619890003871,7.719657002924506,8.3526949770658,7.081774982065812,9.242416623166429,9.036750828660287,10.07316009613949,10.099083327637729,10.113944138990426,11.85554581422452,12.143239566638083,12.157784913724596,12.509707777874224,12.030560758412463,10.29504636866462,10.004367773390136,8.95459209637568,8.800061995851362,7.5951354783234475,8.454956626087892,7.65246756702814,6.814000225867182,6.775555353407649,6.156535425812816,7.301133588550213,7.776121745853389,7.553822511008256,6.625605974020814,6.40566406831206,5.914267161381461,5.5752009979673804,5.346496333383144,6.26591518379807,7.798798749269865,8.853133928570305,8.137825051556977,7.226211040380735,6.046626365270203,6.828418364753986,8.836473251452826,9.075695145111762,8.325227562734037,8.121209558071195,7.4268199172145355,8.472312691602582,6.997937224115869,6.977122773129597,7.533380519797563,7.300962818824706]]},\"selected\":{\"id\":\"1504\"},\"selection_policy\":{\"id\":\"1505\"}},\"id\":\"1456\",\"type\":\"ColumnDataSource\"},{\"attributes\":{},\"id\":\"1505\",\"type\":\"UnionRenderers\"},{\"attributes\":{\"active_drag\":\"auto\",\"active_inspect\":\"auto\",\"active_multi\":null,\"active_scroll\":\"auto\",\"active_tap\":\"auto\",\"tools\":[{\"id\":\"1442\"},{\"id\":\"1443\"},{\"id\":\"1444\"},{\"id\":\"1445\"},{\"id\":\"1446\"},{\"id\":\"1447\"}]},\"id\":\"1449\",\"type\":\"Toolbar\"},{\"attributes\":{},\"id\":\"1499\",\"type\":\"BasicTickFormatter\"},{\"attributes\":{},\"id\":\"1442\",\"type\":\"PanTool\"},{\"attributes\":{\"bottom_units\":\"screen\",\"fill_alpha\":0.5,\"fill_color\":\"lightgrey\",\"left_units\":\"screen\",\"level\":\"overlay\",\"line_alpha\":1.0,\"line_color\":\"black\",\"line_dash\":[4,4],\"line_width\":2,\"right_units\":\"screen\",\"top_units\":\"screen\"},\"id\":\"1448\",\"type\":\"BoxAnnotation\"},{\"attributes\":{},\"id\":\"1432\",\"type\":\"LinearScale\"},{\"attributes\":{},\"id\":\"1439\",\"type\":\"BasicTicker\"},{\"attributes\":{},\"id\":\"1501\",\"type\":\"BasicTickFormatter\"},{\"attributes\":{\"text\":\"\"},\"id\":\"1498\",\"type\":\"Title\"},{\"attributes\":{},\"id\":\"1443\",\"type\":\"WheelZoomTool\"},{\"attributes\":{\"formatter\":{\"id\":\"1501\"},\"ticker\":{\"id\":\"1435\"}},\"id\":\"1434\",\"type\":\"LinearAxis\"},{\"attributes\":{\"overlay\":{\"id\":\"1448\"}},\"id\":\"1444\",\"type\":\"BoxZoomTool\"},{\"attributes\":{},\"id\":\"1428\",\"type\":\"DataRange1d\"},{\"attributes\":{},\"id\":\"1445\",\"type\":\"SaveTool\"},{\"attributes\":{},\"id\":\"1446\",\"type\":\"ResetTool\"},{\"attributes\":{},\"id\":\"1447\",\"type\":\"HelpTool\"},{\"attributes\":{\"line_alpha\":{\"field\":\"line_alpha\"},\"line_color\":{\"field\":\"line_color\"},\"line_width\":{\"field\":\"line_width\"},\"xs\":{\"field\":\"xs\"},\"ys\":{\"field\":\"ys\"}},\"id\":\"1457\",\"type\":\"MultiLine\"},{\"attributes\":{\"source\":{\"id\":\"1456\"}},\"id\":\"1460\",\"type\":\"CDSView\"},{\"attributes\":{},\"id\":\"1426\",\"type\":\"DataRange1d\"},{\"attributes\":{},\"id\":\"1504\",\"type\":\"Selection\"},{\"attributes\":{\"formatter\":{\"id\":\"1499\"},\"ticker\":{\"id\":\"1439\"}},\"id\":\"1438\",\"type\":\"LinearAxis\"},{\"attributes\":{},\"id\":\"1435\",\"type\":\"BasicTicker\"}],\"root_ids\":[\"1425\"]},\"title\":\"Bokeh Application\",\"version\":\"2.2.3\"}};\n",
       "  var render_items = [{\"docid\":\"a18f31a9-183b-4127-98f8-419db366e839\",\"root_ids\":[\"1425\"],\"roots\":{\"1425\":\"9ae30b64-1ead-4bb5-afb7-ee0a1525be12\"}}];\n",
       "  root.Bokeh.embed.embed_items_notebook(docs_json, render_items);\n",
       "\n",
       "  }\n",
       "  if (root.Bokeh !== undefined) {\n",
       "    embed_document(root);\n",
       "  } else {\n",
       "    var attempts = 0;\n",
       "    var timer = setInterval(function(root) {\n",
       "      if (root.Bokeh !== undefined) {\n",
       "        clearInterval(timer);\n",
       "        embed_document(root);\n",
       "      } else {\n",
       "        attempts++;\n",
       "        if (attempts > 100) {\n",
       "          clearInterval(timer);\n",
       "          console.log(\"Bokeh: ERROR: Unable to run BokehJS code because BokehJS library is missing\");\n",
       "        }\n",
       "      }\n",
       "    }, 10, root)\n",
       "  }\n",
       "})(window);"
      ],
      "application/vnd.bokehjs_exec.v0+json": ""
     },
     "metadata": {
      "application/vnd.bokehjs_exec.v0+json": {
       "id": "1425"
      }
     },
     "output_type": "display_data"
    }
   ],
   "source": [
    "# 2、折线图 - 多线图\n",
    "# ① multi_line\n",
    "\n",
    "df = pd.DataFrame({'A':np.random.randn(100).cumsum(),\"B\":np.random.randn(100).cumsum()})\n",
    "# 创建数据\n",
    "\n",
    "p = figure(plot_width=600, plot_height=400)\n",
    "p.multi_line([df.index, df.index],  #第一条线的横坐标和第二条线的横坐标\n",
    "             [df['A'], df['B']],   # 注意x，y值的设置 → [x1,x2,x3,..], [y1,y2,y3,...]  第一条线的Y值和第二条线的Y值\n",
    "             color=[\"firebrick\", \"navy\"],    # 可同时设置 → color= \"firebrick\"；也可以统一弄成一个颜色。\n",
    "             alpha=[0.8, 0.6],     # 可同时设置 → alpha = 0.6\n",
    "             line_width=[2,1],     # 可同时设置 → line_width = 2\n",
    "            )\n",
    "# 绘制多段线\n",
    "# 这里由于需要输入具体值，故直接用dataframe，或者dict即可\n",
    "\n",
    "show(p)"
   ]
  },
  {
   "cell_type": "code",
   "execution_count": 11,
   "metadata": {},
   "outputs": [
    {
     "data": {
      "text/html": [
       "\n",
       "\n",
       "\n",
       "\n",
       "\n",
       "\n",
       "  <div class=\"bk-root\" id=\"47ab1ffa-c5df-4639-aa55-aa33b94ee717\" data-root-id=\"2748\"></div>\n"
      ]
     },
     "metadata": {},
     "output_type": "display_data"
    },
    {
     "data": {
      "application/javascript": [
       "(function(root) {\n",
       "  function embed_document(root) {\n",
       "    \n",
       "  var docs_json = {\"0e16d676-92b2-401b-ae88-33e889c08bc7\":{\"roots\":{\"references\":[{\"attributes\":{\"below\":[{\"id\":\"2759\"}],\"center\":[{\"id\":\"2762\"},{\"id\":\"2766\"},{\"id\":\"2794\"}],\"left\":[{\"id\":\"2763\"}],\"renderers\":[{\"id\":\"2784\"},{\"id\":\"2799\"},{\"id\":\"2815\"},{\"id\":\"2832\"},{\"id\":\"2852\"},{\"id\":\"2873\"},{\"id\":\"2897\"},{\"id\":\"2923\"}],\"title\":{\"id\":\"2749\"},\"toolbar\":{\"id\":\"2774\"},\"x_range\":{\"id\":\"2751\"},\"x_scale\":{\"id\":\"2755\"},\"y_range\":{\"id\":\"2753\"},\"y_scale\":{\"id\":\"2757\"}},\"id\":\"2748\",\"subtype\":\"Figure\",\"type\":\"Plot\"},{\"attributes\":{},\"id\":\"2809\",\"type\":\"Selection\"},{\"attributes\":{\"data\":{\"x\":{\"__ndarray__\":\"mpmZmZmZuT/OvX+HpiLDP86uMkKAeMk/z5/l/FnOzz9oSMzbGRLTP+jAJbkGPdY/aDl/lvNn2T/qsdhz4JLcP2oqMlHNvd8/ddFFF1104T+1jfKF0wnjP/VJn/RJn+Q/NQZMY8A05j91wvjRNsrnP7Z+pUCtX+k/9jpSryP16j829/4dmorsP3azq4wQIO4/tm9Y+4a17z/8lQK1fqXwPxz0WOw5cPE/PFKvI/U68j9csAVbsAXzP3wOXJJr0PM/nGyyySab9D+8yggB4mX1P9woXzidMPY//Ya1b1j79j8d5QunE8b3Pz1DYt7OkPg/XaG4FYpb+T99/w5NRSb6P51dZYQA8fo/vbu7u7u7+z/dGRLzdob8P/13aCoyUf0/Hda+Ye0b/j89NBWZqOb+P16Sa9Bjsf8/P/jggw8+AEBPJ4wfbaMAQF9WN7vKCAFAb4XiVihuAUB/tI3yhdMBQI/jOI7jOAJAnxLkKUGeAkCvQY/FngMDQL9wOmH8aANAz5/l/FnOA0DfzpCYtzMEQO/9OzQVmQRA/yznz3L+BEAPXJJr0GMFQB+LPQcuyQVAMLrooosuBkBA6ZM+6ZMGQFAYP9pG+QZAYEfqdaReB0BwdpURAsQHQIClQK1fKQhAkNTrSL2OCECgA5fkGvQIQLAyQoB4WQlAwGHtG9a+CUDQkJi3MyQKQOC/Q1ORiQpA8O7u7u7uCkAAHpqKTFQLQBBNRSaquQtAIHzwwQcfDEAwq5tdZYQMQEDaRvnC6QxAUAnylCBPDUBgOJ0wfrQNQHBnSMzbGQ5AgZbzZzl/DkCRxZ4Dl+QOQKH0SZ/0SQ9AsSP1OlKvD0BgKVDrVwoQQOjAJbkGPRBAcFj7hrVvEED479BUZKIQQICHpiIT1RBACB988MEHEUCQtlG+cDoRQBhOJ4wfbRFAoOX8Wc6fEUAofdInfdIRQLAUqPUrBRJAOKx9w9o3EkDAQ1ORiWoSQEjbKF84nRJA0HL+LOfPEkBYCtT6lQITQOChqchENRNAaDl/lvNnE0Dw0FRkopoTQHhoKjJRzRNAAAAAAAAAFEA=\",\"dtype\":\"float64\",\"order\":\"little\",\"shape\":[100]},\"y\":{\"__ndarray__\":\"LCYBeWhf8D9YMo0XTNjwP7lwLUUCh/E/NjZCrMRx8j87ZNvsLqHzP+s6F4zFIPU/YAoDerD/9j+XyDq0uVH5P0MCUFynMPw/TRHUKBK+/z+8f05U8xICQA0App3p0ARAcZq3UwA/CECU6ZL4zY8MQIFhtex8AxFAP6btxtB/FEBKjPbKsfoYQGM2kHGfyB5AMZpbeAIvI0AH5FKJSC4oQIYxvnNS0y5AiHHCVfbeM0C9O/c5zOg5QOW5WYFAFUFAJuWASVPIRkBm4ubKcbpOQH4/7XEv9VRADuRKK4PpXEBjRQHMRytkQDSIFrOEdWxANGXnGldOdECK2v+QXk59QI2vcbE4Y4VAeoIUQEqSj0DzJrXrC5GXQMXu6N55yqFABtZBY48qq0BNolG88/m0QIE0fTFxYcBAtutQNLLfyUCPyYwgiarUQF14O/2kseBAHGzPk8BG60AR7qUTUYn2QDQya/DT1AJBEgzOQ/PTD0EtCEvtxTMbQSlVrNU4gydBCZrJvtCNNEHvLeFb5itCQSWl2HpXP1BB9xUmlEJiXUGkaOoFQt9qQUBCEYqY2nhBMtlXhIA/h0FIwsH6IP6VQYUylEGJCqVBAZ+ndvNbtEF9K1xSPezDQeyPmeGLt9NBstmtihK840HfyIy9+PnzQYI/tDJccwRCHtS25m8sFUKfdupPuismQtnPVt13ejdCRZGI5yklSUKTfq80XjxbQqfO8X3A1W1Cfi4jU8eGgEJPL1U5SYSSQnKjp+9o+6RCBDpeyJ0LuEJ6oL8YWd7LQjRq+AFBVeBCKHUzg6Zc80KX55M5gTYHQyX22z1FJRxDefJ5c75BMUPhskwkvGZFQyjaa1mg11pDdqC5HDYGcUMsRNBD9taFQ7zVXEjHVZxDvV7SUPSWskNBaeCWN6vIQ1MK4gW+jeBDUmAb4uJ39kNvBEh2m9cORMzBz6igaCVEHdjoee0OPkSJtWQLN1dVRJ1sFjyEpW5EdLhNtDxBhkRmx7muJFigRHoUFimIR7hEeEGiGvQ80kTHykxO/LXrRAshCGZtSgVFkQIoLCqLIEU=\",\"dtype\":\"float64\",\"order\":\"little\",\"shape\":[100]}},\"selected\":{\"id\":\"2945\"},\"selection_policy\":{\"id\":\"2946\"}},\"id\":\"2920\",\"type\":\"ColumnDataSource\"},{\"attributes\":{\"items\":[{\"id\":\"2795\"},{\"id\":\"2811\"},{\"id\":\"2848\"},{\"id\":\"2893\"},{\"id\":\"2919\"},{\"id\":\"2947\"}],\"location\":\"top_left\"},\"id\":\"2794\",\"type\":\"Legend\"},{\"attributes\":{\"source\":{\"id\":\"2894\"}},\"id\":\"2898\",\"type\":\"CDSView\"},{\"attributes\":{\"ticker\":null},\"id\":\"2787\",\"type\":\"LogTickFormatter\"},{\"attributes\":{\"data_source\":{\"id\":\"2894\"},\"glyph\":{\"id\":\"2895\"},\"hover_glyph\":null,\"muted_glyph\":null,\"nonselection_glyph\":{\"id\":\"2896\"},\"selection_glyph\":null,\"view\":{\"id\":\"2898\"}},\"id\":\"2897\",\"type\":\"GlyphRenderer\"},{\"attributes\":{},\"id\":\"2789\",\"type\":\"BasicTickFormatter\"},{\"attributes\":{\"line_alpha\":0.1,\"line_color\":\"indigo\",\"line_dash\":[2,4],\"line_width\":2,\"x\":{\"field\":\"x\"},\"y\":{\"field\":\"y\"}},\"id\":\"2896\",\"type\":\"Line\"},{\"attributes\":{},\"id\":\"2792\",\"type\":\"Selection\"},{\"attributes\":{},\"id\":\"2917\",\"type\":\"Selection\"},{\"attributes\":{},\"id\":\"2793\",\"type\":\"UnionRenderers\"},{\"attributes\":{\"label\":{\"value\":\"y=sqrt(x)\"},\"renderers\":[{\"id\":\"2784\"}]},\"id\":\"2795\",\"type\":\"LegendItem\"},{\"attributes\":{\"label\":{\"value\":\"y=x^x\"},\"renderers\":[{\"id\":\"2897\"}]},\"id\":\"2919\",\"type\":\"LegendItem\"},{\"attributes\":{\"data\":{\"x\":{\"__ndarray__\":\"mpmZmZmZuT/OvX+HpiLDP86uMkKAeMk/z5/l/FnOzz9oSMzbGRLTP+jAJbkGPdY/aDl/lvNn2T/qsdhz4JLcP2oqMlHNvd8/ddFFF1104T+1jfKF0wnjP/VJn/RJn+Q/NQZMY8A05j91wvjRNsrnP7Z+pUCtX+k/9jpSryP16j829/4dmorsP3azq4wQIO4/tm9Y+4a17z/8lQK1fqXwPxz0WOw5cPE/PFKvI/U68j9csAVbsAXzP3wOXJJr0PM/nGyyySab9D+8yggB4mX1P9woXzidMPY//Ya1b1j79j8d5QunE8b3Pz1DYt7OkPg/XaG4FYpb+T99/w5NRSb6P51dZYQA8fo/vbu7u7u7+z/dGRLzdob8P/13aCoyUf0/Hda+Ye0b/j89NBWZqOb+P16Sa9Bjsf8/P/jggw8+AEBPJ4wfbaMAQF9WN7vKCAFAb4XiVihuAUB/tI3yhdMBQI/jOI7jOAJAnxLkKUGeAkCvQY/FngMDQL9wOmH8aANAz5/l/FnOA0DfzpCYtzMEQO/9OzQVmQRA/yznz3L+BEAPXJJr0GMFQB+LPQcuyQVAMLrooosuBkBA6ZM+6ZMGQFAYP9pG+QZAYEfqdaReB0BwdpURAsQHQIClQK1fKQhAkNTrSL2OCECgA5fkGvQIQLAyQoB4WQlAwGHtG9a+CUDQkJi3MyQKQOC/Q1ORiQpA8O7u7u7uCkAAHpqKTFQLQBBNRSaquQtAIHzwwQcfDEAwq5tdZYQMQEDaRvnC6QxAUAnylCBPDUBgOJ0wfrQNQHBnSMzbGQ5AgZbzZzl/DkCRxZ4Dl+QOQKH0SZ/0SQ9AsSP1OlKvD0BgKVDrVwoQQOjAJbkGPRBAcFj7hrVvEED479BUZKIQQICHpiIT1RBACB988MEHEUCQtlG+cDoRQBhOJ4wfbRFAoOX8Wc6fEUAofdInfdIRQLAUqPUrBRJAOKx9w9o3EkDAQ1ORiWoSQEjbKF84nRJA0HL+LOfPEkBYCtT6lQITQOChqchENRNAaDl/lvNnE0Dw0FRkopoTQHhoKjJRzRNAAAAAAAAAFEA=\",\"dtype\":\"float64\",\"order\":\"little\",\"shape\":[100]},\"y\":{\"__ndarray__\":\"mpmZmZmZuT/OvX+HpiLDP86uMkKAeMk/z5/l/FnOzz9oSMzbGRLTP+jAJbkGPdY/aDl/lvNn2T/qsdhz4JLcP2oqMlHNvd8/ddFFF1104T+1jfKF0wnjP/VJn/RJn+Q/NQZMY8A05j91wvjRNsrnP7Z+pUCtX+k/9jpSryP16j829/4dmorsP3azq4wQIO4/tm9Y+4a17z/8lQK1fqXwPxz0WOw5cPE/PFKvI/U68j9csAVbsAXzP3wOXJJr0PM/nGyyySab9D+8yggB4mX1P9woXzidMPY//Ya1b1j79j8d5QunE8b3Pz1DYt7OkPg/XaG4FYpb+T99/w5NRSb6P51dZYQA8fo/vbu7u7u7+z/dGRLzdob8P/13aCoyUf0/Hda+Ye0b/j89NBWZqOb+P16Sa9Bjsf8/P/jggw8+AEBPJ4wfbaMAQF9WN7vKCAFAb4XiVihuAUB/tI3yhdMBQI/jOI7jOAJAnxLkKUGeAkCvQY/FngMDQL9wOmH8aANAz5/l/FnOA0DfzpCYtzMEQO/9OzQVmQRA/yznz3L+BEAPXJJr0GMFQB+LPQcuyQVAMLrooosuBkBA6ZM+6ZMGQFAYP9pG+QZAYEfqdaReB0BwdpURAsQHQIClQK1fKQhAkNTrSL2OCECgA5fkGvQIQLAyQoB4WQlAwGHtG9a+CUDQkJi3MyQKQOC/Q1ORiQpA8O7u7u7uCkAAHpqKTFQLQBBNRSaquQtAIHzwwQcfDEAwq5tdZYQMQEDaRvnC6QxAUAnylCBPDUBgOJ0wfrQNQHBnSMzbGQ5AgZbzZzl/DkCRxZ4Dl+QOQKH0SZ/0SQ9AsSP1OlKvD0BgKVDrVwoQQOjAJbkGPRBAcFj7hrVvEED479BUZKIQQICHpiIT1RBACB988MEHEUCQtlG+cDoRQBhOJ4wfbRFAoOX8Wc6fEUAofdInfdIRQLAUqPUrBRJAOKx9w9o3EkDAQ1ORiWoSQEjbKF84nRJA0HL+LOfPEkBYCtT6lQITQOChqchENRNAaDl/lvNnE0Dw0FRkopoTQHhoKjJRzRNAAAAAAAAAFEA=\",\"dtype\":\"float64\",\"order\":\"little\",\"shape\":[100]}},\"selected\":{\"id\":\"2827\"},\"selection_policy\":{\"id\":\"2828\"}},\"id\":\"2812\",\"type\":\"ColumnDataSource\"},{\"attributes\":{},\"id\":\"2918\",\"type\":\"UnionRenderers\"},{\"attributes\":{},\"id\":\"2869\",\"type\":\"UnionRenderers\"},{\"attributes\":{\"source\":{\"id\":\"2796\"}},\"id\":\"2800\",\"type\":\"CDSView\"},{\"attributes\":{\"source\":{\"id\":\"2920\"}},\"id\":\"2924\",\"type\":\"CDSView\"},{\"attributes\":{\"data_source\":{\"id\":\"2796\"},\"glyph\":{\"id\":\"2797\"},\"hover_glyph\":null,\"muted_glyph\":null,\"nonselection_glyph\":{\"id\":\"2798\"},\"selection_glyph\":null,\"view\":{\"id\":\"2800\"}},\"id\":\"2799\",\"type\":\"GlyphRenderer\"},{\"attributes\":{\"line_alpha\":0.1,\"line_color\":\"#1f77b4\",\"x\":{\"field\":\"x\"},\"y\":{\"field\":\"y\"}},\"id\":\"2798\",\"type\":\"Line\"},{\"attributes\":{\"data_source\":{\"id\":\"2920\"},\"glyph\":{\"id\":\"2921\"},\"hover_glyph\":null,\"muted_glyph\":null,\"nonselection_glyph\":{\"id\":\"2922\"},\"selection_glyph\":null,\"view\":{\"id\":\"2924\"}},\"id\":\"2923\",\"type\":\"GlyphRenderer\"},{\"attributes\":{\"data\":{\"x\":{\"__ndarray__\":\"mpmZmZmZuT/OvX+HpiLDP86uMkKAeMk/z5/l/FnOzz9oSMzbGRLTP+jAJbkGPdY/aDl/lvNn2T/qsdhz4JLcP2oqMlHNvd8/ddFFF1104T+1jfKF0wnjP/VJn/RJn+Q/NQZMY8A05j91wvjRNsrnP7Z+pUCtX+k/9jpSryP16j829/4dmorsP3azq4wQIO4/tm9Y+4a17z/8lQK1fqXwPxz0WOw5cPE/PFKvI/U68j9csAVbsAXzP3wOXJJr0PM/nGyyySab9D+8yggB4mX1P9woXzidMPY//Ya1b1j79j8d5QunE8b3Pz1DYt7OkPg/XaG4FYpb+T99/w5NRSb6P51dZYQA8fo/vbu7u7u7+z/dGRLzdob8P/13aCoyUf0/Hda+Ye0b/j89NBWZqOb+P16Sa9Bjsf8/P/jggw8+AEBPJ4wfbaMAQF9WN7vKCAFAb4XiVihuAUB/tI3yhdMBQI/jOI7jOAJAnxLkKUGeAkCvQY/FngMDQL9wOmH8aANAz5/l/FnOA0DfzpCYtzMEQO/9OzQVmQRA/yznz3L+BEAPXJJr0GMFQB+LPQcuyQVAMLrooosuBkBA6ZM+6ZMGQFAYP9pG+QZAYEfqdaReB0BwdpURAsQHQIClQK1fKQhAkNTrSL2OCECgA5fkGvQIQLAyQoB4WQlAwGHtG9a+CUDQkJi3MyQKQOC/Q1ORiQpA8O7u7u7uCkAAHpqKTFQLQBBNRSaquQtAIHzwwQcfDEAwq5tdZYQMQEDaRvnC6QxAUAnylCBPDUBgOJ0wfrQNQHBnSMzbGQ5AgZbzZzl/DkCRxZ4Dl+QOQKH0SZ/0SQ9AsSP1OlKvD0BgKVDrVwoQQOjAJbkGPRBAcFj7hrVvEED479BUZKIQQICHpiIT1RBACB988MEHEUCQtlG+cDoRQBhOJ4wfbRFAoOX8Wc6fEUAofdInfdIRQLAUqPUrBRJAOKx9w9o3EkDAQ1ORiWoSQEjbKF84nRJA0HL+LOfPEkBYCtT6lQITQOChqchENRNAaDl/lvNnE0Dw0FRkopoTQHhoKjJRzRNAAAAAAAAAFEA=\",\"dtype\":\"float64\",\"order\":\"little\",\"shape\":[100]},\"y\":{\"__ndarray__\":\"fBSuR+F6hD/GgVSMluKWP1+/YSsORqQ/lwCSAQGdrz9Egl3kEbu2P5hlbkC76L4/JNV9Sr4rxD8uqALxqoPJP+OrxZMjfM8/I3BjGZQK0z+sIgNnXKfWP4ztwbJqlNo/w9Cf/L7R3j8pZk6irK/hPx1wXMWcHuQ/OwZ656+15j+FKKcI5nTpP/rW4yg/XOw/mxEwSLtr7z827EUzrVHxP7KV+0GOAfM/RAU50IDF9D/sOv7dhJ32P6k2S2uaifg/fPgfeMGJ+j9lgHwE+p38P2TOYBBExv4/PnHmzU+BAEBTXmBThqkBQHMunpjF2wJAnuGfnQ0YBEDUd2ViXl4FQBXx7ua3rgZAYU08KxoJCEC3jE0vhW0JQBmvIvP42wpAhbS7dnVUDED8nBi6+tYNQIBoOb2IYw9AhwsPwA99EEBTVGOBX00RQKSOmaKzIhJAe7qxIwz9EkDX16sEadwTQLnmh0XKwBRAIOdF5i+qFUAN2eXmmZgWQH+8Z0cIjBdAd5HLB3uEGED0VxEo8oEZQPYPOahthBpAfrlCiO2LG0CLVC7IcZgcQB7h+2f6qR1AOV+rZ4fAHkDXzjzHGNwfQP0XWENXfiBAUcECUyQRIUBoY56Sc6YhQEL+KgJFPiJA3pGooZjYIkA+HhdxbnUjQGCjdnDGFCRARCHHn6C2JEDrlwj//FolQFYHO47bASZAgm9eTTyrJkBy0HI8H1cnQCQqeFuEBShAmXxuqmu2KEDRx1Up1WkpQMsLLtjAHypAiEj3ti7YKkAIfrHFHpMrQEusXASRUCxAUtP4coUQLUAa84UR/NItQKULBOD0ly5A8hxz3m9fL0CAk2mGthQwQOoUkjX2ejBAtRKz/HbiMEDhjMzbOEsxQG6D3tI7tTFAXfbo4X8gMkCt5esIBY0yQF9R50fL+jJAcjnbntJpM0DmnccNG9ozQLx+rJSkSzRA89uJM2++NECMtV/qejI1QIULLrnHpzVA4d30n1UeNkCdLLSeJJY2QLv3a7U0DzdAOj8c5IWJN0AbA8UqGAU4QF1DZonrgThAAAAAAAAAOUA=\",\"dtype\":\"float64\",\"order\":\"little\",\"shape\":[100]}},\"selected\":{\"id\":\"2846\"},\"selection_policy\":{\"id\":\"2847\"}},\"id\":\"2829\",\"type\":\"ColumnDataSource\"},{\"attributes\":{\"line_alpha\":0.1,\"line_color\":\"coral\",\"line_dash\":[6],\"line_width\":2,\"x\":{\"field\":\"x\"},\"y\":{\"field\":\"y\"}},\"id\":\"2922\",\"type\":\"Line\"},{\"attributes\":{\"data\":{\"x\":{\"__ndarray__\":\"mpmZmZmZuT/OvX+HpiLDP86uMkKAeMk/z5/l/FnOzz9oSMzbGRLTP+jAJbkGPdY/aDl/lvNn2T/qsdhz4JLcP2oqMlHNvd8/ddFFF1104T+1jfKF0wnjP/VJn/RJn+Q/NQZMY8A05j91wvjRNsrnP7Z+pUCtX+k/9jpSryP16j829/4dmorsP3azq4wQIO4/tm9Y+4a17z/8lQK1fqXwPxz0WOw5cPE/PFKvI/U68j9csAVbsAXzP3wOXJJr0PM/nGyyySab9D+8yggB4mX1P9woXzidMPY//Ya1b1j79j8d5QunE8b3Pz1DYt7OkPg/XaG4FYpb+T99/w5NRSb6P51dZYQA8fo/vbu7u7u7+z/dGRLzdob8P/13aCoyUf0/Hda+Ye0b/j89NBWZqOb+P16Sa9Bjsf8/P/jggw8+AEBPJ4wfbaMAQF9WN7vKCAFAb4XiVihuAUB/tI3yhdMBQI/jOI7jOAJAnxLkKUGeAkCvQY/FngMDQL9wOmH8aANAz5/l/FnOA0DfzpCYtzMEQO/9OzQVmQRA/yznz3L+BEAPXJJr0GMFQB+LPQcuyQVAMLrooosuBkBA6ZM+6ZMGQFAYP9pG+QZAYEfqdaReB0BwdpURAsQHQIClQK1fKQhAkNTrSL2OCECgA5fkGvQIQLAyQoB4WQlAwGHtG9a+CUDQkJi3MyQKQOC/Q1ORiQpA8O7u7u7uCkAAHpqKTFQLQBBNRSaquQtAIHzwwQcfDEAwq5tdZYQMQEDaRvnC6QxAUAnylCBPDUBgOJ0wfrQNQHBnSMzbGQ5AgZbzZzl/DkCRxZ4Dl+QOQKH0SZ/0SQ9AsSP1OlKvD0BgKVDrVwoQQOjAJbkGPRBAcFj7hrVvEED479BUZKIQQICHpiIT1RBACB988MEHEUCQtlG+cDoRQBhOJ4wfbRFAoOX8Wc6fEUAofdInfdIRQLAUqPUrBRJAOKx9w9o3EkDAQ1ORiWoSQEjbKF84nRJA0HL+LOfPEkBYCtT6lQITQOChqchENRNAaDl/lvNnE0Dw0FRkopoTQHhoKjJRzRNAAAAAAAAAFEA=\",\"dtype\":\"float64\",\"order\":\"little\",\"shape\":[100]},\"y\":{\"__ndarray__\":\"D0lIYhM91D8QPZjjzb7YPzK64wifjNw/GXn6VSPn3z//ye9jz3fhP16ivPPv3OI/DfNMwmkp5D9W5tY7u2HlPwwBnbAqieY/tAshZjGi5z8jQ5ybu67oP7E4kPFQsOk/hczrDC+o6j/0iwzLW5frP5k2qxOyfuw/0YpNHOte7T/e9yZApTjuP6j3dSdpDO8/c6shuq3a7z8NtseY7VHwP2lp98EmtPA/GIsYKSsU8T9PAyw7H3LxP25i6aMjzvE/hhwD01Uo8j8TapBq0IDyP2srOpur1/I/LTC4cf0s8z9FEmIY2oDzP2TM/g5U0/M/XK6KWnwk9D+ErVKuYnT0PwBsf48Vw/Q/97f0c6IQ9T9mEkDdFV31P5RXL3B7qPU/qeqNCd7y9T/qSnHQRzz2P0WZbEbChPY/8HH0VVbM9j8E7TBfDBP3P+4VckPsWPc/r0xzb/2d9z9sfJPkRuL3PzCgIkHPJfg/fX7gx5xo+D9srcRmtar4P/OyJL0e7Pg/WVVKId4s+T8X2Yml+Gz5P5Tq5RxzrPk/MzxNH1Lr+T9+aXwNmin6P9BrjRRPZ/o/HdU8MXWk+j+cEuwyEOH6Py0mZ74jHfs/oI1zULNY+z9zbi1AwpP7PyeQN8FTzvs/7DPC5WoI/D/9a2ygCkL8P1Q1A8Y1e/w/FUIhD++z/D8sGLIZOez8P2DlWmoWJP0/Ty/LbYlb/T87Ufd5lJL9P++KPs85yf0/ODp+mXv//T8MsxPxWzX+PxgJztvcav4/Qf/QTQCg/j+9NmoqyNT+PwKf2UQ2Cf8/6REOYUw9/z+N81Y0DHH/P5KbC2Z3pP8/Mj0pkI/X/z9y+vMfKwUAQHrKI3tmHgBAK19KlHo3AED5Y3MgaFAAQFt2S88vaQBAoZdYS9KBAEAOrS86UJoAQJs9pzyqsgBAepkH7+DKAEAllDjp9OIAQMf27L7m+gBARc7L/7YSAUCEtZc3ZioBQF46VO70QQFAl3lpqGNZAUA3DMbmsnABQNte/ybjhwFA/Ylw4/SeAUCcwFeT6LUBQFhp8qq+zAFAqPSXm3fjAUA=\",\"dtype\":\"float64\",\"order\":\"little\",\"shape\":[100]}},\"selected\":{\"id\":\"2792\"},\"selection_policy\":{\"id\":\"2793\"}},\"id\":\"2781\",\"type\":\"ColumnDataSource\"},{\"attributes\":{},\"id\":\"2945\",\"type\":\"Selection\"},{\"attributes\":{\"label\":{\"value\":\"y=x\"},\"renderers\":[{\"id\":\"2799\"},{\"id\":\"2815\"}]},\"id\":\"2811\",\"type\":\"LegendItem\"},{\"attributes\":{\"data_source\":{\"id\":\"2812\"},\"glyph\":{\"id\":\"2813\"},\"hover_glyph\":null,\"muted_glyph\":null,\"nonselection_glyph\":{\"id\":\"2814\"},\"selection_glyph\":null,\"view\":{\"id\":\"2816\"}},\"id\":\"2815\",\"type\":\"GlyphRenderer\"},{\"attributes\":{\"label\":{\"value\":\"y=10^(x^2)\"},\"renderers\":[{\"id\":\"2923\"}]},\"id\":\"2947\",\"type\":\"LegendItem\"},{\"attributes\":{},\"id\":\"2810\",\"type\":\"UnionRenderers\"},{\"attributes\":{\"line_color\":\"#1f77b4\",\"x\":{\"field\":\"x\"},\"y\":{\"field\":\"y\"}},\"id\":\"2830\",\"type\":\"Line\"},{\"attributes\":{},\"id\":\"2946\",\"type\":\"UnionRenderers\"},{\"attributes\":{\"fill_alpha\":{\"value\":0.1},\"fill_color\":{\"value\":\"#1f77b4\"},\"line_alpha\":{\"value\":0.1},\"line_color\":{\"value\":\"#1f77b4\"},\"x\":{\"field\":\"x\"},\"y\":{\"field\":\"y\"}},\"id\":\"2814\",\"type\":\"Circle\"},{\"attributes\":{\"source\":{\"id\":\"2829\"}},\"id\":\"2833\",\"type\":\"CDSView\"},{\"attributes\":{},\"id\":\"2827\",\"type\":\"Selection\"},{\"attributes\":{},\"id\":\"2770\",\"type\":\"SaveTool\"},{\"attributes\":{},\"id\":\"2868\",\"type\":\"Selection\"},{\"attributes\":{},\"id\":\"2828\",\"type\":\"UnionRenderers\"},{\"attributes\":{\"fill_color\":{\"value\":null},\"line_color\":{\"value\":\"olivedrab\"},\"x\":{\"field\":\"x\"},\"y\":{\"field\":\"y\"}},\"id\":\"2850\",\"type\":\"Circle\"},{\"attributes\":{\"source\":{\"id\":\"2849\"}},\"id\":\"2853\",\"type\":\"CDSView\"},{\"attributes\":{},\"id\":\"2892\",\"type\":\"UnionRenderers\"},{\"attributes\":{\"data_source\":{\"id\":\"2849\"},\"glyph\":{\"id\":\"2850\"},\"hover_glyph\":null,\"muted_glyph\":null,\"nonselection_glyph\":{\"id\":\"2851\"},\"selection_glyph\":null,\"view\":{\"id\":\"2853\"}},\"id\":\"2852\",\"type\":\"GlyphRenderer\"},{\"attributes\":{\"source\":{\"id\":\"2812\"}},\"id\":\"2816\",\"type\":\"CDSView\"},{\"attributes\":{},\"id\":\"2846\",\"type\":\"Selection\"},{\"attributes\":{\"data_source\":{\"id\":\"2829\"},\"glyph\":{\"id\":\"2830\"},\"hover_glyph\":null,\"muted_glyph\":null,\"nonselection_glyph\":{\"id\":\"2831\"},\"selection_glyph\":null,\"view\":{\"id\":\"2833\"}},\"id\":\"2832\",\"type\":\"GlyphRenderer\"},{\"attributes\":{\"line_alpha\":0.1,\"line_color\":\"#1f77b4\",\"x\":{\"field\":\"x\"},\"y\":{\"field\":\"y\"}},\"id\":\"2831\",\"type\":\"Line\"},{\"attributes\":{\"data\":{\"x\":{\"__ndarray__\":\"mpmZmZmZuT/OvX+HpiLDP86uMkKAeMk/z5/l/FnOzz9oSMzbGRLTP+jAJbkGPdY/aDl/lvNn2T/qsdhz4JLcP2oqMlHNvd8/ddFFF1104T+1jfKF0wnjP/VJn/RJn+Q/NQZMY8A05j91wvjRNsrnP7Z+pUCtX+k/9jpSryP16j829/4dmorsP3azq4wQIO4/tm9Y+4a17z/8lQK1fqXwPxz0WOw5cPE/PFKvI/U68j9csAVbsAXzP3wOXJJr0PM/nGyyySab9D+8yggB4mX1P9woXzidMPY//Ya1b1j79j8d5QunE8b3Pz1DYt7OkPg/XaG4FYpb+T99/w5NRSb6P51dZYQA8fo/vbu7u7u7+z/dGRLzdob8P/13aCoyUf0/Hda+Ye0b/j89NBWZqOb+P16Sa9Bjsf8/P/jggw8+AEBPJ4wfbaMAQF9WN7vKCAFAb4XiVihuAUB/tI3yhdMBQI/jOI7jOAJAnxLkKUGeAkCvQY/FngMDQL9wOmH8aANAz5/l/FnOA0DfzpCYtzMEQO/9OzQVmQRA/yznz3L+BEAPXJJr0GMFQB+LPQcuyQVAMLrooosuBkBA6ZM+6ZMGQFAYP9pG+QZAYEfqdaReB0BwdpURAsQHQIClQK1fKQhAkNTrSL2OCECgA5fkGvQIQLAyQoB4WQlAwGHtG9a+CUDQkJi3MyQKQOC/Q1ORiQpA8O7u7u7uCkAAHpqKTFQLQBBNRSaquQtAIHzwwQcfDEAwq5tdZYQMQEDaRvnC6QxAUAnylCBPDUBgOJ0wfrQNQHBnSMzbGQ5AgZbzZzl/DkCRxZ4Dl+QOQKH0SZ/0SQ9AsSP1OlKvD0BgKVDrVwoQQOjAJbkGPRBAcFj7hrVvEED479BUZKIQQICHpiIT1RBACB988MEHEUCQtlG+cDoRQBhOJ4wfbRFAoOX8Wc6fEUAofdInfdIRQLAUqPUrBRJAOKx9w9o3EkDAQ1ORiWoSQEjbKF84nRJA0HL+LOfPEkBYCtT6lQITQOChqchENRNAaDl/lvNnE0Dw0FRkopoTQHhoKjJRzRNAAAAAAAAAFEA=\",\"dtype\":\"float64\",\"order\":\"little\",\"shape\":[100]},\"y\":{\"__ndarray__\":\"NMTNCyNr6T8r5WwH9hXoP7RYP/sQNec/7fGLawmk5j+J66bM8k7mP5plZ0HHKeY/ledPId4s5j/+6iz3NVPmPyZU30GJmeY/o0ZCk8b95j9GLJjqvX7nP2g2S53sG+g/Fjm4zlvV6D9guc69iqvpP7rA6/Zgn+o/dVAqBCay6z+H2OgcfeXsP+ciCeFjO+4/PeBhhDO27z+AERgEUqzwP84QjqPokvE/dKHT2aCQ8j90UHBed6fzP6YcWm6n2fQ/FsTjr7Ap9j+pH+AAXpr3PyweaEHNLvk/+pyCMnjq+j+SEsiEPtH8Pwl8Kzhx5/4/JM+9ue+YAEBzvAqA8toBQJfOYU69PANAz6IDMaTBBEBKSBU9XW0GQNF/UjwMRAhASARb009KCkDg0WlTUIUMQL9Z7G7Q+g5AUQr/B6DYEECIVDLM6FcSQPkeOO5I/xNAvTijmkHTFUBgc+cJ3tgXQJvq98XEFRpAg5skMEuQHEBLvLiUi08fQJJTTRK/LSFAyC+6nIreIkDJ1XirLr8kQMni07VQ1SZA1fJG80knKUAZynGlPrwrQG+KLoI4nC5AsFU4ViLoMEC+uiTdSrEyQOhlNyxVrzRAv38gmLzoNkD1LHhm0WQ5QBMfvyvVKzxAeoc2EBtHP0BCoGdElmBBQJSK9JL5UkNATmCOGHSBRUDZeyV3pfNHQIQEmDkvskpAVGMxFtjGTUCtxOgTWp5QQNZJoGopkFJAG+KonPm/VEAWQNf+3zVXQFQGCN8J+1lAT6KHmeMZXUA799akIk9gQC2LRvTSSmJA5NAd5qqHZEACUmHPYA5nQI4X6obf6GlAbqmBUnIibUAMaxKf+2NwQC7sWGkMdHJAXFBUI8jJdEDBDGq3uG53QKXoTfPAbXpATm23kE7TfUAlu1vWydaAQEs2K2dkBoNAEtzjZLyBhUCWvZQAbFOIQLwvzF+Uh4tAjjxSWBcsj0B9r5zxbKiRQGyZdE8IBJRAqibV9kuzlkBHy1q+LMKZQNkuIKRgPp1AE+dDIdGboEDa0mpO/9+iQJAvonAXdqVAAAAAAABqqEA=\",\"dtype\":\"float64\",\"order\":\"little\",\"shape\":[100]}},\"selected\":{\"id\":\"2917\"},\"selection_policy\":{\"id\":\"2918\"}},\"id\":\"2894\",\"type\":\"ColumnDataSource\"},{\"attributes\":{\"line_color\":\"#1f77b4\",\"x\":{\"field\":\"x\"},\"y\":{\"field\":\"y\"}},\"id\":\"2797\",\"type\":\"Line\"},{\"attributes\":{\"label\":{\"value\":\"y=10^x\"},\"renderers\":[{\"id\":\"2873\"}]},\"id\":\"2893\",\"type\":\"LegendItem\"},{\"attributes\":{\"line_color\":\"tomato\",\"line_dash\":[2,4,6,4],\"x\":{\"field\":\"x\"},\"y\":{\"field\":\"y\"}},\"id\":\"2782\",\"type\":\"Line\"},{\"attributes\":{\"source\":{\"id\":\"2870\"}},\"id\":\"2874\",\"type\":\"CDSView\"},{\"attributes\":{\"fill_color\":{\"value\":\"#1f77b4\"},\"line_color\":{\"value\":\"#1f77b4\"},\"x\":{\"field\":\"x\"},\"y\":{\"field\":\"y\"}},\"id\":\"2813\",\"type\":\"Circle\"},{\"attributes\":{\"line_alpha\":0.1,\"line_color\":\"gold\",\"line_width\":2,\"x\":{\"field\":\"x\"},\"y\":{\"field\":\"y\"}},\"id\":\"2872\",\"type\":\"Line\"},{\"attributes\":{\"active_drag\":\"auto\",\"active_inspect\":\"auto\",\"active_multi\":null,\"active_scroll\":\"auto\",\"active_tap\":\"auto\",\"tools\":[{\"id\":\"2767\"},{\"id\":\"2768\"},{\"id\":\"2769\"},{\"id\":\"2770\"},{\"id\":\"2771\"},{\"id\":\"2772\"}]},\"id\":\"2774\",\"type\":\"Toolbar\"},{\"attributes\":{\"data_source\":{\"id\":\"2870\"},\"glyph\":{\"id\":\"2871\"},\"hover_glyph\":null,\"muted_glyph\":null,\"nonselection_glyph\":{\"id\":\"2872\"},\"selection_glyph\":null,\"view\":{\"id\":\"2874\"}},\"id\":\"2873\",\"type\":\"GlyphRenderer\"},{\"attributes\":{},\"id\":\"2891\",\"type\":\"Selection\"},{\"attributes\":{\"line_color\":\"coral\",\"line_dash\":[6],\"line_width\":2,\"x\":{\"field\":\"x\"},\"y\":{\"field\":\"y\"}},\"id\":\"2921\",\"type\":\"Line\"},{\"attributes\":{\"data\":{\"x\":{\"__ndarray__\":\"mpmZmZmZuT/OvX+HpiLDP86uMkKAeMk/z5/l/FnOzz9oSMzbGRLTP+jAJbkGPdY/aDl/lvNn2T/qsdhz4JLcP2oqMlHNvd8/ddFFF1104T+1jfKF0wnjP/VJn/RJn+Q/NQZMY8A05j91wvjRNsrnP7Z+pUCtX+k/9jpSryP16j829/4dmorsP3azq4wQIO4/tm9Y+4a17z/8lQK1fqXwPxz0WOw5cPE/PFKvI/U68j9csAVbsAXzP3wOXJJr0PM/nGyyySab9D+8yggB4mX1P9woXzidMPY//Ya1b1j79j8d5QunE8b3Pz1DYt7OkPg/XaG4FYpb+T99/w5NRSb6P51dZYQA8fo/vbu7u7u7+z/dGRLzdob8P/13aCoyUf0/Hda+Ye0b/j89NBWZqOb+P16Sa9Bjsf8/P/jggw8+AEBPJ4wfbaMAQF9WN7vKCAFAb4XiVihuAUB/tI3yhdMBQI/jOI7jOAJAnxLkKUGeAkCvQY/FngMDQL9wOmH8aANAz5/l/FnOA0DfzpCYtzMEQO/9OzQVmQRA/yznz3L+BEAPXJJr0GMFQB+LPQcuyQVAMLrooosuBkBA6ZM+6ZMGQFAYP9pG+QZAYEfqdaReB0BwdpURAsQHQIClQK1fKQhAkNTrSL2OCECgA5fkGvQIQLAyQoB4WQlAwGHtG9a+CUDQkJi3MyQKQOC/Q1ORiQpA8O7u7u7uCkAAHpqKTFQLQBBNRSaquQtAIHzwwQcfDEAwq5tdZYQMQEDaRvnC6QxAUAnylCBPDUBgOJ0wfrQNQHBnSMzbGQ5AgZbzZzl/DkCRxZ4Dl+QOQKH0SZ/0SQ9AsSP1OlKvD0BgKVDrVwoQQOjAJbkGPRBAcFj7hrVvEED479BUZKIQQICHpiIT1RBACB988MEHEUCQtlG+cDoRQBhOJ4wfbRFAoOX8Wc6fEUAofdInfdIRQLAUqPUrBRJAOKx9w9o3EkDAQ1ORiWoSQEjbKF84nRJA0HL+LOfPEkBYCtT6lQITQOChqchENRNAaDl/lvNnE0Dw0FRkopoTQHhoKjJRzRNAAAAAAAAAFEA=\",\"dtype\":\"float64\",\"order\":\"little\",\"shape\":[100]},\"y\":{\"__ndarray__\":\"mpmZmZmZuT/OvX+HpiLDP86uMkKAeMk/z5/l/FnOzz9oSMzbGRLTP+jAJbkGPdY/aDl/lvNn2T/qsdhz4JLcP2oqMlHNvd8/ddFFF1104T+1jfKF0wnjP/VJn/RJn+Q/NQZMY8A05j91wvjRNsrnP7Z+pUCtX+k/9jpSryP16j829/4dmorsP3azq4wQIO4/tm9Y+4a17z/8lQK1fqXwPxz0WOw5cPE/PFKvI/U68j9csAVbsAXzP3wOXJJr0PM/nGyyySab9D+8yggB4mX1P9woXzidMPY//Ya1b1j79j8d5QunE8b3Pz1DYt7OkPg/XaG4FYpb+T99/w5NRSb6P51dZYQA8fo/vbu7u7u7+z/dGRLzdob8P/13aCoyUf0/Hda+Ye0b/j89NBWZqOb+P16Sa9Bjsf8/P/jggw8+AEBPJ4wfbaMAQF9WN7vKCAFAb4XiVihuAUB/tI3yhdMBQI/jOI7jOAJAnxLkKUGeAkCvQY/FngMDQL9wOmH8aANAz5/l/FnOA0DfzpCYtzMEQO/9OzQVmQRA/yznz3L+BEAPXJJr0GMFQB+LPQcuyQVAMLrooosuBkBA6ZM+6ZMGQFAYP9pG+QZAYEfqdaReB0BwdpURAsQHQIClQK1fKQhAkNTrSL2OCECgA5fkGvQIQLAyQoB4WQlAwGHtG9a+CUDQkJi3MyQKQOC/Q1ORiQpA8O7u7u7uCkAAHpqKTFQLQBBNRSaquQtAIHzwwQcfDEAwq5tdZYQMQEDaRvnC6QxAUAnylCBPDUBgOJ0wfrQNQHBnSMzbGQ5AgZbzZzl/DkCRxZ4Dl+QOQKH0SZ/0SQ9AsSP1OlKvD0BgKVDrVwoQQOjAJbkGPRBAcFj7hrVvEED479BUZKIQQICHpiIT1RBACB988MEHEUCQtlG+cDoRQBhOJ4wfbRFAoOX8Wc6fEUAofdInfdIRQLAUqPUrBRJAOKx9w9o3EkDAQ1ORiWoSQEjbKF84nRJA0HL+LOfPEkBYCtT6lQITQOChqchENRNAaDl/lvNnE0Dw0FRkopoTQHhoKjJRzRNAAAAAAAAAFEA=\",\"dtype\":\"float64\",\"order\":\"little\",\"shape\":[100]}},\"selected\":{\"id\":\"2809\"},\"selection_policy\":{\"id\":\"2810\"}},\"id\":\"2796\",\"type\":\"ColumnDataSource\"},{\"attributes\":{\"line_alpha\":0.1,\"line_color\":\"tomato\",\"line_dash\":[2,4,6,4],\"x\":{\"field\":\"x\"},\"y\":{\"field\":\"y\"}},\"id\":\"2783\",\"type\":\"Line\"},{\"attributes\":{\"text\":\"log axis example\"},\"id\":\"2749\",\"type\":\"Title\"},{\"attributes\":{},\"id\":\"2751\",\"type\":\"DataRange1d\"},{\"attributes\":{},\"id\":\"2755\",\"type\":\"LinearScale\"},{\"attributes\":{\"end\":10000000000000000000000,\"start\":0.001},\"id\":\"2753\",\"type\":\"Range1d\"},{\"attributes\":{},\"id\":\"2757\",\"type\":\"LogScale\"},{\"attributes\":{\"axis_label\":\"Domain\",\"formatter\":{\"id\":\"2789\"},\"ticker\":{\"id\":\"2760\"}},\"id\":\"2759\",\"type\":\"LinearAxis\"},{\"attributes\":{\"num_minor_ticks\":10},\"id\":\"2764\",\"type\":\"LogTicker\"},{\"attributes\":{},\"id\":\"2760\",\"type\":\"BasicTicker\"},{\"attributes\":{\"axis\":{\"id\":\"2759\"},\"ticker\":null},\"id\":\"2762\",\"type\":\"Grid\"},{\"attributes\":{},\"id\":\"2767\",\"type\":\"PanTool\"},{\"attributes\":{\"axis\":{\"id\":\"2763\"},\"dimension\":1,\"ticker\":null},\"id\":\"2766\",\"type\":\"Grid\"},{\"attributes\":{\"data_source\":{\"id\":\"2781\"},\"glyph\":{\"id\":\"2782\"},\"hover_glyph\":null,\"muted_glyph\":null,\"nonselection_glyph\":{\"id\":\"2783\"},\"selection_glyph\":null,\"view\":{\"id\":\"2785\"}},\"id\":\"2784\",\"type\":\"GlyphRenderer\"},{\"attributes\":{\"axis_label\":\"Values (log scale)\",\"formatter\":{\"id\":\"2787\"},\"ticker\":{\"id\":\"2764\"}},\"id\":\"2763\",\"type\":\"LogAxis\"},{\"attributes\":{},\"id\":\"2772\",\"type\":\"HelpTool\"},{\"attributes\":{\"fill_alpha\":{\"value\":0.1},\"fill_color\":{\"value\":null},\"line_alpha\":{\"value\":0.1},\"line_color\":{\"value\":\"olivedrab\"},\"x\":{\"field\":\"x\"},\"y\":{\"field\":\"y\"}},\"id\":\"2851\",\"type\":\"Circle\"},{\"attributes\":{\"label\":{\"value\":\"y=x**2\"},\"renderers\":[{\"id\":\"2832\"},{\"id\":\"2852\"}]},\"id\":\"2848\",\"type\":\"LegendItem\"},{\"attributes\":{\"line_color\":\"indigo\",\"line_dash\":[2,4],\"line_width\":2,\"x\":{\"field\":\"x\"},\"y\":{\"field\":\"y\"}},\"id\":\"2895\",\"type\":\"Line\"},{\"attributes\":{\"overlay\":{\"id\":\"2773\"}},\"id\":\"2769\",\"type\":\"BoxZoomTool\"},{\"attributes\":{},\"id\":\"2768\",\"type\":\"WheelZoomTool\"},{\"attributes\":{\"bottom_units\":\"screen\",\"fill_alpha\":0.5,\"fill_color\":\"lightgrey\",\"left_units\":\"screen\",\"level\":\"overlay\",\"line_alpha\":1.0,\"line_color\":\"black\",\"line_dash\":[4,4],\"line_width\":2,\"right_units\":\"screen\",\"top_units\":\"screen\"},\"id\":\"2773\",\"type\":\"BoxAnnotation\"},{\"attributes\":{\"data\":{\"x\":{\"__ndarray__\":\"mpmZmZmZuT/OvX+HpiLDP86uMkKAeMk/z5/l/FnOzz9oSMzbGRLTP+jAJbkGPdY/aDl/lvNn2T/qsdhz4JLcP2oqMlHNvd8/ddFFF1104T+1jfKF0wnjP/VJn/RJn+Q/NQZMY8A05j91wvjRNsrnP7Z+pUCtX+k/9jpSryP16j829/4dmorsP3azq4wQIO4/tm9Y+4a17z/8lQK1fqXwPxz0WOw5cPE/PFKvI/U68j9csAVbsAXzP3wOXJJr0PM/nGyyySab9D+8yggB4mX1P9woXzidMPY//Ya1b1j79j8d5QunE8b3Pz1DYt7OkPg/XaG4FYpb+T99/w5NRSb6P51dZYQA8fo/vbu7u7u7+z/dGRLzdob8P/13aCoyUf0/Hda+Ye0b/j89NBWZqOb+P16Sa9Bjsf8/P/jggw8+AEBPJ4wfbaMAQF9WN7vKCAFAb4XiVihuAUB/tI3yhdMBQI/jOI7jOAJAnxLkKUGeAkCvQY/FngMDQL9wOmH8aANAz5/l/FnOA0DfzpCYtzMEQO/9OzQVmQRA/yznz3L+BEAPXJJr0GMFQB+LPQcuyQVAMLrooosuBkBA6ZM+6ZMGQFAYP9pG+QZAYEfqdaReB0BwdpURAsQHQIClQK1fKQhAkNTrSL2OCECgA5fkGvQIQLAyQoB4WQlAwGHtG9a+CUDQkJi3MyQKQOC/Q1ORiQpA8O7u7u7uCkAAHpqKTFQLQBBNRSaquQtAIHzwwQcfDEAwq5tdZYQMQEDaRvnC6QxAUAnylCBPDUBgOJ0wfrQNQHBnSMzbGQ5AgZbzZzl/DkCRxZ4Dl+QOQKH0SZ/0SQ9AsSP1OlKvD0BgKVDrVwoQQOjAJbkGPRBAcFj7hrVvEED479BUZKIQQICHpiIT1RBACB988MEHEUCQtlG+cDoRQBhOJ4wfbRFAoOX8Wc6fEUAofdInfdIRQLAUqPUrBRJAOKx9w9o3EkDAQ1ORiWoSQEjbKF84nRJA0HL+LOfPEkBYCtT6lQITQOChqchENRNAaDl/lvNnE0Dw0FRkopoTQHhoKjJRzRNAAAAAAAAAFEA=\",\"dtype\":\"float64\",\"order\":\"little\",\"shape\":[100]},\"y\":{\"__ndarray__\":\"BCb8+I4k9D/YkSiBB5P2P+ZFPS6kTPk/tT+SFHda/D+2rHOXqsb/PwhLvJ9RzgFAGmZC05L0A0D4INh7QF0GQC1oRUhfEAlAIYQjsesWDEDkDD3i93oPQDZrJKDmoxFANIpK/QjFE0CuGNiS+ScWQOSomvWp1BhAVbzmNQHUG0AJCLaB+S8fQDNUQ63geSFAZ1nDZvCVI0Bt3PeUMfMlQP8rNeCCmShADFCKI7aRK0BSXkfIreUuQN2ZX9Y+UDFAQFTkAUhnM0CB2N1T5741QNDhO7XoXjhA/M5N/ghQO0ATM1kME5w+QHVG/SwAJ0FAU6tnww45Q0A4vgCkGYtFQAzy/CTaJEhAf3H5TfgOS0DVhkmoJ1NOQIGE2MQj/lBANUSEokMLU0Dsz6Bcx1dVQLo45uJV61dAiK3VnYLOWkAjyGL66QpeQGlV4LOo1WBAu8znmOXdYkA3PcFX7yRlQCrVfaVasmdAdN+ifKaOakChetJkWMNtQJhUMRKOrXBAPNywovOwckDJjiFykPJ0QJ3KWibneXdA9waRfGJPekCj9J9NcXx9QDeHEPrShYBA9iJpvmyEgkAhIjeLqcCEQHWyHSL6QYdAlJc3M7UQikCvMqMeMzaNQCY45od2XpBAG6f/7E9YkkCItCaFOY+UQL5/aViSCpdAfVyNOZ3SmUDDwHtFnPCcQDrgONp3N6BA1g/DMZwsokC8/b1EP16kQCZU3Iuu06ZAEnDgKxmVqUCRuYczq6usQLcaqBHWELBAsf1bklABskCVWW2xuS20QNRlCIJNnbZAQEbOqSdYuUDj2tpdXme8QGhLz6Eg1b9Ak3DHFmzWwUDngEG1p/3DQET2bANuZ8ZAysk7VscbyUA5rzU9tCPMQKncdHlLic9A9TpRye2r0UBLUd08CM7TQNtZb9sOMtZAxYxN1/bf2EDkzPxNq+DbQDtS2/cqPt9AmoKOttSB4UDAo3M32p7jQCMQVNgu/eVAIAtg1rSk6EBYKTAQQp7rQCDrp2698+5A901Y7R9Y8UD1McGWHHDzQG3sN8vMyPVAAAAAAABq+EA=\",\"dtype\":\"float64\",\"order\":\"little\",\"shape\":[100]}},\"selected\":{\"id\":\"2891\"},\"selection_policy\":{\"id\":\"2892\"}},\"id\":\"2870\",\"type\":\"ColumnDataSource\"},{\"attributes\":{\"source\":{\"id\":\"2781\"}},\"id\":\"2785\",\"type\":\"CDSView\"},{\"attributes\":{\"line_color\":\"gold\",\"line_width\":2,\"x\":{\"field\":\"x\"},\"y\":{\"field\":\"y\"}},\"id\":\"2871\",\"type\":\"Line\"},{\"attributes\":{\"data\":{\"x\":{\"__ndarray__\":\"mpmZmZmZuT/OvX+HpiLDP86uMkKAeMk/z5/l/FnOzz9oSMzbGRLTP+jAJbkGPdY/aDl/lvNn2T/qsdhz4JLcP2oqMlHNvd8/ddFFF1104T+1jfKF0wnjP/VJn/RJn+Q/NQZMY8A05j91wvjRNsrnP7Z+pUCtX+k/9jpSryP16j829/4dmorsP3azq4wQIO4/tm9Y+4a17z/8lQK1fqXwPxz0WOw5cPE/PFKvI/U68j9csAVbsAXzP3wOXJJr0PM/nGyyySab9D+8yggB4mX1P9woXzidMPY//Ya1b1j79j8d5QunE8b3Pz1DYt7OkPg/XaG4FYpb+T99/w5NRSb6P51dZYQA8fo/vbu7u7u7+z/dGRLzdob8P/13aCoyUf0/Hda+Ye0b/j89NBWZqOb+P16Sa9Bjsf8/P/jggw8+AEBPJ4wfbaMAQF9WN7vKCAFAb4XiVihuAUB/tI3yhdMBQI/jOI7jOAJAnxLkKUGeAkCvQY/FngMDQL9wOmH8aANAz5/l/FnOA0DfzpCYtzMEQO/9OzQVmQRA/yznz3L+BEAPXJJr0GMFQB+LPQcuyQVAMLrooosuBkBA6ZM+6ZMGQFAYP9pG+QZAYEfqdaReB0BwdpURAsQHQIClQK1fKQhAkNTrSL2OCECgA5fkGvQIQLAyQoB4WQlAwGHtG9a+CUDQkJi3MyQKQOC/Q1ORiQpA8O7u7u7uCkAAHpqKTFQLQBBNRSaquQtAIHzwwQcfDEAwq5tdZYQMQEDaRvnC6QxAUAnylCBPDUBgOJ0wfrQNQHBnSMzbGQ5AgZbzZzl/DkCRxZ4Dl+QOQKH0SZ/0SQ9AsSP1OlKvD0BgKVDrVwoQQOjAJbkGPRBAcFj7hrVvEED479BUZKIQQICHpiIT1RBACB988MEHEUCQtlG+cDoRQBhOJ4wfbRFAoOX8Wc6fEUAofdInfdIRQLAUqPUrBRJAOKx9w9o3EkDAQ1ORiWoSQEjbKF84nRJA0HL+LOfPEkBYCtT6lQITQOChqchENRNAaDl/lvNnE0Dw0FRkopoTQHhoKjJRzRNAAAAAAAAAFEA=\",\"dtype\":\"float64\",\"order\":\"little\",\"shape\":[100]},\"y\":{\"__ndarray__\":\"fBSuR+F6hD/GgVSMluKWP1+/YSsORqQ/lwCSAQGdrz9Egl3kEbu2P5hlbkC76L4/JNV9Sr4rxD8uqALxqoPJP+OrxZMjfM8/I3BjGZQK0z+sIgNnXKfWP4ztwbJqlNo/w9Cf/L7R3j8pZk6irK/hPx1wXMWcHuQ/OwZ656+15j+FKKcI5nTpP/rW4yg/XOw/mxEwSLtr7z827EUzrVHxP7KV+0GOAfM/RAU50IDF9D/sOv7dhJ32P6k2S2uaifg/fPgfeMGJ+j9lgHwE+p38P2TOYBBExv4/PnHmzU+BAEBTXmBThqkBQHMunpjF2wJAnuGfnQ0YBEDUd2ViXl4FQBXx7ua3rgZAYU08KxoJCEC3jE0vhW0JQBmvIvP42wpAhbS7dnVUDED8nBi6+tYNQIBoOb2IYw9AhwsPwA99EEBTVGOBX00RQKSOmaKzIhJAe7qxIwz9EkDX16sEadwTQLnmh0XKwBRAIOdF5i+qFUAN2eXmmZgWQH+8Z0cIjBdAd5HLB3uEGED0VxEo8oEZQPYPOahthBpAfrlCiO2LG0CLVC7IcZgcQB7h+2f6qR1AOV+rZ4fAHkDXzjzHGNwfQP0XWENXfiBAUcECUyQRIUBoY56Sc6YhQEL+KgJFPiJA3pGooZjYIkA+HhdxbnUjQGCjdnDGFCRARCHHn6C2JEDrlwj//FolQFYHO47bASZAgm9eTTyrJkBy0HI8H1cnQCQqeFuEBShAmXxuqmu2KEDRx1Up1WkpQMsLLtjAHypAiEj3ti7YKkAIfrHFHpMrQEusXASRUCxAUtP4coUQLUAa84UR/NItQKULBOD0ly5A8hxz3m9fL0CAk2mGthQwQOoUkjX2ejBAtRKz/HbiMEDhjMzbOEsxQG6D3tI7tTFAXfbo4X8gMkCt5esIBY0yQF9R50fL+jJAcjnbntJpM0DmnccNG9ozQLx+rJSkSzRA89uJM2++NECMtV/qejI1QIULLrnHpzVA4d30n1UeNkCdLLSeJJY2QLv3a7U0DzdAOj8c5IWJN0AbA8UqGAU4QF1DZonrgThAAAAAAAAAOUA=\",\"dtype\":\"float64\",\"order\":\"little\",\"shape\":[100]}},\"selected\":{\"id\":\"2868\"},\"selection_policy\":{\"id\":\"2869\"}},\"id\":\"2849\",\"type\":\"ColumnDataSource\"},{\"attributes\":{},\"id\":\"2847\",\"type\":\"UnionRenderers\"},{\"attributes\":{},\"id\":\"2771\",\"type\":\"ResetTool\"}],\"root_ids\":[\"2748\"]},\"title\":\"Bokeh Application\",\"version\":\"2.2.3\"}};\n",
       "  var render_items = [{\"docid\":\"0e16d676-92b2-401b-ae88-33e889c08bc7\",\"root_ids\":[\"2748\"],\"roots\":{\"2748\":\"47ab1ffa-c5df-4639-aa55-aa33b94ee717\"}}];\n",
       "  root.Bokeh.embed.embed_items_notebook(docs_json, render_items);\n",
       "\n",
       "  }\n",
       "  if (root.Bokeh !== undefined) {\n",
       "    embed_document(root);\n",
       "  } else {\n",
       "    var attempts = 0;\n",
       "    var timer = setInterval(function(root) {\n",
       "      if (root.Bokeh !== undefined) {\n",
       "        clearInterval(timer);\n",
       "        embed_document(root);\n",
       "      } else {\n",
       "        attempts++;\n",
       "        if (attempts > 100) {\n",
       "          clearInterval(timer);\n",
       "          console.log(\"Bokeh: ERROR: Unable to run BokehJS code because BokehJS library is missing\");\n",
       "        }\n",
       "      }\n",
       "    }, 10, root)\n",
       "  }\n",
       "})(window);"
      ],
      "application/vnd.bokehjs_exec.v0+json": ""
     },
     "metadata": {
      "application/vnd.bokehjs_exec.v0+json": {
       "id": "2748"
      }
     },
     "output_type": "display_data"
    }
   ],
   "source": [
    "# 2、折线图 - 多线图\n",
    "# ② 多个line\n",
    "\n",
    "x = np.linspace(0.1, 5, 100)\n",
    "# 创建x值\n",
    "\n",
    "p = figure(title=\"log axis example\", y_axis_type=\"log\",y_range=(0.001, 10**22))\n",
    "# 这里设置对数坐标轴\n",
    "\n",
    "p.line(x, np.sqrt(x), legend_label=\"y=sqrt(x)\",\n",
    "       line_color=\"tomato\", line_dash=\"dotdash\")\n",
    "# line1\n",
    "\n",
    "p.line(x, x, legend_label=\"y=x\")\n",
    "p.circle(x, x, legend_label=\"y=x\")\n",
    "# line2，折线图+散点图\n",
    "\n",
    "p.line(x, x**2, legend_label=\"y=x**2\")\n",
    "p.circle(x, x**2, legend_label=\"y=x**2\",fill_color=None, line_color=\"olivedrab\")\n",
    "# line3\n",
    "\n",
    "p.line(x, 10**x, legend_label=\"y=10^x\",line_color=\"gold\", line_width=2)\n",
    "# line4\n",
    "\n",
    "p.line(x, x**x, legend_label=\"y=x^x\",line_dash=\"dotted\", line_color=\"indigo\", line_width=2)\n",
    "# line5\n",
    "\n",
    "p.line(x, 10**(x**2), legend_label=\"y=10^(x^2)\",line_color=\"coral\", line_dash=\"dashed\", line_width=2)\n",
    "# line6\n",
    "\n",
    "p.legend.location = \"top_left\"\n",
    "p.xaxis.axis_label = 'Domain'\n",
    "p.yaxis.axis_label = 'Values (log scale)'\n",
    "# 设置图例及label\n",
    "\n",
    "show(p)"
   ]
  },
  {
   "cell_type": "code",
   "execution_count": 15,
   "metadata": {},
   "outputs": [
    {
     "data": {
      "text/html": [
       "\n",
       "\n",
       "\n",
       "\n",
       "\n",
       "\n",
       "  <div class=\"bk-root\" id=\"80aab7b8-9a42-41c4-a64b-6593c27c0d5b\" data-root-id=\"3799\"></div>\n"
      ]
     },
     "metadata": {},
     "output_type": "display_data"
    },
    {
     "data": {
      "application/javascript": [
       "(function(root) {\n",
       "  function embed_document(root) {\n",
       "    \n",
       "  var docs_json = {\"50d40a19-35f7-4ed7-a26b-d01a36e1fac5\":{\"roots\":{\"references\":[{\"attributes\":{\"below\":[{\"id\":\"3808\"}],\"center\":[{\"id\":\"3811\"},{\"id\":\"3815\"}],\"left\":[{\"id\":\"3812\"}],\"plot_height\":400,\"renderers\":[{\"id\":\"3833\"},{\"id\":\"3838\"}],\"title\":{\"id\":\"3994\"},\"toolbar\":{\"id\":\"3823\"},\"x_range\":{\"id\":\"3800\"},\"x_scale\":{\"id\":\"3804\"},\"y_range\":{\"id\":\"3802\"},\"y_scale\":{\"id\":\"3806\"}},\"id\":\"3799\",\"subtype\":\"Figure\",\"type\":\"Plot\"},{\"attributes\":{},\"id\":\"3816\",\"type\":\"PanTool\"},{\"attributes\":{},\"id\":\"3806\",\"type\":\"LinearScale\"},{\"attributes\":{\"fill_alpha\":{\"value\":0.1},\"fill_color\":{\"value\":\"red\"},\"line_alpha\":{\"value\":0.1},\"line_color\":{\"value\":\"red\"},\"size\":{\"units\":\"screen\",\"value\":5},\"x\":{\"field\":\"x\"},\"y\":{\"field\":\"y\"}},\"id\":\"3837\",\"type\":\"Circle\"},{\"attributes\":{\"fill_alpha\":0.2,\"fill_color\":\"black\",\"line_alpha\":0.8,\"line_dash\":[10,4],\"x\":{\"field\":\"x\"},\"y\":{\"field\":\"y\"}},\"id\":\"3831\",\"type\":\"Patch\"},{\"attributes\":{\"data\":{\"x\":[0,1,2,3,4,5,6,7,8,9,10,11,12,13,14,15,16,17,18,19,20,21,22,23,24,25,26,27,28,29,30,31,32,33,34,35,36,37,38,39,40,41,42,43,44,45,46,47,48,49,50,51,52,53,54,55,56,57,58,59,60,61,62,63,64,65,66,67,68,69,70,71,72,73,74,75,76,77,78,79,80,81,82,83,84,85,86,87,88,89,90,91,92,93,94,95,96,97,98,99],\"y\":{\"__ndarray__\":\"AAAAAAAAAABVHx6mQvTmP1gGwmG6/8i/Jr+LWqnc7r8wORcG9Fq+vxPqZZcjo/S/L3IwIH4a9r97LaxTSVHzv1zrS7QjcgPA3FROz7fLCMAYNFhUOYz6v0APJOCcTKC/6q9HtCuvz7/PWJXH6KjOv51GA/FvSAPAAnCT5J7BAMAMMYBc9X/6v4ez70T4sPi/8PMJkwz/C8BTJklwBYIJwGfzdYmQ7BTAsJnK3/sHFsAcCYZukKgRwCCBZT3tnBXAc7CNOwEmDsB/9+uekpwLwGZYwBhUUvu/KFyv7SEx8r8w8beRGQXzv7reA2GOdv2/ndh+6mCt/L+5VLvkkmQGwCRW6hYnGQfAditWJl1AB8AcDnxvcGvgv+iV88nrN88/q68X/4WK7j/aAnwPXMUEQHxv+xEDHgdAf9tTx+oJBUDDI9Zx6MAGQIQZdY7DCARA7/sJk7gmAEAMUqibn5D8P3EwJxTCA/s/EMi7vtcN4T/0vfSJLgPsP4V+qkl2AP8/eObRZmfGCUBk816WEH8OQFhS2NdXdQtAi08DBGuyBUD5AeSZW7gFQD2JJoE6qBBACQRrTXsOFkBD68y72sMWQGIljFjMHBRAhsLfOkCsFEAFaFWCrkkSQF58XWROGRlAgRrbHeeJG0AN3LNvJL0XQBkyOBGFqxNANoU8V48rC0DYekkp9p4KQOdhLqKOX/o/2wXKfxjUAkCFmbX/pw8DQH0c05lgvPY/xEgkMw0wBUAAtxlKpF4OQFColX+ZQBhAhZ+pgbwdHEBba46dKa0eQFtka9KEkyFAYZUV6cgqIEDDO9NRySccQO2p49xY9BVARUAhbhk/FECtS5EO/c8SQMewmseyrRJAPPvPixgEEUC8uTunCrIMQFW0tWy7w/8/QstBrBvq/T+ij7RwXFP4Pxw7ZWL4vvo/UPTvOsl78T8gr3hUFfm7P8zNXcnoWa2/cuZXUHab2r/4W0Surw3qv4DXQa4gvXM/rj3jq4pQlT86BX2qFwnrP4TgbyuGfea/kGhRURvirz942hN1MFjqv6QTP/77Z8K/AAAAAAAAAAA=\",\"dtype\":\"float64\",\"order\":\"little\",\"shape\":[100]}},\"selected\":{\"id\":\"4000\"},\"selection_policy\":{\"id\":\"4001\"}},\"id\":\"3830\",\"type\":\"ColumnDataSource\"},{\"attributes\":{},\"id\":\"3819\",\"type\":\"SaveTool\"},{\"attributes\":{},\"id\":\"3800\",\"type\":\"DataRange1d\"},{\"attributes\":{\"text\":\"\"},\"id\":\"3994\",\"type\":\"Title\"},{\"attributes\":{\"active_drag\":\"auto\",\"active_inspect\":\"auto\",\"active_multi\":null,\"active_scroll\":\"auto\",\"active_tap\":\"auto\",\"tools\":[{\"id\":\"3816\"},{\"id\":\"3817\"},{\"id\":\"3818\"},{\"id\":\"3819\"},{\"id\":\"3820\"},{\"id\":\"3821\"}]},\"id\":\"3823\",\"type\":\"Toolbar\"},{\"attributes\":{\"fill_alpha\":{\"value\":0.8},\"fill_color\":{\"value\":\"red\"},\"line_alpha\":{\"value\":0.8},\"line_color\":{\"value\":\"red\"},\"size\":{\"units\":\"screen\",\"value\":5},\"x\":{\"field\":\"x\"},\"y\":{\"field\":\"y\"}},\"id\":\"3836\",\"type\":\"Circle\"},{\"attributes\":{},\"id\":\"4000\",\"type\":\"Selection\"},{\"attributes\":{},\"id\":\"4002\",\"type\":\"Selection\"},{\"attributes\":{\"overlay\":{\"id\":\"3822\"}},\"id\":\"3818\",\"type\":\"BoxZoomTool\"},{\"attributes\":{},\"id\":\"3997\",\"type\":\"BasicTickFormatter\"},{\"attributes\":{},\"id\":\"3802\",\"type\":\"DataRange1d\"},{\"attributes\":{\"source\":{\"id\":\"3835\"}},\"id\":\"3839\",\"type\":\"CDSView\"},{\"attributes\":{\"data_source\":{\"id\":\"3835\"},\"glyph\":{\"id\":\"3836\"},\"hover_glyph\":null,\"muted_glyph\":null,\"nonselection_glyph\":{\"id\":\"3837\"},\"selection_glyph\":null,\"view\":{\"id\":\"3839\"}},\"id\":\"3838\",\"type\":\"GlyphRenderer\"},{\"attributes\":{},\"id\":\"3821\",\"type\":\"HelpTool\"},{\"attributes\":{},\"id\":\"3995\",\"type\":\"BasicTickFormatter\"},{\"attributes\":{\"data_source\":{\"id\":\"3830\"},\"glyph\":{\"id\":\"3831\"},\"hover_glyph\":null,\"muted_glyph\":null,\"nonselection_glyph\":{\"id\":\"3832\"},\"selection_glyph\":null,\"view\":{\"id\":\"3834\"}},\"id\":\"3833\",\"type\":\"GlyphRenderer\"},{\"attributes\":{\"formatter\":{\"id\":\"3995\"},\"ticker\":{\"id\":\"3813\"}},\"id\":\"3812\",\"type\":\"LinearAxis\"},{\"attributes\":{\"fill_alpha\":0.1,\"fill_color\":\"black\",\"line_alpha\":0.1,\"line_dash\":[10,4],\"x\":{\"field\":\"x\"},\"y\":{\"field\":\"y\"}},\"id\":\"3832\",\"type\":\"Patch\"},{\"attributes\":{\"bottom_units\":\"screen\",\"fill_alpha\":0.5,\"fill_color\":\"lightgrey\",\"left_units\":\"screen\",\"level\":\"overlay\",\"line_alpha\":1.0,\"line_color\":\"black\",\"line_dash\":[4,4],\"line_width\":2,\"right_units\":\"screen\",\"top_units\":\"screen\"},\"id\":\"3822\",\"type\":\"BoxAnnotation\"},{\"attributes\":{},\"id\":\"3820\",\"type\":\"ResetTool\"},{\"attributes\":{},\"id\":\"4003\",\"type\":\"UnionRenderers\"},{\"attributes\":{},\"id\":\"3804\",\"type\":\"LinearScale\"},{\"attributes\":{},\"id\":\"4001\",\"type\":\"UnionRenderers\"},{\"attributes\":{\"formatter\":{\"id\":\"3997\"},\"ticker\":{\"id\":\"3809\"}},\"id\":\"3808\",\"type\":\"LinearAxis\"},{\"attributes\":{\"axis\":{\"id\":\"3812\"},\"dimension\":1,\"ticker\":null},\"id\":\"3815\",\"type\":\"Grid\"},{\"attributes\":{},\"id\":\"3809\",\"type\":\"BasicTicker\"},{\"attributes\":{\"axis\":{\"id\":\"3808\"},\"ticker\":null},\"id\":\"3811\",\"type\":\"Grid\"},{\"attributes\":{},\"id\":\"3813\",\"type\":\"BasicTicker\"},{\"attributes\":{\"data\":{\"x\":[0,1,2,3,4,5,6,7,8,9,10,11,12,13,14,15,16,17,18,19,20,21,22,23,24,25,26,27,28,29,30,31,32,33,34,35,36,37,38,39,40,41,42,43,44,45,46,47,48,49,50,51,52,53,54,55,56,57,58,59,60,61,62,63,64,65,66,67,68,69,70,71,72,73,74,75,76,77,78,79,80,81,82,83,84,85,86,87,88,89,90,91,92,93,94,95,96,97,98,99],\"y\":{\"__ndarray__\":\"AAAAAAAAAABVHx6mQvTmP1gGwmG6/8i/Jr+LWqnc7r8wORcG9Fq+vxPqZZcjo/S/L3IwIH4a9r97LaxTSVHzv1zrS7QjcgPA3FROz7fLCMAYNFhUOYz6v0APJOCcTKC/6q9HtCuvz7/PWJXH6KjOv51GA/FvSAPAAnCT5J7BAMAMMYBc9X/6v4ez70T4sPi/8PMJkwz/C8BTJklwBYIJwGfzdYmQ7BTAsJnK3/sHFsAcCYZukKgRwCCBZT3tnBXAc7CNOwEmDsB/9+uekpwLwGZYwBhUUvu/KFyv7SEx8r8w8beRGQXzv7reA2GOdv2/ndh+6mCt/L+5VLvkkmQGwCRW6hYnGQfAditWJl1AB8AcDnxvcGvgv+iV88nrN88/q68X/4WK7j/aAnwPXMUEQHxv+xEDHgdAf9tTx+oJBUDDI9Zx6MAGQIQZdY7DCARA7/sJk7gmAEAMUqibn5D8P3EwJxTCA/s/EMi7vtcN4T/0vfSJLgPsP4V+qkl2AP8/eObRZmfGCUBk816WEH8OQFhS2NdXdQtAi08DBGuyBUD5AeSZW7gFQD2JJoE6qBBACQRrTXsOFkBD68y72sMWQGIljFjMHBRAhsLfOkCsFEAFaFWCrkkSQF58XWROGRlAgRrbHeeJG0AN3LNvJL0XQBkyOBGFqxNANoU8V48rC0DYekkp9p4KQOdhLqKOX/o/2wXKfxjUAkCFmbX/pw8DQH0c05lgvPY/xEgkMw0wBUAAtxlKpF4OQFColX+ZQBhAhZ+pgbwdHEBba46dKa0eQFtka9KEkyFAYZUV6cgqIEDDO9NRySccQO2p49xY9BVARUAhbhk/FECtS5EO/c8SQMewmseyrRJAPPvPixgEEUC8uTunCrIMQFW0tWy7w/8/QstBrBvq/T+ij7RwXFP4Pxw7ZWL4vvo/UPTvOsl78T8gr3hUFfm7P8zNXcnoWa2/cuZXUHab2r/4W0Surw3qv4DXQa4gvXM/rj3jq4pQlT86BX2qFwnrP4TgbyuGfea/kGhRURvirz942hN1MFjqv6QTP/77Z8K/AAAAAAAAAAA=\",\"dtype\":\"float64\",\"order\":\"little\",\"shape\":[100]}},\"selected\":{\"id\":\"4002\"},\"selection_policy\":{\"id\":\"4003\"}},\"id\":\"3835\",\"type\":\"ColumnDataSource\"},{\"attributes\":{},\"id\":\"3817\",\"type\":\"WheelZoomTool\"},{\"attributes\":{\"source\":{\"id\":\"3830\"}},\"id\":\"3834\",\"type\":\"CDSView\"}],\"root_ids\":[\"3799\"]},\"title\":\"Bokeh Application\",\"version\":\"2.2.3\"}};\n",
       "  var render_items = [{\"docid\":\"50d40a19-35f7-4ed7-a26b-d01a36e1fac5\",\"root_ids\":[\"3799\"],\"roots\":{\"3799\":\"80aab7b8-9a42-41c4-a64b-6593c27c0d5b\"}}];\n",
       "  root.Bokeh.embed.embed_items_notebook(docs_json, render_items);\n",
       "\n",
       "  }\n",
       "  if (root.Bokeh !== undefined) {\n",
       "    embed_document(root);\n",
       "  } else {\n",
       "    var attempts = 0;\n",
       "    var timer = setInterval(function(root) {\n",
       "      if (root.Bokeh !== undefined) {\n",
       "        clearInterval(timer);\n",
       "        embed_document(root);\n",
       "      } else {\n",
       "        attempts++;\n",
       "        if (attempts > 100) {\n",
       "          clearInterval(timer);\n",
       "          console.log(\"Bokeh: ERROR: Unable to run BokehJS code because BokehJS library is missing\");\n",
       "        }\n",
       "      }\n",
       "    }, 10, root)\n",
       "  }\n",
       "})(window);"
      ],
      "application/vnd.bokehjs_exec.v0+json": ""
     },
     "metadata": {
      "application/vnd.bokehjs_exec.v0+json": {
       "id": "3799"
      }
     },
     "output_type": "display_data"
    }
   ],
   "source": [
    "# 3、面积图 - 单维度面积图\n",
    "\n",
    "s = pd.Series(np.random.randn(100).cumsum())\n",
    "s.iloc[0] = 0\n",
    "s.iloc[-1] = 0\n",
    "# 创建数据\n",
    "# 注意设定起始值和终点值为最低点\n",
    "p = figure(plot_width=600, plot_height=400)\n",
    "p.patch(s.index, s.values,     # 设置x，y值\n",
    "        line_width=1, line_alpha = 0.8, line_color = 'black',line_dash = [10,4],   # 线型基本设置\n",
    "        fill_color = 'black',fill_alpha = 0.2\n",
    "        )\n",
    "# 绘制面积图\n",
    "# .patch将会把所有点连接成一个闭合面\n",
    "p.circle(s.index, s.values,size = 5,color = 'red',alpha = 0.8)\n",
    "# 绘制折点\n",
    "show(p)"
   ]
  },
  {
   "cell_type": "code",
   "execution_count": 14,
   "metadata": {},
   "outputs": [
    {
     "name": "stdout",
     "output_type": "stream",
     "text": [
      "[19 18 17 16 15 14 13 12 11 10  9  8  7  6  5  4  3  2  1  0  0  1  2  3\n",
      "  4  5  6  7  8  9 10 11 12 13 14 15 16 17 18 19]\n"
     ]
    },
    {
     "data": {
      "text/html": [
       "\n",
       "\n",
       "\n",
       "\n",
       "\n",
       "\n",
       "  <div class=\"bk-root\" id=\"2f3cdd1e-c893-45d6-8a4f-35555abbd6a2\" data-root-id=\"3565\"></div>\n"
      ]
     },
     "metadata": {},
     "output_type": "display_data"
    },
    {
     "data": {
      "application/javascript": [
       "(function(root) {\n",
       "  function embed_document(root) {\n",
       "    \n",
       "  var docs_json = {\"1e2f47fd-2241-42d6-8d57-8f4c614bbfb1\":{\"roots\":{\"references\":[{\"attributes\":{\"below\":[{\"id\":\"3574\"}],\"center\":[{\"id\":\"3577\"},{\"id\":\"3581\"}],\"left\":[{\"id\":\"3578\"}],\"renderers\":[{\"id\":\"3599\"}],\"title\":{\"id\":\"3746\"},\"toolbar\":{\"id\":\"3589\"},\"x_range\":{\"id\":\"3566\"},\"x_scale\":{\"id\":\"3570\"},\"y_range\":{\"id\":\"3568\"},\"y_scale\":{\"id\":\"3572\"}},\"id\":\"3565\",\"subtype\":\"Figure\",\"type\":\"Plot\"},{\"attributes\":{},\"id\":\"3583\",\"type\":\"WheelZoomTool\"},{\"attributes\":{\"overlay\":{\"id\":\"3588\"}},\"id\":\"3584\",\"type\":\"BoxZoomTool\"},{\"attributes\":{\"end\":700},\"id\":\"3568\",\"type\":\"Range1d\"},{\"attributes\":{\"data\":{\"fill_color\":[\"#5e4fa2\",\"#3288bd\",\"#66c2a5\",\"#abdda4\",\"#e6f598\",\"#fee08b\",\"#fdae61\",\"#f46d43\",\"#d53e4f\",\"#9e0142\"],\"xs\":[[19,18,17,16,15,14,13,12,11,10,9,8,7,6,5,4,3,2,1,0,0,1,2,3,4,5,6,7,8,9,10,11,12,13,14,15,16,17,18,19],[19,18,17,16,15,14,13,12,11,10,9,8,7,6,5,4,3,2,1,0,0,1,2,3,4,5,6,7,8,9,10,11,12,13,14,15,16,17,18,19],[19,18,17,16,15,14,13,12,11,10,9,8,7,6,5,4,3,2,1,0,0,1,2,3,4,5,6,7,8,9,10,11,12,13,14,15,16,17,18,19],[19,18,17,16,15,14,13,12,11,10,9,8,7,6,5,4,3,2,1,0,0,1,2,3,4,5,6,7,8,9,10,11,12,13,14,15,16,17,18,19],[19,18,17,16,15,14,13,12,11,10,9,8,7,6,5,4,3,2,1,0,0,1,2,3,4,5,6,7,8,9,10,11,12,13,14,15,16,17,18,19],[19,18,17,16,15,14,13,12,11,10,9,8,7,6,5,4,3,2,1,0,0,1,2,3,4,5,6,7,8,9,10,11,12,13,14,15,16,17,18,19],[19,18,17,16,15,14,13,12,11,10,9,8,7,6,5,4,3,2,1,0,0,1,2,3,4,5,6,7,8,9,10,11,12,13,14,15,16,17,18,19],[19,18,17,16,15,14,13,12,11,10,9,8,7,6,5,4,3,2,1,0,0,1,2,3,4,5,6,7,8,9,10,11,12,13,14,15,16,17,18,19],[19,18,17,16,15,14,13,12,11,10,9,8,7,6,5,4,3,2,1,0,0,1,2,3,4,5,6,7,8,9,10,11,12,13,14,15,16,17,18,19],[19,18,17,16,15,14,13,12,11,10,9,8,7,6,5,4,3,2,1,0,0,1,2,3,4,5,6,7,8,9,10,11,12,13,14,15,16,17,18,19]],\"ys\":[{\"__ndarray__\":\"AAAAAAAAAAAAAAAAAAAAAAAAAAAAAAAAAAAAAAAAAAAAAAAAAAAAAAAAAAAAAAAAAAAAAAAAAAAAAAAAAAAAAAAAAAAAAAAAAAAAAAAAAAAAAAAAAAAAAAAAAAAAAAAAAAAAAAAAAAAAAAAAAAAAAAAAAAAAAAAAAAAAAAAAAAAAAAAAAAAAAAAAAAAAAAAAAAAAAAAAAAAAAAAAAAAAAAAAAAAAgEdAAAAAAACAVUAAAAAAAIBDQAAAAAAAQFJAAAAAAAAAN0AAAAAAAAAqQAAAAAAAADlAAAAAAABAU0AAAAAAAAA0QAAAAAAAgFhAAAAAAADAV0AAAAAAAIBVQAAAAAAAADdAAAAAAADAUkAAAAAAAABTQAAAAAAAAEBAAAAAAABAV0AAAAAAAAA5QAAAAAAAwFVAAAAAAACAS0A=\",\"dtype\":\"float64\",\"order\":\"little\",\"shape\":[40]},{\"__ndarray__\":\"AAAAAACAS0AAAAAAAMBVQAAAAAAAADlAAAAAAABAV0AAAAAAAABAQAAAAAAAAFNAAAAAAADAUkAAAAAAAAA3QAAAAAAAgFVAAAAAAADAV0AAAAAAAIBYQAAAAAAAADRAAAAAAABAU0AAAAAAAAA5QAAAAAAAACpAAAAAAAAAN0AAAAAAAEBSQAAAAAAAgENAAAAAAACAVUAAAAAAAIBHQAAAAAAAQFFAAAAAAADgZEAAAAAAAIBPQAAAAAAAAGJAAAAAAAAAVEAAAAAAAMBWQAAAAAAAwFhAAAAAAACAW0AAAAAAAIBKQAAAAAAAYGBAAAAAAADgZUAAAAAAAGBhQAAAAAAAgEVAAAAAAAAgYkAAAAAAAKBjQAAAAAAAgEtAAAAAAAAAYEAAAAAAAIBNQAAAAAAAQGJAAAAAAACAYEA=\",\"dtype\":\"float64\",\"order\":\"little\",\"shape\":[40]},{\"__ndarray__\":\"AAAAAACAYEAAAAAAAEBiQAAAAAAAgE1AAAAAAAAAYEAAAAAAAIBLQAAAAAAAoGNAAAAAAAAgYkAAAAAAAIBFQAAAAAAAYGFAAAAAAADgZUAAAAAAAGBgQAAAAAAAgEpAAAAAAACAW0AAAAAAAMBYQAAAAAAAwFZAAAAAAAAAVEAAAAAAAABiQAAAAAAAgE9AAAAAAADgZEAAAAAAAEBRQAAAAAAA4GJAAAAAAADgZkAAAAAAAMBeQAAAAAAAAGZAAAAAAABAZEAAAAAAAEBfQAAAAAAAIGZAAAAAAABgYkAAAAAAAIBTQAAAAAAAgGhAAAAAAABgZ0AAAAAAACBlQAAAAAAAAFNAAAAAAABgZkAAAAAAAOBqQAAAAAAAgF1AAAAAAAAAY0AAAAAAAIBTQAAAAAAAYGlAAAAAAAAAakA=\",\"dtype\":\"float64\",\"order\":\"little\",\"shape\":[40]},{\"__ndarray__\":\"AAAAAAAAakAAAAAAAGBpQAAAAAAAgFNAAAAAAAAAY0AAAAAAAIBdQAAAAAAA4GpAAAAAAABgZkAAAAAAAABTQAAAAAAAIGVAAAAAAABgZ0AAAAAAAIBoQAAAAAAAgFNAAAAAAABgYkAAAAAAACBmQAAAAAAAQF9AAAAAAABAZEAAAAAAAABmQAAAAAAAwF5AAAAAAADgZkAAAAAAAOBiQAAAAAAAQGVAAAAAAABAa0AAAAAAACBpQAAAAAAAYG5AAAAAAABAaUAAAAAAAEBmQAAAAAAAgGpAAAAAAABAaEAAAAAAAOBlQAAAAAAA8HBAAAAAAAAQcUAAAAAAACBqQAAAAAAA4GRAAAAAAADwcEAAAAAAAHBxQAAAAAAAgGpAAAAAAADgZUAAAAAAAEBjQAAAAAAAIHJAAAAAAACAckA=\",\"dtype\":\"float64\",\"order\":\"little\",\"shape\":[40]},{\"__ndarray__\":\"AAAAAACAckAAAAAAACByQAAAAAAAQGNAAAAAAADgZUAAAAAAAIBqQAAAAAAAcHFAAAAAAADwcEAAAAAAAOBkQAAAAAAAIGpAAAAAAAAQcUAAAAAAAPBwQAAAAAAA4GVAAAAAAABAaEAAAAAAAIBqQAAAAAAAQGZAAAAAAABAaUAAAAAAAGBuQAAAAAAAIGlAAAAAAABAa0AAAAAAAEBlQAAAAAAA4G9AAAAAAABgcUAAAAAAAKByQAAAAAAAwG9AAAAAAACwcUAAAAAAAIBwQAAAAAAAUHNAAAAAAABQcEAAAAAAAEBqQAAAAAAAYHZAAAAAAAAAc0AAAAAAAOBvQAAAAAAAAGdAAAAAAACwcUAAAAAAAABzQAAAAAAAAG1AAAAAAADQcEAAAAAAAGBtQAAAAAAAQHVAAAAAAAAAdkA=\",\"dtype\":\"float64\",\"order\":\"little\",\"shape\":[40]},{\"__ndarray__\":\"AAAAAAAAdkAAAAAAAEB1QAAAAAAAYG1AAAAAAADQcEAAAAAAAABtQAAAAAAAAHNAAAAAAACwcUAAAAAAAABnQAAAAAAA4G9AAAAAAAAAc0AAAAAAAGB2QAAAAAAAQGpAAAAAAABQcEAAAAAAAFBzQAAAAAAAgHBAAAAAAACwcUAAAAAAAMBvQAAAAAAAoHJAAAAAAABgcUAAAAAAAOBvQAAAAAAA4HBAAAAAAABAc0AAAAAAALB4QAAAAAAAgHBAAAAAAACAckAAAAAAAMByQAAAAAAAYHRAAAAAAAAgdkAAAAAAADByQAAAAAAAMHdAAAAAAABQeEAAAAAAAABxQAAAAAAAQGtAAAAAAADwckAAAAAAAPBzQAAAAAAAkHJAAAAAAAAgdEAAAAAAAKByQAAAAAAAwHpAAAAAAACgdkA=\",\"dtype\":\"float64\",\"order\":\"little\",\"shape\":[40]},{\"__ndarray__\":\"AAAAAACgdkAAAAAAAMB6QAAAAAAAoHJAAAAAAAAgdEAAAAAAAJByQAAAAAAA8HNAAAAAAADwckAAAAAAAEBrQAAAAAAAAHFAAAAAAABQeEAAAAAAADB3QAAAAAAAMHJAAAAAAAAgdkAAAAAAAGB0QAAAAAAAwHJAAAAAAACAckAAAAAAAIBwQAAAAAAAsHhAAAAAAABAc0AAAAAAAOBwQAAAAAAAcHZAAAAAAAAAdUAAAAAAALB+QAAAAAAA4HRAAAAAAACAd0AAAAAAAKB2QAAAAAAAoHZAAAAAAAAgeUAAAAAAAHB3QAAAAAAA0HdAAAAAAABgeUAAAAAAAHB0QAAAAAAA4HJAAAAAAADwdkAAAAAAAKB1QAAAAAAAAHdAAAAAAAAgdUAAAAAAAJB3QAAAAAAAMH5AAAAAAAAQeUA=\",\"dtype\":\"float64\",\"order\":\"little\",\"shape\":[40]},{\"__ndarray__\":\"AAAAAAAQeUAAAAAAADB+QAAAAAAAkHdAAAAAAAAgdUAAAAAAAAB3QAAAAAAAoHVAAAAAAADwdkAAAAAAAOByQAAAAAAAcHRAAAAAAABgeUAAAAAAANB3QAAAAAAAcHdAAAAAAAAgeUAAAAAAAKB2QAAAAAAAoHZAAAAAAACAd0AAAAAAAOB0QAAAAAAAsH5AAAAAAAAAdUAAAAAAAHB2QAAAAAAAEHtAAAAAAADgekAAAAAAABCAQAAAAAAAkHpAAAAAAABweUAAAAAAAEB8QAAAAAAA0HhAAAAAAABAekAAAAAAAPB7QAAAAAAAQH1AAAAAAADQfkAAAAAAAFB5QAAAAAAAwHRAAAAAAACwfEAAAAAAAOB4QAAAAAAAIHtAAAAAAACQekAAAAAAAHB6QAAAAAAAIIJAAAAAAACgfUA=\",\"dtype\":\"float64\",\"order\":\"little\",\"shape\":[40]},{\"__ndarray__\":\"AAAAAACgfUAAAAAAACCCQAAAAAAAcHpAAAAAAACQekAAAAAAACB7QAAAAAAA4HhAAAAAAACwfEAAAAAAAMB0QAAAAAAAUHlAAAAAAADQfkAAAAAAAEB9QAAAAAAA8HtAAAAAAABAekAAAAAAANB4QAAAAAAAQHxAAAAAAABweUAAAAAAAJB6QAAAAAAAEIBAAAAAAADgekAAAAAAABB7QAAAAAAAsHxAAAAAAAAwfEAAAAAAAKiAQAAAAAAAsHtAAAAAAAAgfUAAAAAAAHB/QAAAAAAA0HpAAAAAAADgfEAAAAAAAHB/QAAAAAAAQH5AAAAAAAD4gUAAAAAAAIB9QAAAAAAAYHdAAAAAAABYgUAAAAAAAMB6QAAAAAAAqIBAAAAAAACwfkAAAAAAAGB8QAAAAAAA8IJAAAAAAAB4gUA=\",\"dtype\":\"float64\",\"order\":\"little\",\"shape\":[40]},{\"__ndarray__\":\"AAAAAAB4gUAAAAAAAPCCQAAAAAAAYHxAAAAAAACwfkAAAAAAAKiAQAAAAAAAwHpAAAAAAABYgUAAAAAAAGB3QAAAAAAAgH1AAAAAAAD4gUAAAAAAAEB+QAAAAAAAcH9AAAAAAADgfEAAAAAAANB6QAAAAAAAcH9AAAAAAAAgfUAAAAAAALB7QAAAAAAAqIBAAAAAAAAwfEAAAAAAALB8QAAAAAAAYH1AAAAAAACQfkAAAAAAADCBQAAAAAAA6IBAAAAAAACogEAAAAAAAJiCQAAAAAAAAHxAAAAAAACgf0AAAAAAAAiBQAAAAAAAEIFAAAAAAACghEAAAAAAAKCBQAAAAAAAwHhAAAAAAADYg0AAAAAAAGB+QAAAAAAAoIFAAAAAAACAgUAAAAAAAIB/QAAAAAAAIIRAAAAAAADggkA=\",\"dtype\":\"float64\",\"order\":\"little\",\"shape\":[40]}]},\"selected\":{\"id\":\"3752\"},\"selection_policy\":{\"id\":\"3753\"}},\"id\":\"3596\",\"type\":\"ColumnDataSource\"},{\"attributes\":{},\"id\":\"3570\",\"type\":\"LinearScale\"},{\"attributes\":{},\"id\":\"3585\",\"type\":\"SaveTool\"},{\"attributes\":{},\"id\":\"3586\",\"type\":\"ResetTool\"},{\"attributes\":{\"fill_alpha\":{\"value\":0.1},\"fill_color\":{\"field\":\"fill_color\"},\"line_alpha\":{\"value\":0.1},\"line_color\":{\"value\":null},\"xs\":{\"field\":\"xs\"},\"ys\":{\"field\":\"ys\"}},\"id\":\"3598\",\"type\":\"Patches\"},{\"attributes\":{},\"id\":\"3572\",\"type\":\"LinearScale\"},{\"attributes\":{},\"id\":\"3587\",\"type\":\"HelpTool\"},{\"attributes\":{\"formatter\":{\"id\":\"3749\"},\"ticker\":{\"id\":\"3575\"}},\"id\":\"3574\",\"type\":\"LinearAxis\"},{\"attributes\":{\"source\":{\"id\":\"3596\"}},\"id\":\"3600\",\"type\":\"CDSView\"},{\"attributes\":{\"data_source\":{\"id\":\"3596\"},\"glyph\":{\"id\":\"3597\"},\"hover_glyph\":null,\"muted_glyph\":null,\"nonselection_glyph\":{\"id\":\"3598\"},\"selection_glyph\":null,\"view\":{\"id\":\"3600\"}},\"id\":\"3599\",\"type\":\"GlyphRenderer\"},{\"attributes\":{},\"id\":\"3579\",\"type\":\"BasicTicker\"},{\"attributes\":{\"text\":\"\"},\"id\":\"3746\",\"type\":\"Title\"},{\"attributes\":{},\"id\":\"3575\",\"type\":\"BasicTicker\"},{\"attributes\":{\"axis\":{\"id\":\"3574\"},\"ticker\":null},\"id\":\"3577\",\"type\":\"Grid\"},{\"attributes\":{},\"id\":\"3747\",\"type\":\"BasicTickFormatter\"},{\"attributes\":{\"bottom_units\":\"screen\",\"fill_alpha\":0.5,\"fill_color\":\"lightgrey\",\"left_units\":\"screen\",\"level\":\"overlay\",\"line_alpha\":1.0,\"line_color\":\"black\",\"line_dash\":[4,4],\"line_width\":2,\"right_units\":\"screen\",\"top_units\":\"screen\"},\"id\":\"3588\",\"type\":\"BoxAnnotation\"},{\"attributes\":{\"end\":19},\"id\":\"3566\",\"type\":\"Range1d\"},{\"attributes\":{\"axis\":{\"id\":\"3578\"},\"dimension\":1,\"ticker\":null},\"id\":\"3581\",\"type\":\"Grid\"},{\"attributes\":{\"formatter\":{\"id\":\"3747\"},\"ticker\":{\"id\":\"3579\"}},\"id\":\"3578\",\"type\":\"LinearAxis\"},{\"attributes\":{},\"id\":\"3752\",\"type\":\"Selection\"},{\"attributes\":{},\"id\":\"3749\",\"type\":\"BasicTickFormatter\"},{\"attributes\":{},\"id\":\"3753\",\"type\":\"UnionRenderers\"},{\"attributes\":{\"fill_alpha\":{\"value\":0.8},\"fill_color\":{\"field\":\"fill_color\"},\"line_alpha\":{\"value\":0.8},\"line_color\":{\"value\":null},\"xs\":{\"field\":\"xs\"},\"ys\":{\"field\":\"ys\"}},\"id\":\"3597\",\"type\":\"Patches\"},{\"attributes\":{\"active_drag\":\"auto\",\"active_inspect\":\"auto\",\"active_multi\":null,\"active_scroll\":\"auto\",\"active_tap\":\"auto\",\"tools\":[{\"id\":\"3582\"},{\"id\":\"3583\"},{\"id\":\"3584\"},{\"id\":\"3585\"},{\"id\":\"3586\"},{\"id\":\"3587\"}]},\"id\":\"3589\",\"type\":\"Toolbar\"},{\"attributes\":{},\"id\":\"3582\",\"type\":\"PanTool\"}],\"root_ids\":[\"3565\"]},\"title\":\"Bokeh Application\",\"version\":\"2.2.3\"}};\n",
       "  var render_items = [{\"docid\":\"1e2f47fd-2241-42d6-8d57-8f4c614bbfb1\",\"root_ids\":[\"3565\"],\"roots\":{\"3565\":\"2f3cdd1e-c893-45d6-8a4f-35555abbd6a2\"}}];\n",
       "  root.Bokeh.embed.embed_items_notebook(docs_json, render_items);\n",
       "\n",
       "  }\n",
       "  if (root.Bokeh !== undefined) {\n",
       "    embed_document(root);\n",
       "  } else {\n",
       "    var attempts = 0;\n",
       "    var timer = setInterval(function(root) {\n",
       "      if (root.Bokeh !== undefined) {\n",
       "        clearInterval(timer);\n",
       "        embed_document(root);\n",
       "      } else {\n",
       "        attempts++;\n",
       "        if (attempts > 100) {\n",
       "          clearInterval(timer);\n",
       "          console.log(\"Bokeh: ERROR: Unable to run BokehJS code because BokehJS library is missing\");\n",
       "        }\n",
       "      }\n",
       "    }, 10, root)\n",
       "  }\n",
       "})(window);"
      ],
      "application/vnd.bokehjs_exec.v0+json": ""
     },
     "metadata": {
      "application/vnd.bokehjs_exec.v0+json": {
       "id": "3565"
      }
     },
     "output_type": "display_data"
    }
   ],
   "source": [
    "# 3、面积图 - 面积堆叠图\n",
    "\n",
    "from bokeh.palettes import brewer\n",
    "# 导入brewer模块\n",
    "\n",
    "N = 20\n",
    "cats = 10 #分类\n",
    "rng = np.random.RandomState(1)\n",
    "df = pd.DataFrame(rng.randint(10, 100, size=(N, cats))).add_prefix('y')\n",
    "# 创建数据，shape为（20，10）\n",
    "df_top = df.cumsum(axis=1)   # 每一个堆叠面积图的最高点\n",
    "df_bottom = df_top.shift(axis=1).fillna({'y0': 0})[::-1]    # 每一个堆叠面积图的最低点，并反向\n",
    "df_stack = pd.concat([df_bottom, df_top], ignore_index=True)   # 数据合并，每一组数据都是一个可以围合成一个面的散点集合\n",
    "# 得到堆叠面积数据\n",
    "# print(df.head())\n",
    "# print(df_top.tail())\n",
    "# print(df_bottom.head())\n",
    "# df_stack\n",
    "\n",
    "colors = brewer['Spectral'][df_stack.shape[1]]    # 根据变量数拆分颜色\n",
    "x = np.hstack((df.index[::-1], df.index))         # 得到围合顺序的index，这里由于一列是20个元素，所以连接成面需要40个点\n",
    "print(x)\n",
    "p = figure(x_range=(0, N-1), y_range=(0, 700))\n",
    "p.patches([x] * df_stack.shape[1],                       # 得到10组index\n",
    "          [df_stack[c].values for c in df_stack],     # c为df_stack的列名，这里得到10组对应的valyes\n",
    "          color=colors, alpha=0.8, line_color=None)   # 设置其他参数\n",
    "\n",
    "show(p)\n"
   ]
  },
  {
   "cell_type": "code",
   "execution_count": null,
   "metadata": {},
   "outputs": [],
   "source": []
  }
 ],
 "metadata": {
  "kernelspec": {
   "display_name": "Python 3",
   "language": "python",
   "name": "python3"
  },
  "language_info": {
   "codemirror_mode": {
    "name": "ipython",
    "version": 3
   },
   "file_extension": ".py",
   "mimetype": "text/x-python",
   "name": "python",
   "nbconvert_exporter": "python",
   "pygments_lexer": "ipython3",
   "version": "3.7.4"
  }
 },
 "nbformat": 4,
 "nbformat_minor": 4
}
