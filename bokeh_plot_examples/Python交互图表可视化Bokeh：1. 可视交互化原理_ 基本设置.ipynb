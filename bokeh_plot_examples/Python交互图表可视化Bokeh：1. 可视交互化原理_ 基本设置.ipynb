{
 "cells": [
  {
   "cell_type": "code",
   "execution_count": 3,
   "metadata": {},
   "outputs": [],
   "source": [
    "import numpy as np\n",
    "import pandas as pd\n",
    "import matplotlib.pyplot as plt\n",
    "%matplotlib inline\n",
    "\n",
    "import warnings\n",
    "warnings.filterwarnings('ignore') \n",
    "# 不发出警告"
   ]
  },
  {
   "cell_type": "code",
   "execution_count": 4,
   "metadata": {},
   "outputs": [
    {
     "data": {
      "text/html": [
       "\n",
       "    <div class=\"bk-root\">\n",
       "        <a href=\"https://bokeh.org\" target=\"_blank\" class=\"bk-logo bk-logo-small bk-logo-notebook\"></a>\n",
       "        <span id=\"1001\">Loading BokehJS ...</span>\n",
       "    </div>"
      ]
     },
     "metadata": {},
     "output_type": "display_data"
    },
    {
     "data": {
      "application/javascript": [
       "\n",
       "(function(root) {\n",
       "  function now() {\n",
       "    return new Date();\n",
       "  }\n",
       "\n",
       "  var force = true;\n",
       "\n",
       "  if (typeof root._bokeh_onload_callbacks === \"undefined\" || force === true) {\n",
       "    root._bokeh_onload_callbacks = [];\n",
       "    root._bokeh_is_loading = undefined;\n",
       "  }\n",
       "\n",
       "  var JS_MIME_TYPE = 'application/javascript';\n",
       "  var HTML_MIME_TYPE = 'text/html';\n",
       "  var EXEC_MIME_TYPE = 'application/vnd.bokehjs_exec.v0+json';\n",
       "  var CLASS_NAME = 'output_bokeh rendered_html';\n",
       "\n",
       "  /**\n",
       "   * Render data to the DOM node\n",
       "   */\n",
       "  function render(props, node) {\n",
       "    var script = document.createElement(\"script\");\n",
       "    node.appendChild(script);\n",
       "  }\n",
       "\n",
       "  /**\n",
       "   * Handle when an output is cleared or removed\n",
       "   */\n",
       "  function handleClearOutput(event, handle) {\n",
       "    var cell = handle.cell;\n",
       "\n",
       "    var id = cell.output_area._bokeh_element_id;\n",
       "    var server_id = cell.output_area._bokeh_server_id;\n",
       "    // Clean up Bokeh references\n",
       "    if (id != null && id in Bokeh.index) {\n",
       "      Bokeh.index[id].model.document.clear();\n",
       "      delete Bokeh.index[id];\n",
       "    }\n",
       "\n",
       "    if (server_id !== undefined) {\n",
       "      // Clean up Bokeh references\n",
       "      var cmd = \"from bokeh.io.state import curstate; print(curstate().uuid_to_server['\" + server_id + \"'].get_sessions()[0].document.roots[0]._id)\";\n",
       "      cell.notebook.kernel.execute(cmd, {\n",
       "        iopub: {\n",
       "          output: function(msg) {\n",
       "            var id = msg.content.text.trim();\n",
       "            if (id in Bokeh.index) {\n",
       "              Bokeh.index[id].model.document.clear();\n",
       "              delete Bokeh.index[id];\n",
       "            }\n",
       "          }\n",
       "        }\n",
       "      });\n",
       "      // Destroy server and session\n",
       "      var cmd = \"import bokeh.io.notebook as ion; ion.destroy_server('\" + server_id + \"')\";\n",
       "      cell.notebook.kernel.execute(cmd);\n",
       "    }\n",
       "  }\n",
       "\n",
       "  /**\n",
       "   * Handle when a new output is added\n",
       "   */\n",
       "  function handleAddOutput(event, handle) {\n",
       "    var output_area = handle.output_area;\n",
       "    var output = handle.output;\n",
       "\n",
       "    // limit handleAddOutput to display_data with EXEC_MIME_TYPE content only\n",
       "    if ((output.output_type != \"display_data\") || (!output.data.hasOwnProperty(EXEC_MIME_TYPE))) {\n",
       "      return\n",
       "    }\n",
       "\n",
       "    var toinsert = output_area.element.find(\".\" + CLASS_NAME.split(' ')[0]);\n",
       "\n",
       "    if (output.metadata[EXEC_MIME_TYPE][\"id\"] !== undefined) {\n",
       "      toinsert[toinsert.length - 1].firstChild.textContent = output.data[JS_MIME_TYPE];\n",
       "      // store reference to embed id on output_area\n",
       "      output_area._bokeh_element_id = output.metadata[EXEC_MIME_TYPE][\"id\"];\n",
       "    }\n",
       "    if (output.metadata[EXEC_MIME_TYPE][\"server_id\"] !== undefined) {\n",
       "      var bk_div = document.createElement(\"div\");\n",
       "      bk_div.innerHTML = output.data[HTML_MIME_TYPE];\n",
       "      var script_attrs = bk_div.children[0].attributes;\n",
       "      for (var i = 0; i < script_attrs.length; i++) {\n",
       "        toinsert[toinsert.length - 1].firstChild.setAttribute(script_attrs[i].name, script_attrs[i].value);\n",
       "        toinsert[toinsert.length - 1].firstChild.textContent = bk_div.children[0].textContent\n",
       "      }\n",
       "      // store reference to server id on output_area\n",
       "      output_area._bokeh_server_id = output.metadata[EXEC_MIME_TYPE][\"server_id\"];\n",
       "    }\n",
       "  }\n",
       "\n",
       "  function register_renderer(events, OutputArea) {\n",
       "\n",
       "    function append_mime(data, metadata, element) {\n",
       "      // create a DOM node to render to\n",
       "      var toinsert = this.create_output_subarea(\n",
       "        metadata,\n",
       "        CLASS_NAME,\n",
       "        EXEC_MIME_TYPE\n",
       "      );\n",
       "      this.keyboard_manager.register_events(toinsert);\n",
       "      // Render to node\n",
       "      var props = {data: data, metadata: metadata[EXEC_MIME_TYPE]};\n",
       "      render(props, toinsert[toinsert.length - 1]);\n",
       "      element.append(toinsert);\n",
       "      return toinsert\n",
       "    }\n",
       "\n",
       "    /* Handle when an output is cleared or removed */\n",
       "    events.on('clear_output.CodeCell', handleClearOutput);\n",
       "    events.on('delete.Cell', handleClearOutput);\n",
       "\n",
       "    /* Handle when a new output is added */\n",
       "    events.on('output_added.OutputArea', handleAddOutput);\n",
       "\n",
       "    /**\n",
       "     * Register the mime type and append_mime function with output_area\n",
       "     */\n",
       "    OutputArea.prototype.register_mime_type(EXEC_MIME_TYPE, append_mime, {\n",
       "      /* Is output safe? */\n",
       "      safe: true,\n",
       "      /* Index of renderer in `output_area.display_order` */\n",
       "      index: 0\n",
       "    });\n",
       "  }\n",
       "\n",
       "  // register the mime type if in Jupyter Notebook environment and previously unregistered\n",
       "  if (root.Jupyter !== undefined) {\n",
       "    var events = require('base/js/events');\n",
       "    var OutputArea = require('notebook/js/outputarea').OutputArea;\n",
       "\n",
       "    if (OutputArea.prototype.mime_types().indexOf(EXEC_MIME_TYPE) == -1) {\n",
       "      register_renderer(events, OutputArea);\n",
       "    }\n",
       "  }\n",
       "\n",
       "  \n",
       "  if (typeof (root._bokeh_timeout) === \"undefined\" || force === true) {\n",
       "    root._bokeh_timeout = Date.now() + 5000;\n",
       "    root._bokeh_failed_load = false;\n",
       "  }\n",
       "\n",
       "  var NB_LOAD_WARNING = {'data': {'text/html':\n",
       "     \"<div style='background-color: #fdd'>\\n\"+\n",
       "     \"<p>\\n\"+\n",
       "     \"BokehJS does not appear to have successfully loaded. If loading BokehJS from CDN, this \\n\"+\n",
       "     \"may be due to a slow or bad network connection. Possible fixes:\\n\"+\n",
       "     \"</p>\\n\"+\n",
       "     \"<ul>\\n\"+\n",
       "     \"<li>re-rerun `output_notebook()` to attempt to load from CDN again, or</li>\\n\"+\n",
       "     \"<li>use INLINE resources instead, as so:</li>\\n\"+\n",
       "     \"</ul>\\n\"+\n",
       "     \"<code>\\n\"+\n",
       "     \"from bokeh.resources import INLINE\\n\"+\n",
       "     \"output_notebook(resources=INLINE)\\n\"+\n",
       "     \"</code>\\n\"+\n",
       "     \"</div>\"}};\n",
       "\n",
       "  function display_loaded() {\n",
       "    var el = document.getElementById(\"1001\");\n",
       "    if (el != null) {\n",
       "      el.textContent = \"BokehJS is loading...\";\n",
       "    }\n",
       "    if (root.Bokeh !== undefined) {\n",
       "      if (el != null) {\n",
       "        el.textContent = \"BokehJS \" + root.Bokeh.version + \" successfully loaded.\";\n",
       "      }\n",
       "    } else if (Date.now() < root._bokeh_timeout) {\n",
       "      setTimeout(display_loaded, 100)\n",
       "    }\n",
       "  }\n",
       "\n",
       "\n",
       "  function run_callbacks() {\n",
       "    try {\n",
       "      root._bokeh_onload_callbacks.forEach(function(callback) {\n",
       "        if (callback != null)\n",
       "          callback();\n",
       "      });\n",
       "    } finally {\n",
       "      delete root._bokeh_onload_callbacks\n",
       "    }\n",
       "    console.debug(\"Bokeh: all callbacks have finished\");\n",
       "  }\n",
       "\n",
       "  function load_libs(css_urls, js_urls, callback) {\n",
       "    if (css_urls == null) css_urls = [];\n",
       "    if (js_urls == null) js_urls = [];\n",
       "\n",
       "    root._bokeh_onload_callbacks.push(callback);\n",
       "    if (root._bokeh_is_loading > 0) {\n",
       "      console.debug(\"Bokeh: BokehJS is being loaded, scheduling callback at\", now());\n",
       "      return null;\n",
       "    }\n",
       "    if (js_urls == null || js_urls.length === 0) {\n",
       "      run_callbacks();\n",
       "      return null;\n",
       "    }\n",
       "    console.debug(\"Bokeh: BokehJS not loaded, scheduling load and callback at\", now());\n",
       "    root._bokeh_is_loading = css_urls.length + js_urls.length;\n",
       "\n",
       "    function on_load() {\n",
       "      root._bokeh_is_loading--;\n",
       "      if (root._bokeh_is_loading === 0) {\n",
       "        console.debug(\"Bokeh: all BokehJS libraries/stylesheets loaded\");\n",
       "        run_callbacks()\n",
       "      }\n",
       "    }\n",
       "\n",
       "    function on_error() {\n",
       "      console.error(\"failed to load \" + url);\n",
       "    }\n",
       "\n",
       "    for (var i = 0; i < css_urls.length; i++) {\n",
       "      var url = css_urls[i];\n",
       "      const element = document.createElement(\"link\");\n",
       "      element.onload = on_load;\n",
       "      element.onerror = on_error;\n",
       "      element.rel = \"stylesheet\";\n",
       "      element.type = \"text/css\";\n",
       "      element.href = url;\n",
       "      console.debug(\"Bokeh: injecting link tag for BokehJS stylesheet: \", url);\n",
       "      document.body.appendChild(element);\n",
       "    }\n",
       "\n",
       "    const hashes = {\"https://cdn.bokeh.org/bokeh/release/bokeh-2.2.3.min.js\": \"T2yuo9Oe71Cz/I4X9Ac5+gpEa5a8PpJCDlqKYO0CfAuEszu1JrXLl8YugMqYe3sM\", \"https://cdn.bokeh.org/bokeh/release/bokeh-widgets-2.2.3.min.js\": \"98GDGJ0kOMCUMUePhksaQ/GYgB3+NH9h996V88sh3aOiUNX3N+fLXAtry6xctSZ6\", \"https://cdn.bokeh.org/bokeh/release/bokeh-tables-2.2.3.min.js\": \"89bArO+nlbP3sgakeHjCo1JYxYR5wufVgA3IbUvDY+K7w4zyxJqssu7wVnfeKCq8\"};\n",
       "\n",
       "    for (var i = 0; i < js_urls.length; i++) {\n",
       "      var url = js_urls[i];\n",
       "      var element = document.createElement('script');\n",
       "      element.onload = on_load;\n",
       "      element.onerror = on_error;\n",
       "      element.async = false;\n",
       "      element.src = url;\n",
       "      if (url in hashes) {\n",
       "        element.crossOrigin = \"anonymous\";\n",
       "        element.integrity = \"sha384-\" + hashes[url];\n",
       "      }\n",
       "      console.debug(\"Bokeh: injecting script tag for BokehJS library: \", url);\n",
       "      document.head.appendChild(element);\n",
       "    }\n",
       "  };\n",
       "\n",
       "  function inject_raw_css(css) {\n",
       "    const element = document.createElement(\"style\");\n",
       "    element.appendChild(document.createTextNode(css));\n",
       "    document.body.appendChild(element);\n",
       "  }\n",
       "\n",
       "  \n",
       "  var js_urls = [\"https://cdn.bokeh.org/bokeh/release/bokeh-2.2.3.min.js\", \"https://cdn.bokeh.org/bokeh/release/bokeh-widgets-2.2.3.min.js\", \"https://cdn.bokeh.org/bokeh/release/bokeh-tables-2.2.3.min.js\"];\n",
       "  var css_urls = [];\n",
       "  \n",
       "\n",
       "  var inline_js = [\n",
       "    function(Bokeh) {\n",
       "      Bokeh.set_log_level(\"info\");\n",
       "    },\n",
       "    function(Bokeh) {\n",
       "    \n",
       "    \n",
       "    }\n",
       "  ];\n",
       "\n",
       "  function run_inline_js() {\n",
       "    \n",
       "    if (root.Bokeh !== undefined || force === true) {\n",
       "      \n",
       "    for (var i = 0; i < inline_js.length; i++) {\n",
       "      inline_js[i].call(root, root.Bokeh);\n",
       "    }\n",
       "    if (force === true) {\n",
       "        display_loaded();\n",
       "      }} else if (Date.now() < root._bokeh_timeout) {\n",
       "      setTimeout(run_inline_js, 100);\n",
       "    } else if (!root._bokeh_failed_load) {\n",
       "      console.log(\"Bokeh: BokehJS failed to load within specified timeout.\");\n",
       "      root._bokeh_failed_load = true;\n",
       "    } else if (force !== true) {\n",
       "      var cell = $(document.getElementById(\"1001\")).parents('.cell').data().cell;\n",
       "      cell.output_area.append_execute_result(NB_LOAD_WARNING)\n",
       "    }\n",
       "\n",
       "  }\n",
       "\n",
       "  if (root._bokeh_is_loading === 0) {\n",
       "    console.debug(\"Bokeh: BokehJS loaded, going straight to plotting\");\n",
       "    run_inline_js();\n",
       "  } else {\n",
       "    load_libs(css_urls, js_urls, function() {\n",
       "      console.debug(\"Bokeh: BokehJS plotting callback run at\", now());\n",
       "      run_inline_js();\n",
       "    });\n",
       "  }\n",
       "}(window));"
      ],
      "application/vnd.bokehjs_load.v0+json": "\n(function(root) {\n  function now() {\n    return new Date();\n  }\n\n  var force = true;\n\n  if (typeof root._bokeh_onload_callbacks === \"undefined\" || force === true) {\n    root._bokeh_onload_callbacks = [];\n    root._bokeh_is_loading = undefined;\n  }\n\n  \n\n  \n  if (typeof (root._bokeh_timeout) === \"undefined\" || force === true) {\n    root._bokeh_timeout = Date.now() + 5000;\n    root._bokeh_failed_load = false;\n  }\n\n  var NB_LOAD_WARNING = {'data': {'text/html':\n     \"<div style='background-color: #fdd'>\\n\"+\n     \"<p>\\n\"+\n     \"BokehJS does not appear to have successfully loaded. If loading BokehJS from CDN, this \\n\"+\n     \"may be due to a slow or bad network connection. Possible fixes:\\n\"+\n     \"</p>\\n\"+\n     \"<ul>\\n\"+\n     \"<li>re-rerun `output_notebook()` to attempt to load from CDN again, or</li>\\n\"+\n     \"<li>use INLINE resources instead, as so:</li>\\n\"+\n     \"</ul>\\n\"+\n     \"<code>\\n\"+\n     \"from bokeh.resources import INLINE\\n\"+\n     \"output_notebook(resources=INLINE)\\n\"+\n     \"</code>\\n\"+\n     \"</div>\"}};\n\n  function display_loaded() {\n    var el = document.getElementById(\"1001\");\n    if (el != null) {\n      el.textContent = \"BokehJS is loading...\";\n    }\n    if (root.Bokeh !== undefined) {\n      if (el != null) {\n        el.textContent = \"BokehJS \" + root.Bokeh.version + \" successfully loaded.\";\n      }\n    } else if (Date.now() < root._bokeh_timeout) {\n      setTimeout(display_loaded, 100)\n    }\n  }\n\n\n  function run_callbacks() {\n    try {\n      root._bokeh_onload_callbacks.forEach(function(callback) {\n        if (callback != null)\n          callback();\n      });\n    } finally {\n      delete root._bokeh_onload_callbacks\n    }\n    console.debug(\"Bokeh: all callbacks have finished\");\n  }\n\n  function load_libs(css_urls, js_urls, callback) {\n    if (css_urls == null) css_urls = [];\n    if (js_urls == null) js_urls = [];\n\n    root._bokeh_onload_callbacks.push(callback);\n    if (root._bokeh_is_loading > 0) {\n      console.debug(\"Bokeh: BokehJS is being loaded, scheduling callback at\", now());\n      return null;\n    }\n    if (js_urls == null || js_urls.length === 0) {\n      run_callbacks();\n      return null;\n    }\n    console.debug(\"Bokeh: BokehJS not loaded, scheduling load and callback at\", now());\n    root._bokeh_is_loading = css_urls.length + js_urls.length;\n\n    function on_load() {\n      root._bokeh_is_loading--;\n      if (root._bokeh_is_loading === 0) {\n        console.debug(\"Bokeh: all BokehJS libraries/stylesheets loaded\");\n        run_callbacks()\n      }\n    }\n\n    function on_error() {\n      console.error(\"failed to load \" + url);\n    }\n\n    for (var i = 0; i < css_urls.length; i++) {\n      var url = css_urls[i];\n      const element = document.createElement(\"link\");\n      element.onload = on_load;\n      element.onerror = on_error;\n      element.rel = \"stylesheet\";\n      element.type = \"text/css\";\n      element.href = url;\n      console.debug(\"Bokeh: injecting link tag for BokehJS stylesheet: \", url);\n      document.body.appendChild(element);\n    }\n\n    const hashes = {\"https://cdn.bokeh.org/bokeh/release/bokeh-2.2.3.min.js\": \"T2yuo9Oe71Cz/I4X9Ac5+gpEa5a8PpJCDlqKYO0CfAuEszu1JrXLl8YugMqYe3sM\", \"https://cdn.bokeh.org/bokeh/release/bokeh-widgets-2.2.3.min.js\": \"98GDGJ0kOMCUMUePhksaQ/GYgB3+NH9h996V88sh3aOiUNX3N+fLXAtry6xctSZ6\", \"https://cdn.bokeh.org/bokeh/release/bokeh-tables-2.2.3.min.js\": \"89bArO+nlbP3sgakeHjCo1JYxYR5wufVgA3IbUvDY+K7w4zyxJqssu7wVnfeKCq8\"};\n\n    for (var i = 0; i < js_urls.length; i++) {\n      var url = js_urls[i];\n      var element = document.createElement('script');\n      element.onload = on_load;\n      element.onerror = on_error;\n      element.async = false;\n      element.src = url;\n      if (url in hashes) {\n        element.crossOrigin = \"anonymous\";\n        element.integrity = \"sha384-\" + hashes[url];\n      }\n      console.debug(\"Bokeh: injecting script tag for BokehJS library: \", url);\n      document.head.appendChild(element);\n    }\n  };\n\n  function inject_raw_css(css) {\n    const element = document.createElement(\"style\");\n    element.appendChild(document.createTextNode(css));\n    document.body.appendChild(element);\n  }\n\n  \n  var js_urls = [\"https://cdn.bokeh.org/bokeh/release/bokeh-2.2.3.min.js\", \"https://cdn.bokeh.org/bokeh/release/bokeh-widgets-2.2.3.min.js\", \"https://cdn.bokeh.org/bokeh/release/bokeh-tables-2.2.3.min.js\"];\n  var css_urls = [];\n  \n\n  var inline_js = [\n    function(Bokeh) {\n      Bokeh.set_log_level(\"info\");\n    },\n    function(Bokeh) {\n    \n    \n    }\n  ];\n\n  function run_inline_js() {\n    \n    if (root.Bokeh !== undefined || force === true) {\n      \n    for (var i = 0; i < inline_js.length; i++) {\n      inline_js[i].call(root, root.Bokeh);\n    }\n    if (force === true) {\n        display_loaded();\n      }} else if (Date.now() < root._bokeh_timeout) {\n      setTimeout(run_inline_js, 100);\n    } else if (!root._bokeh_failed_load) {\n      console.log(\"Bokeh: BokehJS failed to load within specified timeout.\");\n      root._bokeh_failed_load = true;\n    } else if (force !== true) {\n      var cell = $(document.getElementById(\"1001\")).parents('.cell').data().cell;\n      cell.output_area.append_execute_result(NB_LOAD_WARNING)\n    }\n\n  }\n\n  if (root._bokeh_is_loading === 0) {\n    console.debug(\"Bokeh: BokehJS loaded, going straight to plotting\");\n    run_inline_js();\n  } else {\n    load_libs(css_urls, js_urls, function() {\n      console.debug(\"Bokeh: BokehJS plotting callback run at\", now());\n      run_inline_js();\n    });\n  }\n}(window));"
     },
     "metadata": {},
     "output_type": "display_data"
    },
    {
     "data": {
      "text/html": [
       "\n",
       "\n",
       "\n",
       "\n",
       "\n",
       "\n",
       "  <div class=\"bk-root\" id=\"e148ebc0-1c83-4d21-a934-624ae44f9e44\" data-root-id=\"1002\"></div>\n"
      ]
     },
     "metadata": {},
     "output_type": "display_data"
    },
    {
     "data": {
      "application/javascript": [
       "(function(root) {\n",
       "  function embed_document(root) {\n",
       "    \n",
       "  var docs_json = {\"f66e2608-8d11-417d-8dfd-77b748d76422\":{\"roots\":{\"references\":[{\"attributes\":{\"below\":[{\"id\":\"1011\"}],\"center\":[{\"id\":\"1014\"},{\"id\":\"1018\"}],\"left\":[{\"id\":\"1015\"}],\"plot_height\":400,\"plot_width\":400,\"renderers\":[{\"id\":\"1036\"}],\"title\":{\"id\":\"1038\"},\"toolbar\":{\"id\":\"1026\"},\"x_range\":{\"id\":\"1003\"},\"x_scale\":{\"id\":\"1007\"},\"y_range\":{\"id\":\"1005\"},\"y_scale\":{\"id\":\"1009\"}},\"id\":\"1002\",\"subtype\":\"Figure\",\"type\":\"Plot\"},{\"attributes\":{\"axis\":{\"id\":\"1015\"},\"dimension\":1,\"ticker\":null},\"id\":\"1018\",\"type\":\"Grid\"},{\"attributes\":{\"formatter\":{\"id\":\"1043\"},\"ticker\":{\"id\":\"1016\"}},\"id\":\"1015\",\"type\":\"LinearAxis\"},{\"attributes\":{},\"id\":\"1007\",\"type\":\"LinearScale\"},{\"attributes\":{},\"id\":\"1045\",\"type\":\"Selection\"},{\"attributes\":{\"fill_alpha\":{\"value\":0.1},\"fill_color\":{\"value\":\"navy\"},\"line_alpha\":{\"value\":0.1},\"line_color\":{\"value\":\"navy\"},\"size\":{\"units\":\"screen\",\"value\":20},\"x\":{\"field\":\"x\"},\"y\":{\"field\":\"y\"}},\"id\":\"1035\",\"type\":\"Circle\"},{\"attributes\":{\"source\":{\"id\":\"1033\"}},\"id\":\"1037\",\"type\":\"CDSView\"},{\"attributes\":{\"active_drag\":\"auto\",\"active_inspect\":\"auto\",\"active_multi\":null,\"active_scroll\":\"auto\",\"active_tap\":\"auto\",\"tools\":[{\"id\":\"1019\"},{\"id\":\"1020\"},{\"id\":\"1021\"},{\"id\":\"1022\"},{\"id\":\"1023\"},{\"id\":\"1024\"}]},\"id\":\"1026\",\"type\":\"Toolbar\"},{\"attributes\":{\"bottom_units\":\"screen\",\"fill_alpha\":0.5,\"fill_color\":\"lightgrey\",\"left_units\":\"screen\",\"level\":\"overlay\",\"line_alpha\":1.0,\"line_color\":\"black\",\"line_dash\":[4,4],\"line_width\":2,\"right_units\":\"screen\",\"top_units\":\"screen\"},\"id\":\"1025\",\"type\":\"BoxAnnotation\"},{\"attributes\":{},\"id\":\"1005\",\"type\":\"DataRange1d\"},{\"attributes\":{},\"id\":\"1019\",\"type\":\"PanTool\"},{\"attributes\":{},\"id\":\"1020\",\"type\":\"WheelZoomTool\"},{\"attributes\":{},\"id\":\"1043\",\"type\":\"BasicTickFormatter\"},{\"attributes\":{},\"id\":\"1003\",\"type\":\"DataRange1d\"},{\"attributes\":{\"overlay\":{\"id\":\"1025\"}},\"id\":\"1021\",\"type\":\"BoxZoomTool\"},{\"attributes\":{},\"id\":\"1022\",\"type\":\"SaveTool\"},{\"attributes\":{},\"id\":\"1023\",\"type\":\"ResetTool\"},{\"attributes\":{},\"id\":\"1044\",\"type\":\"UnionRenderers\"},{\"attributes\":{},\"id\":\"1024\",\"type\":\"HelpTool\"},{\"attributes\":{\"fill_alpha\":{\"value\":0.5},\"fill_color\":{\"value\":\"navy\"},\"line_alpha\":{\"value\":0.5},\"line_color\":{\"value\":\"navy\"},\"size\":{\"units\":\"screen\",\"value\":20},\"x\":{\"field\":\"x\"},\"y\":{\"field\":\"y\"}},\"id\":\"1034\",\"type\":\"Circle\"},{\"attributes\":{\"formatter\":{\"id\":\"1041\"},\"ticker\":{\"id\":\"1012\"}},\"id\":\"1011\",\"type\":\"LinearAxis\"},{\"attributes\":{},\"id\":\"1016\",\"type\":\"BasicTicker\"},{\"attributes\":{\"text\":\"\"},\"id\":\"1038\",\"type\":\"Title\"},{\"attributes\":{},\"id\":\"1009\",\"type\":\"LinearScale\"},{\"attributes\":{},\"id\":\"1012\",\"type\":\"BasicTicker\"},{\"attributes\":{\"data_source\":{\"id\":\"1033\"},\"glyph\":{\"id\":\"1034\"},\"hover_glyph\":null,\"muted_glyph\":null,\"nonselection_glyph\":{\"id\":\"1035\"},\"selection_glyph\":null,\"view\":{\"id\":\"1037\"}},\"id\":\"1036\",\"type\":\"GlyphRenderer\"},{\"attributes\":{\"data\":{\"x\":[1,2,3,4,5],\"y\":[6,7,2,4,5]},\"selected\":{\"id\":\"1045\"},\"selection_policy\":{\"id\":\"1044\"}},\"id\":\"1033\",\"type\":\"ColumnDataSource\"},{\"attributes\":{\"axis\":{\"id\":\"1011\"},\"ticker\":null},\"id\":\"1014\",\"type\":\"Grid\"},{\"attributes\":{},\"id\":\"1041\",\"type\":\"BasicTickFormatter\"}],\"root_ids\":[\"1002\"]},\"title\":\"Bokeh Application\",\"version\":\"2.2.3\"}};\n",
       "  var render_items = [{\"docid\":\"f66e2608-8d11-417d-8dfd-77b748d76422\",\"root_ids\":[\"1002\"],\"roots\":{\"1002\":\"e148ebc0-1c83-4d21-a934-624ae44f9e44\"}}];\n",
       "  root.Bokeh.embed.embed_items_notebook(docs_json, render_items);\n",
       "\n",
       "  }\n",
       "  if (root.Bokeh !== undefined) {\n",
       "    embed_document(root);\n",
       "  } else {\n",
       "    var attempts = 0;\n",
       "    var timer = setInterval(function(root) {\n",
       "      if (root.Bokeh !== undefined) {\n",
       "        clearInterval(timer);\n",
       "        embed_document(root);\n",
       "      } else {\n",
       "        attempts++;\n",
       "        if (attempts > 100) {\n",
       "          clearInterval(timer);\n",
       "          console.log(\"Bokeh: ERROR: Unable to run BokehJS code because BokehJS library is missing\");\n",
       "        }\n",
       "      }\n",
       "    }, 10, root)\n",
       "  }\n",
       "})(window);"
      ],
      "application/vnd.bokehjs_exec.v0+json": ""
     },
     "metadata": {
      "application/vnd.bokehjs_exec.v0+json": {
       "id": "1002"
      }
     },
     "output_type": "display_data"
    }
   ],
   "source": [
    "# 在notebook中创建绘图空间\n",
    "\n",
    "from bokeh.plotting import figure,show\n",
    "# 导入图表绘制、图标展示模块\n",
    "\n",
    "from bokeh.io import output_notebook\n",
    "# 导入notebook绘图模块\n",
    "\n",
    "output_notebook()\n",
    "# notebook绘图命令\n",
    "\n",
    "p = figure(plot_width=400, plot_height=400)   # 创建图表，设置宽度、高度\n",
    "p.circle([1, 2, 3, 4, 5], [6, 7, 2, 4, 5], size=20, color=\"navy\", alpha=0.5)\n",
    "# 创建一个圆形散点图\n",
    "\n",
    "show(p)\n",
    "# 绘图"
   ]
  },
  {
   "cell_type": "code",
   "execution_count": 5,
   "metadata": {},
   "outputs": [
    {
     "data": {
      "text/html": [
       "\n",
       "\n",
       "\n",
       "\n",
       "\n",
       "\n",
       "  <div class=\"bk-root\" id=\"3d449c9e-a42e-4e3d-8946-50e3563d1488\" data-root-id=\"1092\"></div>\n"
      ]
     },
     "metadata": {},
     "output_type": "display_data"
    },
    {
     "data": {
      "application/javascript": [
       "(function(root) {\n",
       "  function embed_document(root) {\n",
       "    \n",
       "  var docs_json = {\"f5fa9b1d-8830-45dd-b932-a29ac51829ae\":{\"roots\":{\"references\":[{\"attributes\":{\"below\":[{\"id\":\"1103\"}],\"center\":[{\"id\":\"1106\"},{\"id\":\"1110\"}],\"left\":[{\"id\":\"1107\"}],\"plot_height\":400,\"renderers\":[{\"id\":\"1128\"}],\"title\":{\"id\":\"1093\"},\"toolbar\":{\"id\":\"1118\"},\"toolbar_location\":\"above\",\"x_range\":{\"id\":\"1095\"},\"x_scale\":{\"id\":\"1099\"},\"y_range\":{\"id\":\"1097\"},\"y_scale\":{\"id\":\"1101\"}},\"id\":\"1092\",\"subtype\":\"Figure\",\"type\":\"Plot\"},{\"attributes\":{\"active_drag\":\"auto\",\"active_inspect\":\"auto\",\"active_multi\":null,\"active_scroll\":\"auto\",\"active_tap\":\"auto\",\"tools\":[{\"id\":\"1111\"},{\"id\":\"1112\"},{\"id\":\"1113\"},{\"id\":\"1114\"},{\"id\":\"1115\"},{\"id\":\"1116\"}]},\"id\":\"1118\",\"type\":\"Toolbar\"},{\"attributes\":{\"bottom_units\":\"screen\",\"fill_alpha\":0.5,\"fill_color\":\"lightgrey\",\"left_units\":\"screen\",\"level\":\"overlay\",\"line_alpha\":1.0,\"line_color\":\"black\",\"line_dash\":[4,4],\"line_width\":2,\"right_units\":\"screen\",\"top_units\":\"screen\"},\"id\":\"1117\",\"type\":\"BoxAnnotation\"},{\"attributes\":{\"axis\":{\"id\":\"1103\"},\"ticker\":null},\"id\":\"1106\",\"type\":\"Grid\"},{\"attributes\":{},\"id\":\"1141\",\"type\":\"BasicTickFormatter\"},{\"attributes\":{\"axis_label\":\"A\",\"formatter\":{\"id\":\"1141\"},\"ticker\":{\"id\":\"1104\"}},\"id\":\"1103\",\"type\":\"LinearAxis\"},{\"attributes\":{\"source\":{\"id\":\"1125\"}},\"id\":\"1129\",\"type\":\"CDSView\"},{\"attributes\":{\"background_fill_color\":\"black\",\"text\":\"\\u6d4b\\u8bd5\\u56fe\\u8868\",\"text_color\":{\"value\":\"red\"},\"text_font\":\"times\",\"text_font_style\":\"italic\"},\"id\":\"1093\",\"type\":\"Title\"},{\"attributes\":{},\"id\":\"1104\",\"type\":\"BasicTicker\"},{\"attributes\":{\"fill_alpha\":{\"value\":0.5},\"fill_color\":{\"value\":\"#1f77b4\"},\"line_alpha\":{\"value\":0.5},\"line_color\":{\"value\":\"#1f77b4\"},\"size\":{\"units\":\"screen\",\"value\":20},\"x\":{\"field\":\"x\"},\"y\":{\"field\":\"y\"}},\"id\":\"1126\",\"type\":\"Circle\"},{\"attributes\":{\"axis\":{\"id\":\"1107\"},\"dimension\":1,\"ticker\":null},\"id\":\"1110\",\"type\":\"Grid\"},{\"attributes\":{},\"id\":\"1101\",\"type\":\"LinearScale\"},{\"attributes\":{},\"id\":\"1114\",\"type\":\"SaveTool\"},{\"attributes\":{\"data_source\":{\"id\":\"1125\"},\"glyph\":{\"id\":\"1126\"},\"hover_glyph\":null,\"muted_glyph\":null,\"nonselection_glyph\":{\"id\":\"1127\"},\"selection_glyph\":null,\"view\":{\"id\":\"1129\"}},\"id\":\"1128\",\"type\":\"GlyphRenderer\"},{\"attributes\":{},\"id\":\"1108\",\"type\":\"BasicTicker\"},{\"attributes\":{\"end\":3,\"start\":-3},\"id\":\"1097\",\"type\":\"Range1d\"},{\"attributes\":{},\"id\":\"1099\",\"type\":\"LinearScale\"},{\"attributes\":{\"fill_alpha\":{\"value\":0.1},\"fill_color\":{\"value\":\"#1f77b4\"},\"line_alpha\":{\"value\":0.1},\"line_color\":{\"value\":\"#1f77b4\"},\"size\":{\"units\":\"screen\",\"value\":20},\"x\":{\"field\":\"x\"},\"y\":{\"field\":\"y\"}},\"id\":\"1127\",\"type\":\"Circle\"},{\"attributes\":{},\"id\":\"1144\",\"type\":\"UnionRenderers\"},{\"attributes\":{},\"id\":\"1116\",\"type\":\"HelpTool\"},{\"attributes\":{},\"id\":\"1143\",\"type\":\"BasicTickFormatter\"},{\"attributes\":{},\"id\":\"1115\",\"type\":\"ResetTool\"},{\"attributes\":{},\"id\":\"1145\",\"type\":\"Selection\"},{\"attributes\":{\"overlay\":{\"id\":\"1117\"}},\"id\":\"1113\",\"type\":\"BoxZoomTool\"},{\"attributes\":{\"axis_label\":\"B\",\"formatter\":{\"id\":\"1143\"},\"ticker\":{\"id\":\"1108\"}},\"id\":\"1107\",\"type\":\"LinearAxis\"},{\"attributes\":{\"data\":{\"x\":{\"__ndarray__\":\"TEA0MNp71D8LGjBQ3Bfbv5wNR1MdSca/7A6F94+e7j8u7JQQmzzrv7dLyx96J9y/BDIAmb0JmL97C3TB1AHZP+hacFGc3eg/WnR0bfLx4b8EA9C5h/rSvy2qr3vuiwbAaDRDL38P479LMmbx8a/BP/9JofgLE9q/ynR+58hk0r+9YPx9NUD1v96HTBAKsPe/Sj1bGAlbyr/PJgDAk7vPP2HVSMpHcPe/m71yDXq4/L+pGdjNFSjqv4rjt9deKO0/XYfHkBNFAsCS+X2JoJ/mP4UmNPNPELO/RjO5hi9i4r9t8rXl6KDTP359YbO1Ptu/p/x03QEm+T8Q4N8FuDX6P2VxDD26U/Q/Sc1wt42E1D8F2SLtZ6+zPyO3fNPkPPM/TAqoIJy857/88mBLOhquvz3loa3id82/H3SPDfwZ/79pCoAKZsjrv6x3oqOTZuw/D2QnQiml8D+H6XaV5AXRP8Yl6FIlsSW/KtjSQeZf1z+bB40+MgLXv9wHUsqaTfC/FwFCmyF87z/jqC3ZQVC3v0naWi+Ey9A/CKWiWbhRlL88Pl282R3aP2k2K42k4vA/Kw+t6aA7b78nmFp30D31P+C1gytYoOI/bABGmgfk0j/NCNYJod/gv9HJ13CYP/u/Ml39rNxR8D9ZaOenaYTaP9A6m4Q3XJ6/TbvDE8i/57+xX+5ZkxXqv5liTTUSJq0/Dg5twZeCyj9nmi/EyYrjv8D8msESE/i/bVy2SsA+8b9LQ546cH6nv0qXGVqkevG/9uDXznzcwT9VwXDemXx6v107FPvxctu/gIv4FuY76D9EKR2AEWjYP7ZxOFdWQv0/OLhmCxIj4L9Y7ylji8zSv3SaI15KLfi/zVGdX7x2+L9SOUq9vH7Pv7tcMZt0rPk/u4YxkwA9/T8b9PF9JLrnv/pPifVCJtm/5n+exCC34L+eiGSzLGbov1WKfmARIeW/lMugiL7J9T+7gEBkH3zrP7Sani6yFuA/VZrk9YEd9z/ZccITl+XZv+dOZUddRdg/LqN6qRLey79O1Q4y82PMP11q7il83Pi/+v9CWH9p878=\",\"dtype\":\"float64\",\"order\":\"little\",\"shape\":[100]},\"y\":{\"__ndarray__\":\"I3CoSWkA8r9lnFuvu7Lavz5a6I9V2vC/4DbiAl4Q7z+XahdjCzTRP15RE7Lzabq/szxGzu0b4z9pgdl5QVzhv+o6rS3NkeS/TWlZWzpj0j/8ke72DFjzv2zcH5HZjLE/RpibkUcJ8b+uXmhPGLbUv7206vdcH/A/A3wRdZpD0L9zsnP6s/7Av+KWrtNUwOg/2/jAJAym0j8ugNyKuS35v2G+nWnfSPO/5SFt1cJ2mT9J0O0vAuXpP8JZD49TefE/3ful+RVr1L/nxw+9vNTTPxIjL0xEROo/UVGpHsN4879tp75wQ3zgvz1W8GjGJ/C/YTQBoUzo5b/fX0pd/ingv6xuoPV+V+y/8tagY2Iw9b9gI47vGHDrv7ZA9loMW9y/g2Bi5HA/0r9umG0nHNzyPym2HqQIU/a/fAtgb8T/+T8Gep5hgq3Vv4tuAOGtFVk/mwfz/iEk47/CVzPSX6nFPzwjKtuxF/O/gbQqdO7v2b+YBB/NfbriP09EBWfR1Oi/tguM+I009j9vmje+VXoDwIt29s69a+i/fIgbHvhy/L8N+LPxA2XCP66HJdWvPgDA3Ojl3mGXob+0jNbu18ftPzeYBZ6Ettc/XBECPi9EeL+aq9XUh6/pPyT3ZqucxOS/klVgTTRA8L+LsbabJVXuv/Xz2IPwP8U/+gbsbE92978TdILKEe7wv1p40AhaUeG/nP70IN/8AMDHF/O2EPCQP4E5PvU54/i/2r6knuKK3j/zu3copqu8v93RsWgKrtU/d5o9+dF66D+fYNzL1ZL7v7kRwplP/gPAjagpfdYh6D8Bm7caGV6zPylf8XsCUdM/8hRj2cbH7j9379yZhTUBwIpGfvLUrAFANJJUFihG8j/SyH/CrWnbP3MB/w10zu6/XtntufNh8D8kqhcDiXXdPzS/qX8KHN+/dUIMpFHL9L8wu1KgAsv0Pxk2CcZm8sc/W4YI3RWl57/fgBqhnpLuv1Ex22VAStA/QABCali26j9Lnik9wNPAPzCSgZZMJfa/PnP4YplP9z/cKjT3bXbzv196KpG5XOu/cFKMpqWp0b8=\",\"dtype\":\"float64\",\"order\":\"little\",\"shape\":[100]}},\"selected\":{\"id\":\"1145\"},\"selection_policy\":{\"id\":\"1144\"}},\"id\":\"1125\",\"type\":\"ColumnDataSource\"},{\"attributes\":{},\"id\":\"1112\",\"type\":\"WheelZoomTool\"},{\"attributes\":{},\"id\":\"1111\",\"type\":\"PanTool\"},{\"attributes\":{\"end\":3,\"start\":-3},\"id\":\"1095\",\"type\":\"Range1d\"}],\"root_ids\":[\"1092\"]},\"title\":\"Bokeh Application\",\"version\":\"2.2.3\"}};\n",
       "  var render_items = [{\"docid\":\"f5fa9b1d-8830-45dd-b932-a29ac51829ae\",\"root_ids\":[\"1092\"],\"roots\":{\"1092\":\"3d449c9e-a42e-4e3d-8946-50e3563d1488\"}}];\n",
       "  root.Bokeh.embed.embed_items_notebook(docs_json, render_items);\n",
       "\n",
       "  }\n",
       "  if (root.Bokeh !== undefined) {\n",
       "    embed_document(root);\n",
       "  } else {\n",
       "    var attempts = 0;\n",
       "    var timer = setInterval(function(root) {\n",
       "      if (root.Bokeh !== undefined) {\n",
       "        clearInterval(timer);\n",
       "        embed_document(root);\n",
       "      } else {\n",
       "        attempts++;\n",
       "        if (attempts > 100) {\n",
       "          clearInterval(timer);\n",
       "          console.log(\"Bokeh: ERROR: Unable to run BokehJS code because BokehJS library is missing\");\n",
       "        }\n",
       "      }\n",
       "    }, 10, root)\n",
       "  }\n",
       "})(window);"
      ],
      "application/vnd.bokehjs_exec.v0+json": ""
     },
     "metadata": {
      "application/vnd.bokehjs_exec.v0+json": {
       "id": "1092"
      }
     },
     "output_type": "display_data"
    }
   ],
   "source": [
    "# 创建图表工具 \n",
    "# figure()\n",
    "df = pd.DataFrame(np.random.randn(100, 2), columns = ['A', 'B'])\n",
    "p = figure(plot_width = 600, plot_height = 400, # 图表宽度、高度\n",
    "           tools = 'pan,wheel_zoom,box_zoom,save,reset,help',  # 设置工具栏，默认全部显示\n",
    "           toolbar_location='above',     # 工具栏位置：\"above\"，\"below\"，\"left\"，\"right\"\n",
    "           x_axis_label = 'A', y_axis_label = 'B',    # X,Y轴label\n",
    "           x_range = [-3,3], y_range = [-3,3],        # X,Y轴范围\n",
    "           title=\"测试图表\"                          # 设置图表title\n",
    "          )\n",
    "# figure创建图表，设置基本参数\n",
    "# tool参考文档：https://bokeh.pydata.org/en/latest/docs/user_guide/tools.html\n",
    "\n",
    "p.title.text_color = \"red\"\n",
    "p.title.text_font = \"times\"\n",
    "p.title.text_font_style = \"italic\"\n",
    "p.title.background_fill_color = \"black\"\n",
    "# 设置标题：颜色、字体、风格、背景颜色   \n",
    "\n",
    "p.circle(df['A'], df['B'], size = 20, alpha = 0.5) # 创建散点图  # 这里.circle()是figure的一个绘图方法\n",
    "show(p)"
   ]
  },
  {
   "cell_type": "code",
   "execution_count": 6,
   "metadata": {},
   "outputs": [
    {
     "data": {
      "text/html": [
       "\n",
       "\n",
       "\n",
       "\n",
       "\n",
       "\n",
       "  <div class=\"bk-root\" id=\"193b0704-27d9-41c7-bff4-e158854076d9\" data-root-id=\"1187\"></div>\n"
      ]
     },
     "metadata": {},
     "output_type": "display_data"
    },
    {
     "data": {
      "application/javascript": [
       "(function(root) {\n",
       "  function embed_document(root) {\n",
       "    \n",
       "  var docs_json = {\"8f98aa98-5a60-4ced-8f65-3c1bbaa47aa7\":{\"roots\":{\"references\":[{\"attributes\":{\"below\":[{\"id\":\"1196\"}],\"center\":[{\"id\":\"1199\"},{\"id\":\"1203\"}],\"left\":[{\"id\":\"1200\"}],\"plot_height\":400,\"renderers\":[{\"id\":\"1221\"},{\"id\":\"1226\"}],\"title\":{\"id\":\"1245\"},\"toolbar\":{\"id\":\"1211\"},\"x_range\":{\"id\":\"1188\"},\"x_scale\":{\"id\":\"1192\"},\"y_range\":{\"id\":\"1190\"},\"y_scale\":{\"id\":\"1194\"}},\"id\":\"1187\",\"subtype\":\"Figure\",\"type\":\"Plot\"},{\"attributes\":{},\"id\":\"1188\",\"type\":\"DataRange1d\"},{\"attributes\":{},\"id\":\"1204\",\"type\":\"PanTool\"},{\"attributes\":{\"formatter\":{\"id\":\"1248\"},\"ticker\":{\"id\":\"1197\"}},\"id\":\"1196\",\"type\":\"LinearAxis\"},{\"attributes\":{},\"id\":\"1205\",\"type\":\"WheelZoomTool\"},{\"attributes\":{\"source\":{\"id\":\"1218\"}},\"id\":\"1222\",\"type\":\"CDSView\"},{\"attributes\":{\"active_drag\":\"auto\",\"active_inspect\":\"auto\",\"active_multi\":null,\"active_scroll\":\"auto\",\"active_tap\":\"auto\",\"tools\":[{\"id\":\"1204\"},{\"id\":\"1205\"},{\"id\":\"1206\"},{\"id\":\"1207\"},{\"id\":\"1208\"},{\"id\":\"1209\"}]},\"id\":\"1211\",\"type\":\"Toolbar\"},{\"attributes\":{},\"id\":\"1201\",\"type\":\"BasicTicker\"},{\"attributes\":{\"text\":\"\"},\"id\":\"1245\",\"type\":\"Title\"},{\"attributes\":{\"data\":{\"x\":[0,1,2,3,4,5,6,7,8,9,10,11,12,13,14,15,16,17,18,19,20,21,22,23,24,25,26,27,28,29,30,31,32,33,34,35,36,37,38,39,40,41,42,43,44,45,46,47,48,49,50,51,52,53,54,55,56,57,58,59,60,61,62,63,64,65,66,67,68,69,70,71,72,73,74,75,76,77,78,79,80,81,82,83,84,85,86,87,88,89,90,91,92,93,94,95,96,97,98,99],\"y\":{\"__ndarray__\":\"I3CoSWkA8r9lnFuvu7Lavz5a6I9V2vC/4DbiAl4Q7z+XahdjCzTRP15RE7Lzabq/szxGzu0b4z9pgdl5QVzhv+o6rS3NkeS/TWlZWzpj0j/8ke72DFjzv2zcH5HZjLE/RpibkUcJ8b+uXmhPGLbUv7206vdcH/A/A3wRdZpD0L9zsnP6s/7Av+KWrtNUwOg/2/jAJAym0j8ugNyKuS35v2G+nWnfSPO/5SFt1cJ2mT9J0O0vAuXpP8JZD49TefE/3ful+RVr1L/nxw+9vNTTPxIjL0xEROo/UVGpHsN4879tp75wQ3zgvz1W8GjGJ/C/YTQBoUzo5b/fX0pd/ingv6xuoPV+V+y/8tagY2Iw9b9gI47vGHDrv7ZA9loMW9y/g2Bi5HA/0r9umG0nHNzyPym2HqQIU/a/fAtgb8T/+T8Gep5hgq3Vv4tuAOGtFVk/mwfz/iEk47/CVzPSX6nFPzwjKtuxF/O/gbQqdO7v2b+YBB/NfbriP09EBWfR1Oi/tguM+I009j9vmje+VXoDwIt29s69a+i/fIgbHvhy/L8N+LPxA2XCP66HJdWvPgDA3Ojl3mGXob+0jNbu18ftPzeYBZ6Ettc/XBECPi9EeL+aq9XUh6/pPyT3ZqucxOS/klVgTTRA8L+LsbabJVXuv/Xz2IPwP8U/+gbsbE92978TdILKEe7wv1p40AhaUeG/nP70IN/8AMDHF/O2EPCQP4E5PvU54/i/2r6knuKK3j/zu3copqu8v93RsWgKrtU/d5o9+dF66D+fYNzL1ZL7v7kRwplP/gPAjagpfdYh6D8Bm7caGV6zPylf8XsCUdM/8hRj2cbH7j9379yZhTUBwIpGfvLUrAFANJJUFihG8j/SyH/CrWnbP3MB/w10zu6/XtntufNh8D8kqhcDiXXdPzS/qX8KHN+/dUIMpFHL9L8wu1KgAsv0Pxk2CcZm8sc/W4YI3RWl57/fgBqhnpLuv1Ex22VAStA/QABCali26j9Lnik9wNPAPzCSgZZMJfa/PnP4YplP9z/cKjT3bXbzv196KpG5XOu/cFKMpqWp0b8=\",\"dtype\":\"float64\",\"order\":\"little\",\"shape\":[100]}},\"selected\":{\"id\":\"1254\"},\"selection_policy\":{\"id\":\"1253\"}},\"id\":\"1223\",\"type\":\"ColumnDataSource\"},{\"attributes\":{\"data_source\":{\"id\":\"1218\"},\"glyph\":{\"id\":\"1219\"},\"hover_glyph\":null,\"muted_glyph\":null,\"nonselection_glyph\":{\"id\":\"1220\"},\"selection_glyph\":null,\"view\":{\"id\":\"1222\"}},\"id\":\"1221\",\"type\":\"GlyphRenderer\"},{\"attributes\":{\"fill_alpha\":{\"value\":0.1},\"fill_color\":{\"value\":\"green\"},\"line_alpha\":{\"value\":0.1},\"line_color\":{\"value\":\"green\"},\"size\":{\"units\":\"screen\",\"value\":10},\"x\":{\"field\":\"x\"},\"y\":{\"field\":\"y\"}},\"id\":\"1220\",\"type\":\"Circle\"},{\"attributes\":{},\"id\":\"1248\",\"type\":\"BasicTickFormatter\"},{\"attributes\":{\"fill_alpha\":{\"value\":0.1},\"fill_color\":{\"value\":\"#FF0000\"},\"line_alpha\":{\"value\":0.1},\"line_color\":{\"value\":\"#FF0000\"},\"size\":{\"units\":\"screen\",\"value\":10},\"x\":{\"field\":\"x\"},\"y\":{\"field\":\"y\"}},\"id\":\"1225\",\"type\":\"Circle\"},{\"attributes\":{},\"id\":\"1209\",\"type\":\"HelpTool\"},{\"attributes\":{\"formatter\":{\"id\":\"1250\"},\"ticker\":{\"id\":\"1201\"}},\"id\":\"1200\",\"type\":\"LinearAxis\"},{\"attributes\":{\"source\":{\"id\":\"1223\"}},\"id\":\"1227\",\"type\":\"CDSView\"},{\"attributes\":{},\"id\":\"1194\",\"type\":\"LinearScale\"},{\"attributes\":{\"axis\":{\"id\":\"1200\"},\"dimension\":1,\"ticker\":null},\"id\":\"1203\",\"type\":\"Grid\"},{\"attributes\":{},\"id\":\"1190\",\"type\":\"DataRange1d\"},{\"attributes\":{\"data\":{\"x\":[0,1,2,3,4,5,6,7,8,9,10,11,12,13,14,15,16,17,18,19,20,21,22,23,24,25,26,27,28,29,30,31,32,33,34,35,36,37,38,39,40,41,42,43,44,45,46,47,48,49,50,51,52,53,54,55,56,57,58,59,60,61,62,63,64,65,66,67,68,69,70,71,72,73,74,75,76,77,78,79,80,81,82,83,84,85,86,87,88,89,90,91,92,93,94,95,96,97,98,99],\"y\":{\"__ndarray__\":\"TEA0MNp71D8LGjBQ3Bfbv5wNR1MdSca/7A6F94+e7j8u7JQQmzzrv7dLyx96J9y/BDIAmb0JmL97C3TB1AHZP+hacFGc3eg/WnR0bfLx4b8EA9C5h/rSvy2qr3vuiwbAaDRDL38P479LMmbx8a/BP/9JofgLE9q/ynR+58hk0r+9YPx9NUD1v96HTBAKsPe/Sj1bGAlbyr/PJgDAk7vPP2HVSMpHcPe/m71yDXq4/L+pGdjNFSjqv4rjt9deKO0/XYfHkBNFAsCS+X2JoJ/mP4UmNPNPELO/RjO5hi9i4r9t8rXl6KDTP359YbO1Ptu/p/x03QEm+T8Q4N8FuDX6P2VxDD26U/Q/Sc1wt42E1D8F2SLtZ6+zPyO3fNPkPPM/TAqoIJy857/88mBLOhquvz3loa3id82/H3SPDfwZ/79pCoAKZsjrv6x3oqOTZuw/D2QnQiml8D+H6XaV5AXRP8Yl6FIlsSW/KtjSQeZf1z+bB40+MgLXv9wHUsqaTfC/FwFCmyF87z/jqC3ZQVC3v0naWi+Ey9A/CKWiWbhRlL88Pl282R3aP2k2K42k4vA/Kw+t6aA7b78nmFp30D31P+C1gytYoOI/bABGmgfk0j/NCNYJod/gv9HJ13CYP/u/Ml39rNxR8D9ZaOenaYTaP9A6m4Q3XJ6/TbvDE8i/57+xX+5ZkxXqv5liTTUSJq0/Dg5twZeCyj9nmi/EyYrjv8D8msESE/i/bVy2SsA+8b9LQ546cH6nv0qXGVqkevG/9uDXznzcwT9VwXDemXx6v107FPvxctu/gIv4FuY76D9EKR2AEWjYP7ZxOFdWQv0/OLhmCxIj4L9Y7ylji8zSv3SaI15KLfi/zVGdX7x2+L9SOUq9vH7Pv7tcMZt0rPk/u4YxkwA9/T8b9PF9JLrnv/pPifVCJtm/5n+exCC34L+eiGSzLGbov1WKfmARIeW/lMugiL7J9T+7gEBkH3zrP7Sani6yFuA/VZrk9YEd9z/ZccITl+XZv+dOZUddRdg/LqN6qRLey79O1Q4y82PMP11q7il83Pi/+v9CWH9p878=\",\"dtype\":\"float64\",\"order\":\"little\",\"shape\":[100]}},\"selected\":{\"id\":\"1252\"},\"selection_policy\":{\"id\":\"1251\"}},\"id\":\"1218\",\"type\":\"ColumnDataSource\"},{\"attributes\":{},\"id\":\"1251\",\"type\":\"UnionRenderers\"},{\"attributes\":{\"axis\":{\"id\":\"1196\"},\"ticker\":null},\"id\":\"1199\",\"type\":\"Grid\"},{\"attributes\":{\"data_source\":{\"id\":\"1223\"},\"glyph\":{\"id\":\"1224\"},\"hover_glyph\":null,\"muted_glyph\":null,\"nonselection_glyph\":{\"id\":\"1225\"},\"selection_glyph\":null,\"view\":{\"id\":\"1227\"}},\"id\":\"1226\",\"type\":\"GlyphRenderer\"},{\"attributes\":{},\"id\":\"1253\",\"type\":\"UnionRenderers\"},{\"attributes\":{},\"id\":\"1252\",\"type\":\"Selection\"},{\"attributes\":{},\"id\":\"1250\",\"type\":\"BasicTickFormatter\"},{\"attributes\":{},\"id\":\"1254\",\"type\":\"Selection\"},{\"attributes\":{\"fill_alpha\":{\"value\":0.5},\"fill_color\":{\"value\":\"green\"},\"line_alpha\":{\"value\":0.5},\"line_color\":{\"value\":\"green\"},\"size\":{\"units\":\"screen\",\"value\":10},\"x\":{\"field\":\"x\"},\"y\":{\"field\":\"y\"}},\"id\":\"1219\",\"type\":\"Circle\"},{\"attributes\":{},\"id\":\"1207\",\"type\":\"SaveTool\"},{\"attributes\":{\"bottom_units\":\"screen\",\"fill_alpha\":0.5,\"fill_color\":\"lightgrey\",\"left_units\":\"screen\",\"level\":\"overlay\",\"line_alpha\":1.0,\"line_color\":\"black\",\"line_dash\":[4,4],\"line_width\":2,\"right_units\":\"screen\",\"top_units\":\"screen\"},\"id\":\"1210\",\"type\":\"BoxAnnotation\"},{\"attributes\":{},\"id\":\"1192\",\"type\":\"LinearScale\"},{\"attributes\":{\"fill_alpha\":{\"value\":0.5},\"fill_color\":{\"value\":\"#FF0000\"},\"line_alpha\":{\"value\":0.5},\"line_color\":{\"value\":\"#FF0000\"},\"size\":{\"units\":\"screen\",\"value\":10},\"x\":{\"field\":\"x\"},\"y\":{\"field\":\"y\"}},\"id\":\"1224\",\"type\":\"Circle\"},{\"attributes\":{},\"id\":\"1208\",\"type\":\"ResetTool\"},{\"attributes\":{},\"id\":\"1197\",\"type\":\"BasicTicker\"},{\"attributes\":{\"overlay\":{\"id\":\"1210\"}},\"id\":\"1206\",\"type\":\"BoxZoomTool\"}],\"root_ids\":[\"1187\"]},\"title\":\"Bokeh Application\",\"version\":\"2.2.3\"}};\n",
       "  var render_items = [{\"docid\":\"8f98aa98-5a60-4ced-8f65-3c1bbaa47aa7\",\"root_ids\":[\"1187\"],\"roots\":{\"1187\":\"193b0704-27d9-41c7-bff4-e158854076d9\"}}];\n",
       "  root.Bokeh.embed.embed_items_notebook(docs_json, render_items);\n",
       "\n",
       "  }\n",
       "  if (root.Bokeh !== undefined) {\n",
       "    embed_document(root);\n",
       "  } else {\n",
       "    var attempts = 0;\n",
       "    var timer = setInterval(function(root) {\n",
       "      if (root.Bokeh !== undefined) {\n",
       "        clearInterval(timer);\n",
       "        embed_document(root);\n",
       "      } else {\n",
       "        attempts++;\n",
       "        if (attempts > 100) {\n",
       "          clearInterval(timer);\n",
       "          console.log(\"Bokeh: ERROR: Unable to run BokehJS code because BokehJS library is missing\");\n",
       "        }\n",
       "      }\n",
       "    }, 10, root)\n",
       "  }\n",
       "})(window);"
      ],
      "application/vnd.bokehjs_exec.v0+json": ""
     },
     "metadata": {
      "application/vnd.bokehjs_exec.v0+json": {
       "id": "1187"
      }
     },
     "output_type": "display_data"
    }
   ],
   "source": [
    "# 颜色设置\n",
    "\n",
    "p = figure(plot_width=600, plot_height=400)\n",
    "# 创建绘图空间\n",
    "\n",
    "p.circle(df.index, df['A'], color = 'green', size=10,  alpha=0.5) \n",
    "p.circle(df.index, df['B'], color = '#FF0000', size=10,  alpha=0.5) #这两个散点图会在一块一张图上，如果想分开就p1，p2\n",
    "show(p)  \n",
    "# 颜色设置\n",
    "# ① 147个CSS颜色，参考网址：http://www.colors.commutercreative.com/grid/\n",
    "# ② RGB颜色值，参考网址：https://coolors.co/87f1ff-c0f5fa-bd8b9c-af125a-582b11"
   ]
  },
  {
   "cell_type": "code",
   "execution_count": 7,
   "metadata": {},
   "outputs": [
    {
     "data": {
      "text/html": [
       "\n",
       "\n",
       "\n",
       "\n",
       "\n",
       "\n",
       "  <div class=\"bk-root\" id=\"1733c2fa-6d04-44d6-bf35-a84db597a8f2\" data-root-id=\"1311\"></div>\n"
      ]
     },
     "metadata": {},
     "output_type": "display_data"
    },
    {
     "data": {
      "application/javascript": [
       "(function(root) {\n",
       "  function embed_document(root) {\n",
       "    \n",
       "  var docs_json = {\"b2a59230-7c86-48ee-a022-41e7bc24a613\":{\"roots\":{\"references\":[{\"attributes\":{\"below\":[{\"id\":\"1320\"}],\"center\":[{\"id\":\"1323\"},{\"id\":\"1327\"}],\"left\":[{\"id\":\"1324\"}],\"outline_line_alpha\":0.3,\"outline_line_color\":\"navy\",\"outline_line_dash\":[6,4],\"outline_line_width\":7,\"plot_height\":400,\"renderers\":[{\"id\":\"1345\"},{\"id\":\"1350\"}],\"title\":{\"id\":\"1380\"},\"toolbar\":{\"id\":\"1335\"},\"x_range\":{\"id\":\"1312\"},\"x_scale\":{\"id\":\"1316\"},\"y_range\":{\"id\":\"1314\"},\"y_scale\":{\"id\":\"1318\"}},\"id\":\"1311\",\"subtype\":\"Figure\",\"type\":\"Plot\"},{\"attributes\":{\"data\":{\"x\":[0,1,2,3,4,5,6,7,8,9,10,11,12,13,14,15,16,17,18,19,20,21,22,23,24,25,26,27,28,29,30,31,32,33,34,35,36,37,38,39,40,41,42,43,44,45,46,47,48,49,50,51,52,53,54,55,56,57,58,59,60,61,62,63,64,65,66,67,68,69,70,71,72,73,74,75,76,77,78,79,80,81,82,83,84,85,86,87,88,89,90,91,92,93,94,95,96,97,98,99],\"y\":{\"__ndarray__\":\"I3CoSWkA8r9lnFuvu7Lavz5a6I9V2vC/4DbiAl4Q7z+XahdjCzTRP15RE7Lzabq/szxGzu0b4z9pgdl5QVzhv+o6rS3NkeS/TWlZWzpj0j/8ke72DFjzv2zcH5HZjLE/RpibkUcJ8b+uXmhPGLbUv7206vdcH/A/A3wRdZpD0L9zsnP6s/7Av+KWrtNUwOg/2/jAJAym0j8ugNyKuS35v2G+nWnfSPO/5SFt1cJ2mT9J0O0vAuXpP8JZD49TefE/3ful+RVr1L/nxw+9vNTTPxIjL0xEROo/UVGpHsN4879tp75wQ3zgvz1W8GjGJ/C/YTQBoUzo5b/fX0pd/ingv6xuoPV+V+y/8tagY2Iw9b9gI47vGHDrv7ZA9loMW9y/g2Bi5HA/0r9umG0nHNzyPym2HqQIU/a/fAtgb8T/+T8Gep5hgq3Vv4tuAOGtFVk/mwfz/iEk47/CVzPSX6nFPzwjKtuxF/O/gbQqdO7v2b+YBB/NfbriP09EBWfR1Oi/tguM+I009j9vmje+VXoDwIt29s69a+i/fIgbHvhy/L8N+LPxA2XCP66HJdWvPgDA3Ojl3mGXob+0jNbu18ftPzeYBZ6Ettc/XBECPi9EeL+aq9XUh6/pPyT3ZqucxOS/klVgTTRA8L+LsbabJVXuv/Xz2IPwP8U/+gbsbE92978TdILKEe7wv1p40AhaUeG/nP70IN/8AMDHF/O2EPCQP4E5PvU54/i/2r6knuKK3j/zu3copqu8v93RsWgKrtU/d5o9+dF66D+fYNzL1ZL7v7kRwplP/gPAjagpfdYh6D8Bm7caGV6zPylf8XsCUdM/8hRj2cbH7j9379yZhTUBwIpGfvLUrAFANJJUFihG8j/SyH/CrWnbP3MB/w10zu6/XtntufNh8D8kqhcDiXXdPzS/qX8KHN+/dUIMpFHL9L8wu1KgAsv0Pxk2CcZm8sc/W4YI3RWl57/fgBqhnpLuv1Ex22VAStA/QABCali26j9Lnik9wNPAPzCSgZZMJfa/PnP4YplP9z/cKjT3bXbzv196KpG5XOu/cFKMpqWp0b8=\",\"dtype\":\"float64\",\"order\":\"little\",\"shape\":[100]}},\"selected\":{\"id\":\"1389\"},\"selection_policy\":{\"id\":\"1388\"}},\"id\":\"1347\",\"type\":\"ColumnDataSource\"},{\"attributes\":{\"fill_alpha\":{\"value\":0.1},\"fill_color\":{\"value\":\"green\"},\"line_alpha\":{\"value\":0.1},\"line_color\":{\"value\":\"green\"},\"size\":{\"units\":\"screen\",\"value\":10},\"x\":{\"field\":\"x\"},\"y\":{\"field\":\"y\"}},\"id\":\"1344\",\"type\":\"Circle\"},{\"attributes\":{\"fill_alpha\":{\"value\":0.5},\"fill_color\":{\"value\":\"#FF0000\"},\"line_alpha\":{\"value\":0.5},\"line_color\":{\"value\":\"#FF0000\"},\"size\":{\"units\":\"screen\",\"value\":10},\"x\":{\"field\":\"x\"},\"y\":{\"field\":\"y\"}},\"id\":\"1348\",\"type\":\"Circle\"},{\"attributes\":{\"fill_alpha\":{\"value\":0.5},\"fill_color\":{\"value\":\"green\"},\"line_alpha\":{\"value\":0.5},\"line_color\":{\"value\":\"green\"},\"size\":{\"units\":\"screen\",\"value\":10},\"x\":{\"field\":\"x\"},\"y\":{\"field\":\"y\"}},\"id\":\"1343\",\"type\":\"Circle\"},{\"attributes\":{},\"id\":\"1386\",\"type\":\"UnionRenderers\"},{\"attributes\":{},\"id\":\"1328\",\"type\":\"PanTool\"},{\"attributes\":{\"source\":{\"id\":\"1342\"}},\"id\":\"1346\",\"type\":\"CDSView\"},{\"attributes\":{},\"id\":\"1329\",\"type\":\"WheelZoomTool\"},{\"attributes\":{},\"id\":\"1312\",\"type\":\"DataRange1d\"},{\"attributes\":{\"data_source\":{\"id\":\"1347\"},\"glyph\":{\"id\":\"1348\"},\"hover_glyph\":null,\"muted_glyph\":null,\"nonselection_glyph\":{\"id\":\"1349\"},\"selection_glyph\":null,\"view\":{\"id\":\"1351\"}},\"id\":\"1350\",\"type\":\"GlyphRenderer\"},{\"attributes\":{\"data\":{\"x\":[0,1,2,3,4,5,6,7,8,9,10,11,12,13,14,15,16,17,18,19,20,21,22,23,24,25,26,27,28,29,30,31,32,33,34,35,36,37,38,39,40,41,42,43,44,45,46,47,48,49,50,51,52,53,54,55,56,57,58,59,60,61,62,63,64,65,66,67,68,69,70,71,72,73,74,75,76,77,78,79,80,81,82,83,84,85,86,87,88,89,90,91,92,93,94,95,96,97,98,99],\"y\":{\"__ndarray__\":\"TEA0MNp71D8LGjBQ3Bfbv5wNR1MdSca/7A6F94+e7j8u7JQQmzzrv7dLyx96J9y/BDIAmb0JmL97C3TB1AHZP+hacFGc3eg/WnR0bfLx4b8EA9C5h/rSvy2qr3vuiwbAaDRDL38P479LMmbx8a/BP/9JofgLE9q/ynR+58hk0r+9YPx9NUD1v96HTBAKsPe/Sj1bGAlbyr/PJgDAk7vPP2HVSMpHcPe/m71yDXq4/L+pGdjNFSjqv4rjt9deKO0/XYfHkBNFAsCS+X2JoJ/mP4UmNPNPELO/RjO5hi9i4r9t8rXl6KDTP359YbO1Ptu/p/x03QEm+T8Q4N8FuDX6P2VxDD26U/Q/Sc1wt42E1D8F2SLtZ6+zPyO3fNPkPPM/TAqoIJy857/88mBLOhquvz3loa3id82/H3SPDfwZ/79pCoAKZsjrv6x3oqOTZuw/D2QnQiml8D+H6XaV5AXRP8Yl6FIlsSW/KtjSQeZf1z+bB40+MgLXv9wHUsqaTfC/FwFCmyF87z/jqC3ZQVC3v0naWi+Ey9A/CKWiWbhRlL88Pl282R3aP2k2K42k4vA/Kw+t6aA7b78nmFp30D31P+C1gytYoOI/bABGmgfk0j/NCNYJod/gv9HJ13CYP/u/Ml39rNxR8D9ZaOenaYTaP9A6m4Q3XJ6/TbvDE8i/57+xX+5ZkxXqv5liTTUSJq0/Dg5twZeCyj9nmi/EyYrjv8D8msESE/i/bVy2SsA+8b9LQ546cH6nv0qXGVqkevG/9uDXznzcwT9VwXDemXx6v107FPvxctu/gIv4FuY76D9EKR2AEWjYP7ZxOFdWQv0/OLhmCxIj4L9Y7ylji8zSv3SaI15KLfi/zVGdX7x2+L9SOUq9vH7Pv7tcMZt0rPk/u4YxkwA9/T8b9PF9JLrnv/pPifVCJtm/5n+exCC34L+eiGSzLGbov1WKfmARIeW/lMugiL7J9T+7gEBkH3zrP7Sani6yFuA/VZrk9YEd9z/ZccITl+XZv+dOZUddRdg/LqN6qRLey79O1Q4y82PMP11q7il83Pi/+v9CWH9p878=\",\"dtype\":\"float64\",\"order\":\"little\",\"shape\":[100]}},\"selected\":{\"id\":\"1387\"},\"selection_policy\":{\"id\":\"1386\"}},\"id\":\"1342\",\"type\":\"ColumnDataSource\"},{\"attributes\":{\"overlay\":{\"id\":\"1334\"}},\"id\":\"1330\",\"type\":\"BoxZoomTool\"},{\"attributes\":{},\"id\":\"1331\",\"type\":\"SaveTool\"},{\"attributes\":{\"bottom_units\":\"screen\",\"fill_alpha\":0.5,\"fill_color\":\"lightgrey\",\"left_units\":\"screen\",\"level\":\"overlay\",\"line_alpha\":1.0,\"line_color\":\"black\",\"line_dash\":[4,4],\"line_width\":2,\"right_units\":\"screen\",\"top_units\":\"screen\"},\"id\":\"1334\",\"type\":\"BoxAnnotation\"},{\"attributes\":{},\"id\":\"1316\",\"type\":\"LinearScale\"},{\"attributes\":{},\"id\":\"1332\",\"type\":\"ResetTool\"},{\"attributes\":{},\"id\":\"1314\",\"type\":\"DataRange1d\"},{\"attributes\":{\"text\":\"\"},\"id\":\"1380\",\"type\":\"Title\"},{\"attributes\":{\"source\":{\"id\":\"1347\"}},\"id\":\"1351\",\"type\":\"CDSView\"},{\"attributes\":{},\"id\":\"1333\",\"type\":\"HelpTool\"},{\"attributes\":{\"fill_alpha\":{\"value\":0.1},\"fill_color\":{\"value\":\"#FF0000\"},\"line_alpha\":{\"value\":0.1},\"line_color\":{\"value\":\"#FF0000\"},\"size\":{\"units\":\"screen\",\"value\":10},\"x\":{\"field\":\"x\"},\"y\":{\"field\":\"y\"}},\"id\":\"1349\",\"type\":\"Circle\"},{\"attributes\":{},\"id\":\"1318\",\"type\":\"LinearScale\"},{\"attributes\":{\"active_drag\":\"auto\",\"active_inspect\":\"auto\",\"active_multi\":null,\"active_scroll\":\"auto\",\"active_tap\":\"auto\",\"tools\":[{\"id\":\"1328\"},{\"id\":\"1329\"},{\"id\":\"1330\"},{\"id\":\"1331\"},{\"id\":\"1332\"},{\"id\":\"1333\"}]},\"id\":\"1335\",\"type\":\"Toolbar\"},{\"attributes\":{},\"id\":\"1389\",\"type\":\"Selection\"},{\"attributes\":{},\"id\":\"1383\",\"type\":\"BasicTickFormatter\"},{\"attributes\":{\"formatter\":{\"id\":\"1383\"},\"ticker\":{\"id\":\"1321\"}},\"id\":\"1320\",\"type\":\"LinearAxis\"},{\"attributes\":{},\"id\":\"1325\",\"type\":\"BasicTicker\"},{\"attributes\":{},\"id\":\"1321\",\"type\":\"BasicTicker\"},{\"attributes\":{},\"id\":\"1385\",\"type\":\"BasicTickFormatter\"},{\"attributes\":{\"axis\":{\"id\":\"1320\"},\"ticker\":null},\"id\":\"1323\",\"type\":\"Grid\"},{\"attributes\":{\"data_source\":{\"id\":\"1342\"},\"glyph\":{\"id\":\"1343\"},\"hover_glyph\":null,\"muted_glyph\":null,\"nonselection_glyph\":{\"id\":\"1344\"},\"selection_glyph\":null,\"view\":{\"id\":\"1346\"}},\"id\":\"1345\",\"type\":\"GlyphRenderer\"},{\"attributes\":{\"axis\":{\"id\":\"1324\"},\"dimension\":1,\"ticker\":null},\"id\":\"1327\",\"type\":\"Grid\"},{\"attributes\":{},\"id\":\"1388\",\"type\":\"UnionRenderers\"},{\"attributes\":{\"formatter\":{\"id\":\"1385\"},\"ticker\":{\"id\":\"1325\"}},\"id\":\"1324\",\"type\":\"LinearAxis\"},{\"attributes\":{},\"id\":\"1387\",\"type\":\"Selection\"}],\"root_ids\":[\"1311\"]},\"title\":\"Bokeh Application\",\"version\":\"2.2.3\"}};\n",
       "  var render_items = [{\"docid\":\"b2a59230-7c86-48ee-a022-41e7bc24a613\",\"root_ids\":[\"1311\"],\"roots\":{\"1311\":\"1733c2fa-6d04-44d6-bf35-a84db597a8f2\"}}];\n",
       "  root.Bokeh.embed.embed_items_notebook(docs_json, render_items);\n",
       "\n",
       "  }\n",
       "  if (root.Bokeh !== undefined) {\n",
       "    embed_document(root);\n",
       "  } else {\n",
       "    var attempts = 0;\n",
       "    var timer = setInterval(function(root) {\n",
       "      if (root.Bokeh !== undefined) {\n",
       "        clearInterval(timer);\n",
       "        embed_document(root);\n",
       "      } else {\n",
       "        attempts++;\n",
       "        if (attempts > 100) {\n",
       "          clearInterval(timer);\n",
       "          console.log(\"Bokeh: ERROR: Unable to run BokehJS code because BokehJS library is missing\");\n",
       "        }\n",
       "      }\n",
       "    }, 10, root)\n",
       "  }\n",
       "})(window);"
      ],
      "application/vnd.bokehjs_exec.v0+json": ""
     },
     "metadata": {
      "application/vnd.bokehjs_exec.v0+json": {
       "id": "1311"
      }
     },
     "output_type": "display_data"
    }
   ],
   "source": [
    "# 图表边框线参数设置\n",
    "\n",
    "p = figure(plot_width=600, plot_height=400)\n",
    "p.circle(df.index, df['A'], color = 'green', size=10,  alpha=0.5)\n",
    "p.circle(df.index, df['B'], color = '#FF0000', size=10,  alpha=0.5)\n",
    "# 绘制散点图\n",
    " \n",
    "p.outline_line_width = 7         # 边框线宽\n",
    "p.outline_line_alpha = 0.3       # 边框线透明度\n",
    "p.outline_line_color = \"navy\"    # 边框线颜色\n",
    "p.outline_line_dash = [6, 4]\n",
    "# 设置图表边框\n",
    "\n",
    "show(p)"
   ]
  },
  {
   "cell_type": "code",
   "execution_count": 8,
   "metadata": {},
   "outputs": [
    {
     "data": {
      "text/html": [
       "\n",
       "\n",
       "\n",
       "\n",
       "\n",
       "\n",
       "  <div class=\"bk-root\" id=\"9d0c78c9-18b1-4f0a-bc4b-a2aebaadc63b\" data-root-id=\"1446\"></div>\n"
      ]
     },
     "metadata": {},
     "output_type": "display_data"
    },
    {
     "data": {
      "application/javascript": [
       "(function(root) {\n",
       "  function embed_document(root) {\n",
       "    \n",
       "  var docs_json = {\"66ff5cb5-51f7-42cf-a7fc-1a97a8468c03\":{\"roots\":{\"references\":[{\"attributes\":{\"background_fill_alpha\":0.5,\"background_fill_color\":\"beige\",\"below\":[{\"id\":\"1455\"}],\"center\":[{\"id\":\"1458\"},{\"id\":\"1462\"}],\"left\":[{\"id\":\"1459\"}],\"plot_height\":400,\"renderers\":[{\"id\":\"1480\"},{\"id\":\"1485\"}],\"title\":{\"id\":\"1526\"},\"toolbar\":{\"id\":\"1470\"},\"x_range\":{\"id\":\"1447\"},\"x_scale\":{\"id\":\"1451\"},\"y_range\":{\"id\":\"1449\"},\"y_scale\":{\"id\":\"1453\"}},\"id\":\"1446\",\"subtype\":\"Figure\",\"type\":\"Plot\"},{\"attributes\":{\"overlay\":{\"id\":\"1469\"}},\"id\":\"1465\",\"type\":\"BoxZoomTool\"},{\"attributes\":{},\"id\":\"1535\",\"type\":\"Selection\"},{\"attributes\":{\"formatter\":{\"id\":\"1531\"},\"ticker\":{\"id\":\"1460\"}},\"id\":\"1459\",\"type\":\"LinearAxis\"},{\"attributes\":{},\"id\":\"1468\",\"type\":\"HelpTool\"},{\"attributes\":{},\"id\":\"1534\",\"type\":\"UnionRenderers\"},{\"attributes\":{\"axis\":{\"id\":\"1455\"},\"ticker\":null},\"id\":\"1458\",\"type\":\"Grid\"},{\"attributes\":{\"active_drag\":\"auto\",\"active_inspect\":\"auto\",\"active_multi\":null,\"active_scroll\":\"auto\",\"active_tap\":\"auto\",\"tools\":[{\"id\":\"1463\"},{\"id\":\"1464\"},{\"id\":\"1465\"},{\"id\":\"1466\"},{\"id\":\"1467\"},{\"id\":\"1468\"}]},\"id\":\"1470\",\"type\":\"Toolbar\"},{\"attributes\":{\"fill_alpha\":{\"value\":0.5},\"fill_color\":{\"value\":\"#FF0000\"},\"line_alpha\":{\"value\":0.5},\"line_color\":{\"value\":\"#FF0000\"},\"size\":{\"units\":\"screen\",\"value\":10},\"x\":{\"field\":\"x\"},\"y\":{\"field\":\"y\"}},\"id\":\"1483\",\"type\":\"Circle\"},{\"attributes\":{},\"id\":\"1467\",\"type\":\"ResetTool\"},{\"attributes\":{},\"id\":\"1451\",\"type\":\"LinearScale\"},{\"attributes\":{\"fill_alpha\":{\"value\":0.5},\"fill_color\":{\"value\":\"green\"},\"line_alpha\":{\"value\":0.5},\"line_color\":{\"value\":\"green\"},\"size\":{\"units\":\"screen\",\"value\":10},\"x\":{\"field\":\"x\"},\"y\":{\"field\":\"y\"}},\"id\":\"1478\",\"type\":\"Circle\"},{\"attributes\":{},\"id\":\"1466\",\"type\":\"SaveTool\"},{\"attributes\":{\"source\":{\"id\":\"1482\"}},\"id\":\"1486\",\"type\":\"CDSView\"},{\"attributes\":{},\"id\":\"1463\",\"type\":\"PanTool\"},{\"attributes\":{\"source\":{\"id\":\"1477\"}},\"id\":\"1481\",\"type\":\"CDSView\"},{\"attributes\":{\"fill_alpha\":{\"value\":0.1},\"fill_color\":{\"value\":\"#FF0000\"},\"line_alpha\":{\"value\":0.1},\"line_color\":{\"value\":\"#FF0000\"},\"size\":{\"units\":\"screen\",\"value\":10},\"x\":{\"field\":\"x\"},\"y\":{\"field\":\"y\"}},\"id\":\"1484\",\"type\":\"Circle\"},{\"attributes\":{},\"id\":\"1460\",\"type\":\"BasicTicker\"},{\"attributes\":{},\"id\":\"1529\",\"type\":\"BasicTickFormatter\"},{\"attributes\":{\"data_source\":{\"id\":\"1482\"},\"glyph\":{\"id\":\"1483\"},\"hover_glyph\":null,\"muted_glyph\":null,\"nonselection_glyph\":{\"id\":\"1484\"},\"selection_glyph\":null,\"view\":{\"id\":\"1486\"}},\"id\":\"1485\",\"type\":\"GlyphRenderer\"},{\"attributes\":{},\"id\":\"1464\",\"type\":\"WheelZoomTool\"},{\"attributes\":{\"text\":\"\"},\"id\":\"1526\",\"type\":\"Title\"},{\"attributes\":{},\"id\":\"1533\",\"type\":\"Selection\"},{\"attributes\":{\"data\":{\"x\":[0,1,2,3,4,5,6,7,8,9,10,11,12,13,14,15,16,17,18,19,20,21,22,23,24,25,26,27,28,29,30,31,32,33,34,35,36,37,38,39,40,41,42,43,44,45,46,47,48,49,50,51,52,53,54,55,56,57,58,59,60,61,62,63,64,65,66,67,68,69,70,71,72,73,74,75,76,77,78,79,80,81,82,83,84,85,86,87,88,89,90,91,92,93,94,95,96,97,98,99],\"y\":{\"__ndarray__\":\"I3CoSWkA8r9lnFuvu7Lavz5a6I9V2vC/4DbiAl4Q7z+XahdjCzTRP15RE7Lzabq/szxGzu0b4z9pgdl5QVzhv+o6rS3NkeS/TWlZWzpj0j/8ke72DFjzv2zcH5HZjLE/RpibkUcJ8b+uXmhPGLbUv7206vdcH/A/A3wRdZpD0L9zsnP6s/7Av+KWrtNUwOg/2/jAJAym0j8ugNyKuS35v2G+nWnfSPO/5SFt1cJ2mT9J0O0vAuXpP8JZD49TefE/3ful+RVr1L/nxw+9vNTTPxIjL0xEROo/UVGpHsN4879tp75wQ3zgvz1W8GjGJ/C/YTQBoUzo5b/fX0pd/ingv6xuoPV+V+y/8tagY2Iw9b9gI47vGHDrv7ZA9loMW9y/g2Bi5HA/0r9umG0nHNzyPym2HqQIU/a/fAtgb8T/+T8Gep5hgq3Vv4tuAOGtFVk/mwfz/iEk47/CVzPSX6nFPzwjKtuxF/O/gbQqdO7v2b+YBB/NfbriP09EBWfR1Oi/tguM+I009j9vmje+VXoDwIt29s69a+i/fIgbHvhy/L8N+LPxA2XCP66HJdWvPgDA3Ojl3mGXob+0jNbu18ftPzeYBZ6Ettc/XBECPi9EeL+aq9XUh6/pPyT3ZqucxOS/klVgTTRA8L+LsbabJVXuv/Xz2IPwP8U/+gbsbE92978TdILKEe7wv1p40AhaUeG/nP70IN/8AMDHF/O2EPCQP4E5PvU54/i/2r6knuKK3j/zu3copqu8v93RsWgKrtU/d5o9+dF66D+fYNzL1ZL7v7kRwplP/gPAjagpfdYh6D8Bm7caGV6zPylf8XsCUdM/8hRj2cbH7j9379yZhTUBwIpGfvLUrAFANJJUFihG8j/SyH/CrWnbP3MB/w10zu6/XtntufNh8D8kqhcDiXXdPzS/qX8KHN+/dUIMpFHL9L8wu1KgAsv0Pxk2CcZm8sc/W4YI3RWl57/fgBqhnpLuv1Ex22VAStA/QABCali26j9Lnik9wNPAPzCSgZZMJfa/PnP4YplP9z/cKjT3bXbzv196KpG5XOu/cFKMpqWp0b8=\",\"dtype\":\"float64\",\"order\":\"little\",\"shape\":[100]}},\"selected\":{\"id\":\"1535\"},\"selection_policy\":{\"id\":\"1534\"}},\"id\":\"1482\",\"type\":\"ColumnDataSource\"},{\"attributes\":{},\"id\":\"1449\",\"type\":\"DataRange1d\"},{\"attributes\":{\"data\":{\"x\":[0,1,2,3,4,5,6,7,8,9,10,11,12,13,14,15,16,17,18,19,20,21,22,23,24,25,26,27,28,29,30,31,32,33,34,35,36,37,38,39,40,41,42,43,44,45,46,47,48,49,50,51,52,53,54,55,56,57,58,59,60,61,62,63,64,65,66,67,68,69,70,71,72,73,74,75,76,77,78,79,80,81,82,83,84,85,86,87,88,89,90,91,92,93,94,95,96,97,98,99],\"y\":{\"__ndarray__\":\"TEA0MNp71D8LGjBQ3Bfbv5wNR1MdSca/7A6F94+e7j8u7JQQmzzrv7dLyx96J9y/BDIAmb0JmL97C3TB1AHZP+hacFGc3eg/WnR0bfLx4b8EA9C5h/rSvy2qr3vuiwbAaDRDL38P479LMmbx8a/BP/9JofgLE9q/ynR+58hk0r+9YPx9NUD1v96HTBAKsPe/Sj1bGAlbyr/PJgDAk7vPP2HVSMpHcPe/m71yDXq4/L+pGdjNFSjqv4rjt9deKO0/XYfHkBNFAsCS+X2JoJ/mP4UmNPNPELO/RjO5hi9i4r9t8rXl6KDTP359YbO1Ptu/p/x03QEm+T8Q4N8FuDX6P2VxDD26U/Q/Sc1wt42E1D8F2SLtZ6+zPyO3fNPkPPM/TAqoIJy857/88mBLOhquvz3loa3id82/H3SPDfwZ/79pCoAKZsjrv6x3oqOTZuw/D2QnQiml8D+H6XaV5AXRP8Yl6FIlsSW/KtjSQeZf1z+bB40+MgLXv9wHUsqaTfC/FwFCmyF87z/jqC3ZQVC3v0naWi+Ey9A/CKWiWbhRlL88Pl282R3aP2k2K42k4vA/Kw+t6aA7b78nmFp30D31P+C1gytYoOI/bABGmgfk0j/NCNYJod/gv9HJ13CYP/u/Ml39rNxR8D9ZaOenaYTaP9A6m4Q3XJ6/TbvDE8i/57+xX+5ZkxXqv5liTTUSJq0/Dg5twZeCyj9nmi/EyYrjv8D8msESE/i/bVy2SsA+8b9LQ546cH6nv0qXGVqkevG/9uDXznzcwT9VwXDemXx6v107FPvxctu/gIv4FuY76D9EKR2AEWjYP7ZxOFdWQv0/OLhmCxIj4L9Y7ylji8zSv3SaI15KLfi/zVGdX7x2+L9SOUq9vH7Pv7tcMZt0rPk/u4YxkwA9/T8b9PF9JLrnv/pPifVCJtm/5n+exCC34L+eiGSzLGbov1WKfmARIeW/lMugiL7J9T+7gEBkH3zrP7Sani6yFuA/VZrk9YEd9z/ZccITl+XZv+dOZUddRdg/LqN6qRLey79O1Q4y82PMP11q7il83Pi/+v9CWH9p878=\",\"dtype\":\"float64\",\"order\":\"little\",\"shape\":[100]}},\"selected\":{\"id\":\"1533\"},\"selection_policy\":{\"id\":\"1532\"}},\"id\":\"1477\",\"type\":\"ColumnDataSource\"},{\"attributes\":{},\"id\":\"1531\",\"type\":\"BasicTickFormatter\"},{\"attributes\":{\"axis\":{\"id\":\"1459\"},\"dimension\":1,\"ticker\":null},\"id\":\"1462\",\"type\":\"Grid\"},{\"attributes\":{\"fill_alpha\":{\"value\":0.1},\"fill_color\":{\"value\":\"green\"},\"line_alpha\":{\"value\":0.1},\"line_color\":{\"value\":\"green\"},\"size\":{\"units\":\"screen\",\"value\":10},\"x\":{\"field\":\"x\"},\"y\":{\"field\":\"y\"}},\"id\":\"1479\",\"type\":\"Circle\"},{\"attributes\":{},\"id\":\"1453\",\"type\":\"LinearScale\"},{\"attributes\":{},\"id\":\"1532\",\"type\":\"UnionRenderers\"},{\"attributes\":{\"bottom_units\":\"screen\",\"fill_alpha\":0.5,\"fill_color\":\"lightgrey\",\"left_units\":\"screen\",\"level\":\"overlay\",\"line_alpha\":1.0,\"line_color\":\"black\",\"line_dash\":[4,4],\"line_width\":2,\"right_units\":\"screen\",\"top_units\":\"screen\"},\"id\":\"1469\",\"type\":\"BoxAnnotation\"},{\"attributes\":{},\"id\":\"1447\",\"type\":\"DataRange1d\"},{\"attributes\":{},\"id\":\"1456\",\"type\":\"BasicTicker\"},{\"attributes\":{\"data_source\":{\"id\":\"1477\"},\"glyph\":{\"id\":\"1478\"},\"hover_glyph\":null,\"muted_glyph\":null,\"nonselection_glyph\":{\"id\":\"1479\"},\"selection_glyph\":null,\"view\":{\"id\":\"1481\"}},\"id\":\"1480\",\"type\":\"GlyphRenderer\"},{\"attributes\":{\"formatter\":{\"id\":\"1529\"},\"ticker\":{\"id\":\"1456\"}},\"id\":\"1455\",\"type\":\"LinearAxis\"}],\"root_ids\":[\"1446\"]},\"title\":\"Bokeh Application\",\"version\":\"2.2.3\"}};\n",
       "  var render_items = [{\"docid\":\"66ff5cb5-51f7-42cf-a7fc-1a97a8468c03\",\"root_ids\":[\"1446\"],\"roots\":{\"1446\":\"9d0c78c9-18b1-4f0a-bc4b-a2aebaadc63b\"}}];\n",
       "  root.Bokeh.embed.embed_items_notebook(docs_json, render_items);\n",
       "\n",
       "  }\n",
       "  if (root.Bokeh !== undefined) {\n",
       "    embed_document(root);\n",
       "  } else {\n",
       "    var attempts = 0;\n",
       "    var timer = setInterval(function(root) {\n",
       "      if (root.Bokeh !== undefined) {\n",
       "        clearInterval(timer);\n",
       "        embed_document(root);\n",
       "      } else {\n",
       "        attempts++;\n",
       "        if (attempts > 100) {\n",
       "          clearInterval(timer);\n",
       "          console.log(\"Bokeh: ERROR: Unable to run BokehJS code because BokehJS library is missing\");\n",
       "        }\n",
       "      }\n",
       "    }, 10, root)\n",
       "  }\n",
       "})(window);"
      ],
      "application/vnd.bokehjs_exec.v0+json": ""
     },
     "metadata": {
      "application/vnd.bokehjs_exec.v0+json": {
       "id": "1446"
      }
     },
     "output_type": "display_data"
    }
   ],
   "source": [
    "# 设置绘图空间背景\n",
    "\n",
    "p = figure(plot_width=600, plot_height=400)\n",
    "p.circle(df.index, df['A'], color = 'green', size=10,  alpha=0.5)\n",
    "p.circle(df.index, df['B'], color = '#FF0000', size=10,  alpha=0.5)\n",
    "# 绘制散点图\n",
    "\n",
    "p.background_fill_color = \"beige\"    # 绘图空间背景颜色\n",
    "p.background_fill_alpha = 0.5        # 绘图空间背景透明度\n",
    "# 背景设置参数\n",
    "\n",
    "show(p)"
   ]
  },
  {
   "cell_type": "code",
   "execution_count": 9,
   "metadata": {},
   "outputs": [
    {
     "data": {
      "text/html": [
       "\n",
       "\n",
       "\n",
       "\n",
       "\n",
       "\n",
       "  <div class=\"bk-root\" id=\"eb5dfd7e-e65a-4c64-92fe-4f565014eb80\" data-root-id=\"1592\"></div>\n"
      ]
     },
     "metadata": {},
     "output_type": "display_data"
    },
    {
     "data": {
      "application/javascript": [
       "(function(root) {\n",
       "  function embed_document(root) {\n",
       "    \n",
       "  var docs_json = {\"6f826bfb-3f8c-4a53-bbd4-f4e2c59055b0\":{\"roots\":{\"references\":[{\"attributes\":{\"below\":[{\"id\":\"1601\"}],\"border_fill_alpha\":0.5,\"border_fill_color\":\"whitesmoke\",\"center\":[{\"id\":\"1604\"},{\"id\":\"1608\"}],\"left\":[{\"id\":\"1605\"}],\"min_border_bottom\":10,\"min_border_left\":80,\"min_border_right\":80,\"min_border_top\":10,\"plot_height\":400,\"renderers\":[{\"id\":\"1626\"},{\"id\":\"1631\"}],\"title\":{\"id\":\"1683\"},\"toolbar\":{\"id\":\"1616\"},\"x_range\":{\"id\":\"1593\"},\"x_scale\":{\"id\":\"1597\"},\"y_range\":{\"id\":\"1595\"},\"y_scale\":{\"id\":\"1599\"}},\"id\":\"1592\",\"subtype\":\"Figure\",\"type\":\"Plot\"},{\"attributes\":{\"formatter\":{\"id\":\"1686\"},\"ticker\":{\"id\":\"1602\"}},\"id\":\"1601\",\"type\":\"LinearAxis\"},{\"attributes\":{},\"id\":\"1689\",\"type\":\"UnionRenderers\"},{\"attributes\":{\"data_source\":{\"id\":\"1623\"},\"glyph\":{\"id\":\"1624\"},\"hover_glyph\":null,\"muted_glyph\":null,\"nonselection_glyph\":{\"id\":\"1625\"},\"selection_glyph\":null,\"view\":{\"id\":\"1627\"}},\"id\":\"1626\",\"type\":\"GlyphRenderer\"},{\"attributes\":{},\"id\":\"1691\",\"type\":\"UnionRenderers\"},{\"attributes\":{\"fill_alpha\":{\"value\":0.1},\"fill_color\":{\"value\":\"green\"},\"line_alpha\":{\"value\":0.1},\"line_color\":{\"value\":\"green\"},\"size\":{\"units\":\"screen\",\"value\":10},\"x\":{\"field\":\"x\"},\"y\":{\"field\":\"y\"}},\"id\":\"1625\",\"type\":\"Circle\"},{\"attributes\":{},\"id\":\"1612\",\"type\":\"SaveTool\"},{\"attributes\":{\"formatter\":{\"id\":\"1688\"},\"ticker\":{\"id\":\"1606\"}},\"id\":\"1605\",\"type\":\"LinearAxis\"},{\"attributes\":{\"active_drag\":\"auto\",\"active_inspect\":\"auto\",\"active_multi\":null,\"active_scroll\":\"auto\",\"active_tap\":\"auto\",\"tools\":[{\"id\":\"1609\"},{\"id\":\"1610\"},{\"id\":\"1611\"},{\"id\":\"1612\"},{\"id\":\"1613\"},{\"id\":\"1614\"}]},\"id\":\"1616\",\"type\":\"Toolbar\"},{\"attributes\":{\"data\":{\"x\":[0,1,2,3,4,5,6,7,8,9,10,11,12,13,14,15,16,17,18,19,20,21,22,23,24,25,26,27,28,29,30,31,32,33,34,35,36,37,38,39,40,41,42,43,44,45,46,47,48,49,50,51,52,53,54,55,56,57,58,59,60,61,62,63,64,65,66,67,68,69,70,71,72,73,74,75,76,77,78,79,80,81,82,83,84,85,86,87,88,89,90,91,92,93,94,95,96,97,98,99],\"y\":{\"__ndarray__\":\"I3CoSWkA8r9lnFuvu7Lavz5a6I9V2vC/4DbiAl4Q7z+XahdjCzTRP15RE7Lzabq/szxGzu0b4z9pgdl5QVzhv+o6rS3NkeS/TWlZWzpj0j/8ke72DFjzv2zcH5HZjLE/RpibkUcJ8b+uXmhPGLbUv7206vdcH/A/A3wRdZpD0L9zsnP6s/7Av+KWrtNUwOg/2/jAJAym0j8ugNyKuS35v2G+nWnfSPO/5SFt1cJ2mT9J0O0vAuXpP8JZD49TefE/3ful+RVr1L/nxw+9vNTTPxIjL0xEROo/UVGpHsN4879tp75wQ3zgvz1W8GjGJ/C/YTQBoUzo5b/fX0pd/ingv6xuoPV+V+y/8tagY2Iw9b9gI47vGHDrv7ZA9loMW9y/g2Bi5HA/0r9umG0nHNzyPym2HqQIU/a/fAtgb8T/+T8Gep5hgq3Vv4tuAOGtFVk/mwfz/iEk47/CVzPSX6nFPzwjKtuxF/O/gbQqdO7v2b+YBB/NfbriP09EBWfR1Oi/tguM+I009j9vmje+VXoDwIt29s69a+i/fIgbHvhy/L8N+LPxA2XCP66HJdWvPgDA3Ojl3mGXob+0jNbu18ftPzeYBZ6Ettc/XBECPi9EeL+aq9XUh6/pPyT3ZqucxOS/klVgTTRA8L+LsbabJVXuv/Xz2IPwP8U/+gbsbE92978TdILKEe7wv1p40AhaUeG/nP70IN/8AMDHF/O2EPCQP4E5PvU54/i/2r6knuKK3j/zu3copqu8v93RsWgKrtU/d5o9+dF66D+fYNzL1ZL7v7kRwplP/gPAjagpfdYh6D8Bm7caGV6zPylf8XsCUdM/8hRj2cbH7j9379yZhTUBwIpGfvLUrAFANJJUFihG8j/SyH/CrWnbP3MB/w10zu6/XtntufNh8D8kqhcDiXXdPzS/qX8KHN+/dUIMpFHL9L8wu1KgAsv0Pxk2CcZm8sc/W4YI3RWl57/fgBqhnpLuv1Ex22VAStA/QABCali26j9Lnik9wNPAPzCSgZZMJfa/PnP4YplP9z/cKjT3bXbzv196KpG5XOu/cFKMpqWp0b8=\",\"dtype\":\"float64\",\"order\":\"little\",\"shape\":[100]}},\"selected\":{\"id\":\"1692\"},\"selection_policy\":{\"id\":\"1691\"}},\"id\":\"1628\",\"type\":\"ColumnDataSource\"},{\"attributes\":{},\"id\":\"1692\",\"type\":\"Selection\"},{\"attributes\":{},\"id\":\"1686\",\"type\":\"BasicTickFormatter\"},{\"attributes\":{},\"id\":\"1609\",\"type\":\"PanTool\"},{\"attributes\":{\"bottom_units\":\"screen\",\"fill_alpha\":0.5,\"fill_color\":\"lightgrey\",\"left_units\":\"screen\",\"level\":\"overlay\",\"line_alpha\":1.0,\"line_color\":\"black\",\"line_dash\":[4,4],\"line_width\":2,\"right_units\":\"screen\",\"top_units\":\"screen\"},\"id\":\"1615\",\"type\":\"BoxAnnotation\"},{\"attributes\":{},\"id\":\"1606\",\"type\":\"BasicTicker\"},{\"attributes\":{},\"id\":\"1602\",\"type\":\"BasicTicker\"},{\"attributes\":{\"data\":{\"x\":[0,1,2,3,4,5,6,7,8,9,10,11,12,13,14,15,16,17,18,19,20,21,22,23,24,25,26,27,28,29,30,31,32,33,34,35,36,37,38,39,40,41,42,43,44,45,46,47,48,49,50,51,52,53,54,55,56,57,58,59,60,61,62,63,64,65,66,67,68,69,70,71,72,73,74,75,76,77,78,79,80,81,82,83,84,85,86,87,88,89,90,91,92,93,94,95,96,97,98,99],\"y\":{\"__ndarray__\":\"TEA0MNp71D8LGjBQ3Bfbv5wNR1MdSca/7A6F94+e7j8u7JQQmzzrv7dLyx96J9y/BDIAmb0JmL97C3TB1AHZP+hacFGc3eg/WnR0bfLx4b8EA9C5h/rSvy2qr3vuiwbAaDRDL38P479LMmbx8a/BP/9JofgLE9q/ynR+58hk0r+9YPx9NUD1v96HTBAKsPe/Sj1bGAlbyr/PJgDAk7vPP2HVSMpHcPe/m71yDXq4/L+pGdjNFSjqv4rjt9deKO0/XYfHkBNFAsCS+X2JoJ/mP4UmNPNPELO/RjO5hi9i4r9t8rXl6KDTP359YbO1Ptu/p/x03QEm+T8Q4N8FuDX6P2VxDD26U/Q/Sc1wt42E1D8F2SLtZ6+zPyO3fNPkPPM/TAqoIJy857/88mBLOhquvz3loa3id82/H3SPDfwZ/79pCoAKZsjrv6x3oqOTZuw/D2QnQiml8D+H6XaV5AXRP8Yl6FIlsSW/KtjSQeZf1z+bB40+MgLXv9wHUsqaTfC/FwFCmyF87z/jqC3ZQVC3v0naWi+Ey9A/CKWiWbhRlL88Pl282R3aP2k2K42k4vA/Kw+t6aA7b78nmFp30D31P+C1gytYoOI/bABGmgfk0j/NCNYJod/gv9HJ13CYP/u/Ml39rNxR8D9ZaOenaYTaP9A6m4Q3XJ6/TbvDE8i/57+xX+5ZkxXqv5liTTUSJq0/Dg5twZeCyj9nmi/EyYrjv8D8msESE/i/bVy2SsA+8b9LQ546cH6nv0qXGVqkevG/9uDXznzcwT9VwXDemXx6v107FPvxctu/gIv4FuY76D9EKR2AEWjYP7ZxOFdWQv0/OLhmCxIj4L9Y7ylji8zSv3SaI15KLfi/zVGdX7x2+L9SOUq9vH7Pv7tcMZt0rPk/u4YxkwA9/T8b9PF9JLrnv/pPifVCJtm/5n+exCC34L+eiGSzLGbov1WKfmARIeW/lMugiL7J9T+7gEBkH3zrP7Sani6yFuA/VZrk9YEd9z/ZccITl+XZv+dOZUddRdg/LqN6qRLey79O1Q4y82PMP11q7il83Pi/+v9CWH9p878=\",\"dtype\":\"float64\",\"order\":\"little\",\"shape\":[100]}},\"selected\":{\"id\":\"1690\"},\"selection_policy\":{\"id\":\"1689\"}},\"id\":\"1623\",\"type\":\"ColumnDataSource\"},{\"attributes\":{},\"id\":\"1610\",\"type\":\"WheelZoomTool\"},{\"attributes\":{\"overlay\":{\"id\":\"1615\"}},\"id\":\"1611\",\"type\":\"BoxZoomTool\"},{\"attributes\":{\"fill_alpha\":{\"value\":0.5},\"fill_color\":{\"value\":\"#FF0000\"},\"line_alpha\":{\"value\":0.5},\"line_color\":{\"value\":\"#FF0000\"},\"size\":{\"units\":\"screen\",\"value\":10},\"x\":{\"field\":\"x\"},\"y\":{\"field\":\"y\"}},\"id\":\"1629\",\"type\":\"Circle\"},{\"attributes\":{\"fill_alpha\":{\"value\":0.1},\"fill_color\":{\"value\":\"#FF0000\"},\"line_alpha\":{\"value\":0.1},\"line_color\":{\"value\":\"#FF0000\"},\"size\":{\"units\":\"screen\",\"value\":10},\"x\":{\"field\":\"x\"},\"y\":{\"field\":\"y\"}},\"id\":\"1630\",\"type\":\"Circle\"},{\"attributes\":{},\"id\":\"1614\",\"type\":\"HelpTool\"},{\"attributes\":{\"axis\":{\"id\":\"1605\"},\"dimension\":1,\"ticker\":null},\"id\":\"1608\",\"type\":\"Grid\"},{\"attributes\":{\"axis\":{\"id\":\"1601\"},\"ticker\":null},\"id\":\"1604\",\"type\":\"Grid\"},{\"attributes\":{\"text\":\"\"},\"id\":\"1683\",\"type\":\"Title\"},{\"attributes\":{},\"id\":\"1597\",\"type\":\"LinearScale\"},{\"attributes\":{},\"id\":\"1690\",\"type\":\"Selection\"},{\"attributes\":{},\"id\":\"1613\",\"type\":\"ResetTool\"},{\"attributes\":{},\"id\":\"1593\",\"type\":\"DataRange1d\"},{\"attributes\":{},\"id\":\"1595\",\"type\":\"DataRange1d\"},{\"attributes\":{\"data_source\":{\"id\":\"1628\"},\"glyph\":{\"id\":\"1629\"},\"hover_glyph\":null,\"muted_glyph\":null,\"nonselection_glyph\":{\"id\":\"1630\"},\"selection_glyph\":null,\"view\":{\"id\":\"1632\"}},\"id\":\"1631\",\"type\":\"GlyphRenderer\"},{\"attributes\":{\"source\":{\"id\":\"1628\"}},\"id\":\"1632\",\"type\":\"CDSView\"},{\"attributes\":{},\"id\":\"1599\",\"type\":\"LinearScale\"},{\"attributes\":{\"fill_alpha\":{\"value\":0.5},\"fill_color\":{\"value\":\"green\"},\"line_alpha\":{\"value\":0.5},\"line_color\":{\"value\":\"green\"},\"size\":{\"units\":\"screen\",\"value\":10},\"x\":{\"field\":\"x\"},\"y\":{\"field\":\"y\"}},\"id\":\"1624\",\"type\":\"Circle\"},{\"attributes\":{},\"id\":\"1688\",\"type\":\"BasicTickFormatter\"},{\"attributes\":{\"source\":{\"id\":\"1623\"}},\"id\":\"1627\",\"type\":\"CDSView\"}],\"root_ids\":[\"1592\"]},\"title\":\"Bokeh Application\",\"version\":\"2.2.3\"}};\n",
       "  var render_items = [{\"docid\":\"6f826bfb-3f8c-4a53-bbd4-f4e2c59055b0\",\"root_ids\":[\"1592\"],\"roots\":{\"1592\":\"eb5dfd7e-e65a-4c64-92fe-4f565014eb80\"}}];\n",
       "  root.Bokeh.embed.embed_items_notebook(docs_json, render_items);\n",
       "\n",
       "  }\n",
       "  if (root.Bokeh !== undefined) {\n",
       "    embed_document(root);\n",
       "  } else {\n",
       "    var attempts = 0;\n",
       "    var timer = setInterval(function(root) {\n",
       "      if (root.Bokeh !== undefined) {\n",
       "        clearInterval(timer);\n",
       "        embed_document(root);\n",
       "      } else {\n",
       "        attempts++;\n",
       "        if (attempts > 100) {\n",
       "          clearInterval(timer);\n",
       "          console.log(\"Bokeh: ERROR: Unable to run BokehJS code because BokehJS library is missing\");\n",
       "        }\n",
       "      }\n",
       "    }, 10, root)\n",
       "  }\n",
       "})(window);"
      ],
      "application/vnd.bokehjs_exec.v0+json": ""
     },
     "metadata": {
      "application/vnd.bokehjs_exec.v0+json": {
       "id": "1592"
      }
     },
     "output_type": "display_data"
    }
   ],
   "source": [
    "# 设置外边界背景\n",
    "\n",
    "p = figure(plot_width=600, plot_height=400)\n",
    "p.circle(df.index, df['A'], color = 'green', size=10,  alpha=0.5)\n",
    "p.circle(df.index, df['B'], color = '#FF0000', size=10,  alpha=0.5)\n",
    "# 绘制散点图\n",
    "\n",
    "p.border_fill_color = \"whitesmoke\"    # 外边界背景颜色\n",
    "p.border_fill_alpha = 0.5             #透明度\n",
    "p.min_border_left = 80                # 外边界背景 - 左边宽度\n",
    "p.min_border_right = 80               # 外边界背景 - 右边宽度\n",
    "p.min_border_top = 10                 # 外边界背景 - 上宽度\n",
    "p.min_border_bottom = 10              # 外边界背景 - 下宽度\n",
    "\n",
    "show(p)"
   ]
  },
  {
   "cell_type": "code",
   "execution_count": 10,
   "metadata": {},
   "outputs": [
    {
     "data": {
      "text/html": [
       "\n",
       "\n",
       "\n",
       "\n",
       "\n",
       "\n",
       "  <div class=\"bk-root\" id=\"6a5d7b5b-f34a-4a7c-99a4-d7ccbb6b1798\" data-root-id=\"1749\"></div>\n"
      ]
     },
     "metadata": {},
     "output_type": "display_data"
    },
    {
     "data": {
      "application/javascript": [
       "(function(root) {\n",
       "  function embed_document(root) {\n",
       "    \n",
       "  var docs_json = {\"1eaf561f-219e-4416-bb36-92f498e657f5\":{\"roots\":{\"references\":[{\"attributes\":{\"below\":[{\"id\":\"1758\"}],\"center\":[{\"id\":\"1761\"},{\"id\":\"1765\"}],\"left\":[{\"id\":\"1762\"}],\"plot_height\":400,\"plot_width\":400,\"renderers\":[{\"id\":\"1783\"}],\"title\":{\"id\":\"1846\"},\"toolbar\":{\"id\":\"1773\"},\"x_range\":{\"id\":\"1750\"},\"x_scale\":{\"id\":\"1754\"},\"y_range\":{\"id\":\"1752\"},\"y_scale\":{\"id\":\"1756\"}},\"id\":\"1749\",\"subtype\":\"Figure\",\"type\":\"Plot\"},{\"attributes\":{\"fill_color\":{\"value\":\"#1f77b4\"},\"line_color\":{\"value\":\"#1f77b4\"},\"size\":{\"units\":\"screen\",\"value\":10},\"x\":{\"field\":\"x\"},\"y\":{\"field\":\"y\"}},\"id\":\"1781\",\"type\":\"Circle\"},{\"attributes\":{},\"id\":\"1766\",\"type\":\"PanTool\"},{\"attributes\":{},\"id\":\"1852\",\"type\":\"UnionRenderers\"},{\"attributes\":{},\"id\":\"1767\",\"type\":\"WheelZoomTool\"},{\"attributes\":{\"data\":{\"x\":[1,2,3,4,5],\"y\":[2,5,8,2,7]},\"selected\":{\"id\":\"1853\"},\"selection_policy\":{\"id\":\"1852\"}},\"id\":\"1780\",\"type\":\"ColumnDataSource\"},{\"attributes\":{},\"id\":\"1750\",\"type\":\"DataRange1d\"},{\"attributes\":{\"overlay\":{\"id\":\"1772\"}},\"id\":\"1768\",\"type\":\"BoxZoomTool\"},{\"attributes\":{},\"id\":\"1752\",\"type\":\"DataRange1d\"},{\"attributes\":{},\"id\":\"1769\",\"type\":\"SaveTool\"},{\"attributes\":{},\"id\":\"1851\",\"type\":\"BasicTickFormatter\"},{\"attributes\":{},\"id\":\"1754\",\"type\":\"LinearScale\"},{\"attributes\":{},\"id\":\"1853\",\"type\":\"Selection\"},{\"attributes\":{},\"id\":\"1770\",\"type\":\"ResetTool\"},{\"attributes\":{\"source\":{\"id\":\"1780\"}},\"id\":\"1784\",\"type\":\"CDSView\"},{\"attributes\":{},\"id\":\"1771\",\"type\":\"HelpTool\"},{\"attributes\":{},\"id\":\"1756\",\"type\":\"LinearScale\"},{\"attributes\":{\"active_drag\":\"auto\",\"active_inspect\":\"auto\",\"active_multi\":null,\"active_scroll\":\"auto\",\"active_tap\":\"auto\",\"tools\":[{\"id\":\"1766\"},{\"id\":\"1767\"},{\"id\":\"1768\"},{\"id\":\"1769\"},{\"id\":\"1770\"},{\"id\":\"1771\"}]},\"id\":\"1773\",\"type\":\"Toolbar\"},{\"attributes\":{\"axis_label\":\"Temp\",\"axis_line_color\":\"red\",\"axis_line_dash\":[6,4],\"axis_line_width\":3,\"bounds\":[2,4],\"formatter\":{\"id\":\"1849\"},\"minor_tick_in\":20,\"minor_tick_out\":3,\"ticker\":{\"id\":\"1759\"}},\"id\":\"1758\",\"type\":\"LinearAxis\"},{\"attributes\":{},\"id\":\"1763\",\"type\":\"BasicTicker\"},{\"attributes\":{},\"id\":\"1759\",\"type\":\"BasicTicker\"},{\"attributes\":{\"axis\":{\"id\":\"1758\"},\"ticker\":null},\"id\":\"1761\",\"type\":\"Grid\"},{\"attributes\":{\"data_source\":{\"id\":\"1780\"},\"glyph\":{\"id\":\"1781\"},\"hover_glyph\":null,\"muted_glyph\":null,\"nonselection_glyph\":{\"id\":\"1782\"},\"selection_glyph\":null,\"view\":{\"id\":\"1784\"}},\"id\":\"1783\",\"type\":\"GlyphRenderer\"},{\"attributes\":{},\"id\":\"1849\",\"type\":\"BasicTickFormatter\"},{\"attributes\":{\"axis\":{\"id\":\"1762\"},\"dimension\":1,\"ticker\":null},\"id\":\"1765\",\"type\":\"Grid\"},{\"attributes\":{\"axis_label\":\"Pressure\",\"formatter\":{\"id\":\"1851\"},\"major_label_orientation\":\"vertical\",\"major_label_text_color\":\"orange\",\"minor_tick_in\":20,\"minor_tick_out\":3,\"ticker\":{\"id\":\"1763\"}},\"id\":\"1762\",\"type\":\"LinearAxis\"},{\"attributes\":{\"bottom_units\":\"screen\",\"fill_alpha\":0.5,\"fill_color\":\"lightgrey\",\"left_units\":\"screen\",\"level\":\"overlay\",\"line_alpha\":1.0,\"line_color\":\"black\",\"line_dash\":[4,4],\"line_width\":2,\"right_units\":\"screen\",\"top_units\":\"screen\"},\"id\":\"1772\",\"type\":\"BoxAnnotation\"},{\"attributes\":{\"fill_alpha\":{\"value\":0.1},\"fill_color\":{\"value\":\"#1f77b4\"},\"line_alpha\":{\"value\":0.1},\"line_color\":{\"value\":\"#1f77b4\"},\"size\":{\"units\":\"screen\",\"value\":10},\"x\":{\"field\":\"x\"},\"y\":{\"field\":\"y\"}},\"id\":\"1782\",\"type\":\"Circle\"},{\"attributes\":{\"text\":\"\"},\"id\":\"1846\",\"type\":\"Title\"}],\"root_ids\":[\"1749\"]},\"title\":\"Bokeh Application\",\"version\":\"2.2.3\"}};\n",
       "  var render_items = [{\"docid\":\"1eaf561f-219e-4416-bb36-92f498e657f5\",\"root_ids\":[\"1749\"],\"roots\":{\"1749\":\"6a5d7b5b-f34a-4a7c-99a4-d7ccbb6b1798\"}}];\n",
       "  root.Bokeh.embed.embed_items_notebook(docs_json, render_items);\n",
       "\n",
       "  }\n",
       "  if (root.Bokeh !== undefined) {\n",
       "    embed_document(root);\n",
       "  } else {\n",
       "    var attempts = 0;\n",
       "    var timer = setInterval(function(root) {\n",
       "      if (root.Bokeh !== undefined) {\n",
       "        clearInterval(timer);\n",
       "        embed_document(root);\n",
       "      } else {\n",
       "        attempts++;\n",
       "        if (attempts > 100) {\n",
       "          clearInterval(timer);\n",
       "          console.log(\"Bokeh: ERROR: Unable to run BokehJS code because BokehJS library is missing\");\n",
       "        }\n",
       "      }\n",
       "    }, 10, root)\n",
       "  }\n",
       "})(window);"
      ],
      "application/vnd.bokehjs_exec.v0+json": ""
     },
     "metadata": {
      "application/vnd.bokehjs_exec.v0+json": {
       "id": "1749"
      }
     },
     "output_type": "display_data"
    }
   ],
   "source": [
    "# Axes - 轴线设置\n",
    "# 轴线标签、轴线线宽、轴线颜色\n",
    "# 字体颜色、字体角度\n",
    "\n",
    "p = figure(plot_width=400, plot_height=400)\n",
    "p.circle([1,2,3,4,5], [2,5,8,2,7], size=10)\n",
    "# 绘制图表\n",
    "\n",
    "p.xaxis.axis_label = \"Temp\"\n",
    "p.xaxis.axis_line_width = 3\n",
    "p.xaxis.axis_line_color = \"red\"\n",
    "p.xaxis.axis_line_dash = [6, 4] #虚线 6线4个格子\n",
    "# 设置x轴线：标签、线宽、轴线颜色\n",
    "\n",
    "p.yaxis.axis_label = \"Pressure\"\n",
    "p.yaxis.major_label_text_color = \"orange\"\n",
    "p.yaxis.major_label_orientation = \"vertical\"\n",
    "# 设置y轴线：标签、字体颜色、字体角度\n",
    "\n",
    "p.axis.minor_tick_in = 20     # 刻度往绘图区域内延伸长度；设置成负的就是往外边延伸了。\n",
    "p.axis.minor_tick_out = 3   # 刻度往绘图区域外延伸长度\n",
    "# 设置刻度\n",
    "\n",
    "p.xaxis.bounds = (2, 4)\n",
    "# 设置轴线范围\n",
    "\n",
    "show(p)\n"
   ]
  },
  {
   "cell_type": "code",
   "execution_count": 11,
   "metadata": {},
   "outputs": [
    {
     "data": {
      "text/html": [
       "\n",
       "\n",
       "\n",
       "\n",
       "\n",
       "\n",
       "  <div class=\"bk-root\" id=\"c61a4165-e35a-4e48-8d8d-9a12a97ea83d\" data-root-id=\"1900\"></div>\n"
      ]
     },
     "metadata": {},
     "output_type": "display_data"
    },
    {
     "data": {
      "application/javascript": [
       "(function(root) {\n",
       "  function embed_document(root) {\n",
       "    \n",
       "  var docs_json = {\"3281a9e6-d26b-459d-b083-2658902f822c\":{\"roots\":{\"references\":[{\"attributes\":{\"below\":[{\"id\":\"1909\"}],\"center\":[{\"id\":\"1912\"},{\"id\":\"1916\"}],\"left\":[{\"id\":\"1913\"}],\"plot_height\":400,\"plot_width\":400,\"renderers\":[{\"id\":\"1934\"}],\"title\":{\"id\":\"2006\"},\"toolbar\":{\"id\":\"1924\"},\"x_range\":{\"id\":\"1901\"},\"x_scale\":{\"id\":\"1905\"},\"y_range\":{\"id\":\"1903\"},\"y_scale\":{\"id\":\"1907\"}},\"id\":\"1900\",\"subtype\":\"Figure\",\"type\":\"Plot\"},{\"attributes\":{\"axis_label\":\"Lot Number\",\"axis_label_standoff\":30,\"axis_label_text_color\":\"#aa6666\",\"formatter\":{\"id\":\"2009\"},\"ticker\":{\"id\":\"1910\"}},\"id\":\"1909\",\"type\":\"LinearAxis\"},{\"attributes\":{\"fill_alpha\":{\"value\":0.1},\"fill_color\":{\"value\":\"#1f77b4\"},\"line_alpha\":{\"value\":0.1},\"line_color\":{\"value\":\"#1f77b4\"},\"size\":{\"units\":\"screen\",\"value\":10},\"x\":{\"field\":\"x\"},\"y\":{\"field\":\"y\"}},\"id\":\"1933\",\"type\":\"Circle\"},{\"attributes\":{},\"id\":\"1914\",\"type\":\"BasicTicker\"},{\"attributes\":{\"text\":\"\"},\"id\":\"2006\",\"type\":\"Title\"},{\"attributes\":{\"data_source\":{\"id\":\"1931\"},\"glyph\":{\"id\":\"1932\"},\"hover_glyph\":null,\"muted_glyph\":null,\"nonselection_glyph\":{\"id\":\"1933\"},\"selection_glyph\":null,\"view\":{\"id\":\"1935\"}},\"id\":\"1934\",\"type\":\"GlyphRenderer\"},{\"attributes\":{\"axis\":{\"id\":\"1909\"},\"ticker\":null},\"id\":\"1912\",\"type\":\"Grid\"},{\"attributes\":{},\"id\":\"1922\",\"type\":\"HelpTool\"},{\"attributes\":{},\"id\":\"1907\",\"type\":\"LinearScale\"},{\"attributes\":{\"axis_label\":\"Bin Count\",\"formatter\":{\"id\":\"2011\"},\"ticker\":{\"id\":\"1914\"}},\"id\":\"1913\",\"type\":\"LinearAxis\"},{\"attributes\":{\"axis\":{\"id\":\"1913\"},\"dimension\":1,\"ticker\":null},\"id\":\"1916\",\"type\":\"Grid\"},{\"attributes\":{},\"id\":\"1905\",\"type\":\"LinearScale\"},{\"attributes\":{},\"id\":\"1910\",\"type\":\"BasicTicker\"},{\"attributes\":{},\"id\":\"1903\",\"type\":\"DataRange1d\"},{\"attributes\":{},\"id\":\"2012\",\"type\":\"UnionRenderers\"},{\"attributes\":{\"bottom_units\":\"screen\",\"fill_alpha\":0.5,\"fill_color\":\"lightgrey\",\"left_units\":\"screen\",\"level\":\"overlay\",\"line_alpha\":1.0,\"line_color\":\"black\",\"line_dash\":[4,4],\"line_width\":2,\"right_units\":\"screen\",\"top_units\":\"screen\"},\"id\":\"1923\",\"type\":\"BoxAnnotation\"},{\"attributes\":{},\"id\":\"1901\",\"type\":\"DataRange1d\"},{\"attributes\":{},\"id\":\"1921\",\"type\":\"ResetTool\"},{\"attributes\":{\"data\":{\"x\":[1,2,3,4,5],\"y\":[2,5,8,2,7]},\"selected\":{\"id\":\"2013\"},\"selection_policy\":{\"id\":\"2012\"}},\"id\":\"1931\",\"type\":\"ColumnDataSource\"},{\"attributes\":{},\"id\":\"1917\",\"type\":\"PanTool\"},{\"attributes\":{},\"id\":\"2011\",\"type\":\"BasicTickFormatter\"},{\"attributes\":{},\"id\":\"2013\",\"type\":\"Selection\"},{\"attributes\":{},\"id\":\"1920\",\"type\":\"SaveTool\"},{\"attributes\":{\"fill_color\":{\"value\":\"#1f77b4\"},\"line_color\":{\"value\":\"#1f77b4\"},\"size\":{\"units\":\"screen\",\"value\":10},\"x\":{\"field\":\"x\"},\"y\":{\"field\":\"y\"}},\"id\":\"1932\",\"type\":\"Circle\"},{\"attributes\":{},\"id\":\"2009\",\"type\":\"BasicTickFormatter\"},{\"attributes\":{\"overlay\":{\"id\":\"1923\"}},\"id\":\"1919\",\"type\":\"BoxZoomTool\"},{\"attributes\":{},\"id\":\"1918\",\"type\":\"WheelZoomTool\"},{\"attributes\":{\"source\":{\"id\":\"1931\"}},\"id\":\"1935\",\"type\":\"CDSView\"},{\"attributes\":{\"active_drag\":\"auto\",\"active_inspect\":\"auto\",\"active_multi\":null,\"active_scroll\":\"auto\",\"active_tap\":\"auto\",\"tools\":[{\"id\":\"1917\"},{\"id\":\"1918\"},{\"id\":\"1919\"},{\"id\":\"1920\"},{\"id\":\"1921\"},{\"id\":\"1922\"}]},\"id\":\"1924\",\"type\":\"Toolbar\"}],\"root_ids\":[\"1900\"]},\"title\":\"Bokeh Application\",\"version\":\"2.2.3\"}};\n",
       "  var render_items = [{\"docid\":\"3281a9e6-d26b-459d-b083-2658902f822c\",\"root_ids\":[\"1900\"],\"roots\":{\"1900\":\"c61a4165-e35a-4e48-8d8d-9a12a97ea83d\"}}];\n",
       "  root.Bokeh.embed.embed_items_notebook(docs_json, render_items);\n",
       "\n",
       "  }\n",
       "  if (root.Bokeh !== undefined) {\n",
       "    embed_document(root);\n",
       "  } else {\n",
       "    var attempts = 0;\n",
       "    var timer = setInterval(function(root) {\n",
       "      if (root.Bokeh !== undefined) {\n",
       "        clearInterval(timer);\n",
       "        embed_document(root);\n",
       "      } else {\n",
       "        attempts++;\n",
       "        if (attempts > 100) {\n",
       "          clearInterval(timer);\n",
       "          console.log(\"Bokeh: ERROR: Unable to run BokehJS code because BokehJS library is missing\");\n",
       "        }\n",
       "      }\n",
       "    }, 10, root)\n",
       "  }\n",
       "})(window);"
      ],
      "application/vnd.bokehjs_exec.v0+json": ""
     },
     "metadata": {
      "application/vnd.bokehjs_exec.v0+json": {
       "id": "1900"
      }
     },
     "output_type": "display_data"
    }
   ],
   "source": [
    "# Axes - 轴线设置\n",
    "# 标签设置\n",
    "\n",
    "p = figure(plot_width=400, plot_height=400)\n",
    "p.circle([1,2,3,4,5], [2,5,8,2,7], size=10)\n",
    "\n",
    "p.xaxis.axis_label = \"Lot Number\"\n",
    "p.xaxis.axis_label_text_color = \"#aa6666\"\n",
    "p.xaxis.axis_label_standoff = 30  #偏移距离\n",
    "# 设置标签名称、字体颜色、偏移距离\n",
    "\n",
    "p.yaxis.axis_label = \"Bin Count\"\n",
    "p.yaxis.axis_label_text_font_style = \"italic\" #字体风格\n",
    "# 设置标签名称、字体\n",
    "\n",
    "show(p)"
   ]
  },
  {
   "cell_type": "code",
   "execution_count": 12,
   "metadata": {},
   "outputs": [
    {
     "data": {
      "text/html": [
       "\n",
       "\n",
       "\n",
       "\n",
       "\n",
       "\n",
       "  <div class=\"bk-root\" id=\"ca474c0a-3fe2-4e17-9275-8844d673a325\" data-root-id=\"2060\"></div>\n"
      ]
     },
     "metadata": {},
     "output_type": "display_data"
    },
    {
     "data": {
      "application/javascript": [
       "(function(root) {\n",
       "  function embed_document(root) {\n",
       "    \n",
       "  var docs_json = {\"1d776714-361a-425a-941b-7f6925a1a096\":{\"roots\":{\"references\":[{\"attributes\":{\"below\":[{\"id\":\"2069\"}],\"center\":[{\"id\":\"2072\"},{\"id\":\"2076\"}],\"left\":[{\"id\":\"2073\"}],\"plot_height\":400,\"renderers\":[{\"id\":\"2094\"},{\"id\":\"2099\"}],\"title\":{\"id\":\"2180\"},\"toolbar\":{\"id\":\"2084\"},\"x_range\":{\"id\":\"2061\"},\"x_scale\":{\"id\":\"2065\"},\"y_range\":{\"id\":\"2063\"},\"y_scale\":{\"id\":\"2067\"}},\"id\":\"2060\",\"subtype\":\"Figure\",\"type\":\"Plot\"},{\"attributes\":{},\"id\":\"2070\",\"type\":\"BasicTicker\"},{\"attributes\":{\"fill_alpha\":{\"value\":0.1},\"fill_color\":{\"value\":\"green\"},\"line_alpha\":{\"value\":0.1},\"line_color\":{\"value\":\"green\"},\"size\":{\"units\":\"screen\",\"value\":10},\"x\":{\"field\":\"x\"},\"y\":{\"field\":\"y\"}},\"id\":\"2093\",\"type\":\"Circle\"},{\"attributes\":{\"formatter\":{\"id\":\"2183\"},\"ticker\":{\"id\":\"2070\"}},\"id\":\"2069\",\"type\":\"LinearAxis\"},{\"attributes\":{\"data_source\":{\"id\":\"2091\"},\"glyph\":{\"id\":\"2092\"},\"hover_glyph\":null,\"muted_glyph\":null,\"nonselection_glyph\":{\"id\":\"2093\"},\"selection_glyph\":null,\"view\":{\"id\":\"2095\"}},\"id\":\"2094\",\"type\":\"GlyphRenderer\"},{\"attributes\":{},\"id\":\"2065\",\"type\":\"LinearScale\"},{\"attributes\":{\"fill_alpha\":{\"value\":0.5},\"fill_color\":{\"value\":\"#FF0000\"},\"line_alpha\":{\"value\":0.5},\"line_color\":{\"value\":\"#FF0000\"},\"size\":{\"units\":\"screen\",\"value\":10},\"x\":{\"field\":\"x\"},\"y\":{\"field\":\"y\"}},\"id\":\"2097\",\"type\":\"Circle\"},{\"attributes\":{},\"id\":\"2077\",\"type\":\"PanTool\"},{\"attributes\":{},\"id\":\"2078\",\"type\":\"WheelZoomTool\"},{\"attributes\":{\"source\":{\"id\":\"2091\"}},\"id\":\"2095\",\"type\":\"CDSView\"},{\"attributes\":{\"overlay\":{\"id\":\"2083\"}},\"id\":\"2079\",\"type\":\"BoxZoomTool\"},{\"attributes\":{\"fill_alpha\":{\"value\":0.5},\"fill_color\":{\"value\":\"green\"},\"line_alpha\":{\"value\":0.5},\"line_color\":{\"value\":\"green\"},\"size\":{\"units\":\"screen\",\"value\":10},\"x\":{\"field\":\"x\"},\"y\":{\"field\":\"y\"}},\"id\":\"2092\",\"type\":\"Circle\"},{\"attributes\":{},\"id\":\"2080\",\"type\":\"SaveTool\"},{\"attributes\":{},\"id\":\"2185\",\"type\":\"BasicTickFormatter\"},{\"attributes\":{\"data_source\":{\"id\":\"2096\"},\"glyph\":{\"id\":\"2097\"},\"hover_glyph\":null,\"muted_glyph\":null,\"nonselection_glyph\":{\"id\":\"2098\"},\"selection_glyph\":null,\"view\":{\"id\":\"2100\"}},\"id\":\"2099\",\"type\":\"GlyphRenderer\"},{\"attributes\":{},\"id\":\"2081\",\"type\":\"ResetTool\"},{\"attributes\":{},\"id\":\"2061\",\"type\":\"DataRange1d\"},{\"attributes\":{\"text\":\"\"},\"id\":\"2180\",\"type\":\"Title\"},{\"attributes\":{\"data\":{\"x\":[0,1,2,3,4,5,6,7,8,9,10,11,12,13,14,15,16,17,18,19,20,21,22,23,24,25,26,27,28,29,30,31,32,33,34,35,36,37,38,39,40,41,42,43,44,45,46,47,48,49,50,51,52,53,54,55,56,57,58,59,60,61,62,63,64,65,66,67,68,69,70,71,72,73,74,75,76,77,78,79,80,81,82,83,84,85,86,87,88,89,90,91,92,93,94,95,96,97,98,99],\"y\":{\"__ndarray__\":\"I3CoSWkA8r9lnFuvu7Lavz5a6I9V2vC/4DbiAl4Q7z+XahdjCzTRP15RE7Lzabq/szxGzu0b4z9pgdl5QVzhv+o6rS3NkeS/TWlZWzpj0j/8ke72DFjzv2zcH5HZjLE/RpibkUcJ8b+uXmhPGLbUv7206vdcH/A/A3wRdZpD0L9zsnP6s/7Av+KWrtNUwOg/2/jAJAym0j8ugNyKuS35v2G+nWnfSPO/5SFt1cJ2mT9J0O0vAuXpP8JZD49TefE/3ful+RVr1L/nxw+9vNTTPxIjL0xEROo/UVGpHsN4879tp75wQ3zgvz1W8GjGJ/C/YTQBoUzo5b/fX0pd/ingv6xuoPV+V+y/8tagY2Iw9b9gI47vGHDrv7ZA9loMW9y/g2Bi5HA/0r9umG0nHNzyPym2HqQIU/a/fAtgb8T/+T8Gep5hgq3Vv4tuAOGtFVk/mwfz/iEk47/CVzPSX6nFPzwjKtuxF/O/gbQqdO7v2b+YBB/NfbriP09EBWfR1Oi/tguM+I009j9vmje+VXoDwIt29s69a+i/fIgbHvhy/L8N+LPxA2XCP66HJdWvPgDA3Ojl3mGXob+0jNbu18ftPzeYBZ6Ettc/XBECPi9EeL+aq9XUh6/pPyT3ZqucxOS/klVgTTRA8L+LsbabJVXuv/Xz2IPwP8U/+gbsbE92978TdILKEe7wv1p40AhaUeG/nP70IN/8AMDHF/O2EPCQP4E5PvU54/i/2r6knuKK3j/zu3copqu8v93RsWgKrtU/d5o9+dF66D+fYNzL1ZL7v7kRwplP/gPAjagpfdYh6D8Bm7caGV6zPylf8XsCUdM/8hRj2cbH7j9379yZhTUBwIpGfvLUrAFANJJUFihG8j/SyH/CrWnbP3MB/w10zu6/XtntufNh8D8kqhcDiXXdPzS/qX8KHN+/dUIMpFHL9L8wu1KgAsv0Pxk2CcZm8sc/W4YI3RWl57/fgBqhnpLuv1Ex22VAStA/QABCali26j9Lnik9wNPAPzCSgZZMJfa/PnP4YplP9z/cKjT3bXbzv196KpG5XOu/cFKMpqWp0b8=\",\"dtype\":\"float64\",\"order\":\"little\",\"shape\":[100]}},\"selected\":{\"id\":\"2189\"},\"selection_policy\":{\"id\":\"2188\"}},\"id\":\"2096\",\"type\":\"ColumnDataSource\"},{\"attributes\":{\"data\":{\"x\":[0,1,2,3,4,5,6,7,8,9,10,11,12,13,14,15,16,17,18,19,20,21,22,23,24,25,26,27,28,29,30,31,32,33,34,35,36,37,38,39,40,41,42,43,44,45,46,47,48,49,50,51,52,53,54,55,56,57,58,59,60,61,62,63,64,65,66,67,68,69,70,71,72,73,74,75,76,77,78,79,80,81,82,83,84,85,86,87,88,89,90,91,92,93,94,95,96,97,98,99],\"y\":{\"__ndarray__\":\"TEA0MNp71D8LGjBQ3Bfbv5wNR1MdSca/7A6F94+e7j8u7JQQmzzrv7dLyx96J9y/BDIAmb0JmL97C3TB1AHZP+hacFGc3eg/WnR0bfLx4b8EA9C5h/rSvy2qr3vuiwbAaDRDL38P479LMmbx8a/BP/9JofgLE9q/ynR+58hk0r+9YPx9NUD1v96HTBAKsPe/Sj1bGAlbyr/PJgDAk7vPP2HVSMpHcPe/m71yDXq4/L+pGdjNFSjqv4rjt9deKO0/XYfHkBNFAsCS+X2JoJ/mP4UmNPNPELO/RjO5hi9i4r9t8rXl6KDTP359YbO1Ptu/p/x03QEm+T8Q4N8FuDX6P2VxDD26U/Q/Sc1wt42E1D8F2SLtZ6+zPyO3fNPkPPM/TAqoIJy857/88mBLOhquvz3loa3id82/H3SPDfwZ/79pCoAKZsjrv6x3oqOTZuw/D2QnQiml8D+H6XaV5AXRP8Yl6FIlsSW/KtjSQeZf1z+bB40+MgLXv9wHUsqaTfC/FwFCmyF87z/jqC3ZQVC3v0naWi+Ey9A/CKWiWbhRlL88Pl282R3aP2k2K42k4vA/Kw+t6aA7b78nmFp30D31P+C1gytYoOI/bABGmgfk0j/NCNYJod/gv9HJ13CYP/u/Ml39rNxR8D9ZaOenaYTaP9A6m4Q3XJ6/TbvDE8i/57+xX+5ZkxXqv5liTTUSJq0/Dg5twZeCyj9nmi/EyYrjv8D8msESE/i/bVy2SsA+8b9LQ546cH6nv0qXGVqkevG/9uDXznzcwT9VwXDemXx6v107FPvxctu/gIv4FuY76D9EKR2AEWjYP7ZxOFdWQv0/OLhmCxIj4L9Y7ylji8zSv3SaI15KLfi/zVGdX7x2+L9SOUq9vH7Pv7tcMZt0rPk/u4YxkwA9/T8b9PF9JLrnv/pPifVCJtm/5n+exCC34L+eiGSzLGbov1WKfmARIeW/lMugiL7J9T+7gEBkH3zrP7Sani6yFuA/VZrk9YEd9z/ZccITl+XZv+dOZUddRdg/LqN6qRLey79O1Q4y82PMP11q7il83Pi/+v9CWH9p878=\",\"dtype\":\"float64\",\"order\":\"little\",\"shape\":[100]}},\"selected\":{\"id\":\"2187\"},\"selection_policy\":{\"id\":\"2186\"}},\"id\":\"2091\",\"type\":\"ColumnDataSource\"},{\"attributes\":{},\"id\":\"2082\",\"type\":\"HelpTool\"},{\"attributes\":{\"axis\":{\"id\":\"2069\"},\"grid_line_color\":\"red\",\"minor_grid_line_alpha\":0.1,\"minor_grid_line_color\":\"navy\",\"ticker\":null},\"id\":\"2072\",\"type\":\"Grid\"},{\"attributes\":{\"active_drag\":\"auto\",\"active_inspect\":\"auto\",\"active_multi\":null,\"active_scroll\":\"auto\",\"active_tap\":\"auto\",\"tools\":[{\"id\":\"2077\"},{\"id\":\"2078\"},{\"id\":\"2079\"},{\"id\":\"2080\"},{\"id\":\"2081\"},{\"id\":\"2082\"}]},\"id\":\"2084\",\"type\":\"Toolbar\"},{\"attributes\":{\"source\":{\"id\":\"2096\"}},\"id\":\"2100\",\"type\":\"CDSView\"},{\"attributes\":{},\"id\":\"2189\",\"type\":\"Selection\"},{\"attributes\":{\"fill_alpha\":{\"value\":0.1},\"fill_color\":{\"value\":\"#FF0000\"},\"line_alpha\":{\"value\":0.1},\"line_color\":{\"value\":\"#FF0000\"},\"size\":{\"units\":\"screen\",\"value\":10},\"x\":{\"field\":\"x\"},\"y\":{\"field\":\"y\"}},\"id\":\"2098\",\"type\":\"Circle\"},{\"attributes\":{},\"id\":\"2063\",\"type\":\"DataRange1d\"},{\"attributes\":{},\"id\":\"2074\",\"type\":\"BasicTicker\"},{\"attributes\":{\"axis\":{\"id\":\"2073\"},\"dimension\":1,\"grid_line_alpha\":0.8,\"grid_line_dash\":[6,4],\"ticker\":null},\"id\":\"2076\",\"type\":\"Grid\"},{\"attributes\":{},\"id\":\"2188\",\"type\":\"UnionRenderers\"},{\"attributes\":{\"formatter\":{\"id\":\"2185\"},\"ticker\":{\"id\":\"2074\"}},\"id\":\"2073\",\"type\":\"LinearAxis\"},{\"attributes\":{},\"id\":\"2186\",\"type\":\"UnionRenderers\"},{\"attributes\":{\"bottom_units\":\"screen\",\"fill_alpha\":0.5,\"fill_color\":\"lightgrey\",\"left_units\":\"screen\",\"level\":\"overlay\",\"line_alpha\":1.0,\"line_color\":\"black\",\"line_dash\":[4,4],\"line_width\":2,\"right_units\":\"screen\",\"top_units\":\"screen\"},\"id\":\"2083\",\"type\":\"BoxAnnotation\"},{\"attributes\":{},\"id\":\"2187\",\"type\":\"Selection\"},{\"attributes\":{},\"id\":\"2067\",\"type\":\"LinearScale\"},{\"attributes\":{},\"id\":\"2183\",\"type\":\"BasicTickFormatter\"}],\"root_ids\":[\"2060\"]},\"title\":\"Bokeh Application\",\"version\":\"2.2.3\"}};\n",
       "  var render_items = [{\"docid\":\"1d776714-361a-425a-941b-7f6925a1a096\",\"root_ids\":[\"2060\"],\"roots\":{\"2060\":\"ca474c0a-3fe2-4e17-9275-8844d673a325\"}}];\n",
       "  root.Bokeh.embed.embed_items_notebook(docs_json, render_items);\n",
       "\n",
       "  }\n",
       "  if (root.Bokeh !== undefined) {\n",
       "    embed_document(root);\n",
       "  } else {\n",
       "    var attempts = 0;\n",
       "    var timer = setInterval(function(root) {\n",
       "      if (root.Bokeh !== undefined) {\n",
       "        clearInterval(timer);\n",
       "        embed_document(root);\n",
       "      } else {\n",
       "        attempts++;\n",
       "        if (attempts > 100) {\n",
       "          clearInterval(timer);\n",
       "          console.log(\"Bokeh: ERROR: Unable to run BokehJS code because BokehJS library is missing\");\n",
       "        }\n",
       "      }\n",
       "    }, 10, root)\n",
       "  }\n",
       "})(window);"
      ],
      "application/vnd.bokehjs_exec.v0+json": ""
     },
     "metadata": {
      "application/vnd.bokehjs_exec.v0+json": {
       "id": "2060"
      }
     },
     "output_type": "display_data"
    }
   ],
   "source": [
    "# Grid - 格网设置\n",
    "# 线型设置\n",
    "\n",
    "p = figure(plot_width=600, plot_height=400)\n",
    "p.circle(df.index, df['A'], color = 'green', size=10,  alpha=0.5)\n",
    "p.circle(df.index, df['B'], color = '#FF0000', size=10,  alpha=0.5)\n",
    "# 绘制散点图\n",
    "\n",
    "p.xgrid.grid_line_color = 'red'\n",
    "# 颜色设置，None时则不显示\n",
    "\n",
    "p.ygrid.grid_line_alpha = 0.8\n",
    "p.ygrid.grid_line_dash = [6, 4]\n",
    "# 设置透明度，虚线设置\n",
    "# dash → 通过设置间隔来做虚线\n",
    "\n",
    "p.xgrid.minor_grid_line_color = 'navy'\n",
    "p.xgrid.minor_grid_line_alpha = 0.1\n",
    "# minor_line → 设置次轴线\n",
    "\n",
    "show(p)"
   ]
  },
  {
   "cell_type": "code",
   "execution_count": 13,
   "metadata": {},
   "outputs": [
    {
     "data": {
      "text/html": [
       "\n",
       "\n",
       "\n",
       "\n",
       "\n",
       "\n",
       "  <div class=\"bk-root\" id=\"c0c7d44c-67c7-481d-983a-5a0ed197a418\" data-root-id=\"2246\"></div>\n"
      ]
     },
     "metadata": {},
     "output_type": "display_data"
    },
    {
     "data": {
      "application/javascript": [
       "(function(root) {\n",
       "  function embed_document(root) {\n",
       "    \n",
       "  var docs_json = {\"f26df61e-f703-4f88-8ffc-40c330a99643\":{\"roots\":{\"references\":[{\"attributes\":{\"below\":[{\"id\":\"2255\"}],\"center\":[{\"id\":\"2258\"},{\"id\":\"2262\"}],\"left\":[{\"id\":\"2259\"}],\"plot_height\":400,\"renderers\":[{\"id\":\"2280\"},{\"id\":\"2285\"}],\"title\":{\"id\":\"2377\"},\"toolbar\":{\"id\":\"2270\"},\"x_range\":{\"id\":\"2247\"},\"x_scale\":{\"id\":\"2251\"},\"y_range\":{\"id\":\"2249\"},\"y_scale\":{\"id\":\"2253\"}},\"id\":\"2246\",\"subtype\":\"Figure\",\"type\":\"Plot\"},{\"attributes\":{},\"id\":\"2256\",\"type\":\"BasicTicker\"},{\"attributes\":{},\"id\":\"2263\",\"type\":\"PanTool\"},{\"attributes\":{\"fill_alpha\":{\"value\":0.5},\"fill_color\":{\"value\":\"green\"},\"line_alpha\":{\"value\":0.5},\"line_color\":{\"value\":\"green\"},\"size\":{\"units\":\"screen\",\"value\":10},\"x\":{\"field\":\"x\"},\"y\":{\"field\":\"y\"}},\"id\":\"2278\",\"type\":\"Circle\"},{\"attributes\":{\"data_source\":{\"id\":\"2277\"},\"glyph\":{\"id\":\"2278\"},\"hover_glyph\":null,\"muted_glyph\":null,\"nonselection_glyph\":{\"id\":\"2279\"},\"selection_glyph\":null,\"view\":{\"id\":\"2281\"}},\"id\":\"2280\",\"type\":\"GlyphRenderer\"},{\"attributes\":{\"active_drag\":\"auto\",\"active_inspect\":\"auto\",\"active_multi\":null,\"active_scroll\":\"auto\",\"active_tap\":\"auto\",\"tools\":[{\"id\":\"2263\"},{\"id\":\"2264\"},{\"id\":\"2265\"},{\"id\":\"2266\"},{\"id\":\"2267\"},{\"id\":\"2268\"}]},\"id\":\"2270\",\"type\":\"Toolbar\"},{\"attributes\":{\"formatter\":{\"id\":\"2382\"},\"ticker\":{\"id\":\"2260\"}},\"id\":\"2259\",\"type\":\"LinearAxis\"},{\"attributes\":{\"data\":{\"x\":[0,1,2,3,4,5,6,7,8,9,10,11,12,13,14,15,16,17,18,19,20,21,22,23,24,25,26,27,28,29,30,31,32,33,34,35,36,37,38,39,40,41,42,43,44,45,46,47,48,49,50,51,52,53,54,55,56,57,58,59,60,61,62,63,64,65,66,67,68,69,70,71,72,73,74,75,76,77,78,79,80,81,82,83,84,85,86,87,88,89,90,91,92,93,94,95,96,97,98,99],\"y\":{\"__ndarray__\":\"I3CoSWkA8r9lnFuvu7Lavz5a6I9V2vC/4DbiAl4Q7z+XahdjCzTRP15RE7Lzabq/szxGzu0b4z9pgdl5QVzhv+o6rS3NkeS/TWlZWzpj0j/8ke72DFjzv2zcH5HZjLE/RpibkUcJ8b+uXmhPGLbUv7206vdcH/A/A3wRdZpD0L9zsnP6s/7Av+KWrtNUwOg/2/jAJAym0j8ugNyKuS35v2G+nWnfSPO/5SFt1cJ2mT9J0O0vAuXpP8JZD49TefE/3ful+RVr1L/nxw+9vNTTPxIjL0xEROo/UVGpHsN4879tp75wQ3zgvz1W8GjGJ/C/YTQBoUzo5b/fX0pd/ingv6xuoPV+V+y/8tagY2Iw9b9gI47vGHDrv7ZA9loMW9y/g2Bi5HA/0r9umG0nHNzyPym2HqQIU/a/fAtgb8T/+T8Gep5hgq3Vv4tuAOGtFVk/mwfz/iEk47/CVzPSX6nFPzwjKtuxF/O/gbQqdO7v2b+YBB/NfbriP09EBWfR1Oi/tguM+I009j9vmje+VXoDwIt29s69a+i/fIgbHvhy/L8N+LPxA2XCP66HJdWvPgDA3Ojl3mGXob+0jNbu18ftPzeYBZ6Ettc/XBECPi9EeL+aq9XUh6/pPyT3ZqucxOS/klVgTTRA8L+LsbabJVXuv/Xz2IPwP8U/+gbsbE92978TdILKEe7wv1p40AhaUeG/nP70IN/8AMDHF/O2EPCQP4E5PvU54/i/2r6knuKK3j/zu3copqu8v93RsWgKrtU/d5o9+dF66D+fYNzL1ZL7v7kRwplP/gPAjagpfdYh6D8Bm7caGV6zPylf8XsCUdM/8hRj2cbH7j9379yZhTUBwIpGfvLUrAFANJJUFihG8j/SyH/CrWnbP3MB/w10zu6/XtntufNh8D8kqhcDiXXdPzS/qX8KHN+/dUIMpFHL9L8wu1KgAsv0Pxk2CcZm8sc/W4YI3RWl57/fgBqhnpLuv1Ex22VAStA/QABCali26j9Lnik9wNPAPzCSgZZMJfa/PnP4YplP9z/cKjT3bXbzv196KpG5XOu/cFKMpqWp0b8=\",\"dtype\":\"float64\",\"order\":\"little\",\"shape\":[100]}},\"selected\":{\"id\":\"2386\"},\"selection_policy\":{\"id\":\"2385\"}},\"id\":\"2282\",\"type\":\"ColumnDataSource\"},{\"attributes\":{},\"id\":\"2264\",\"type\":\"WheelZoomTool\"},{\"attributes\":{},\"id\":\"2386\",\"type\":\"Selection\"},{\"attributes\":{},\"id\":\"2268\",\"type\":\"HelpTool\"},{\"attributes\":{\"overlay\":{\"id\":\"2269\"}},\"id\":\"2265\",\"type\":\"BoxZoomTool\"},{\"attributes\":{},\"id\":\"2382\",\"type\":\"BasicTickFormatter\"},{\"attributes\":{},\"id\":\"2266\",\"type\":\"SaveTool\"},{\"attributes\":{},\"id\":\"2385\",\"type\":\"UnionRenderers\"},{\"attributes\":{\"data_source\":{\"id\":\"2282\"},\"glyph\":{\"id\":\"2283\"},\"hover_glyph\":null,\"muted_glyph\":null,\"nonselection_glyph\":{\"id\":\"2284\"},\"selection_glyph\":null,\"view\":{\"id\":\"2286\"}},\"id\":\"2285\",\"type\":\"GlyphRenderer\"},{\"attributes\":{},\"id\":\"2267\",\"type\":\"ResetTool\"},{\"attributes\":{\"axis\":{\"id\":\"2255\"},\"grid_line_color\":null,\"ticker\":null},\"id\":\"2258\",\"type\":\"Grid\"},{\"attributes\":{},\"id\":\"2380\",\"type\":\"BasicTickFormatter\"},{\"attributes\":{\"formatter\":{\"id\":\"2380\"},\"ticker\":{\"id\":\"2256\"}},\"id\":\"2255\",\"type\":\"LinearAxis\"},{\"attributes\":{\"source\":{\"id\":\"2282\"}},\"id\":\"2286\",\"type\":\"CDSView\"},{\"attributes\":{\"fill_alpha\":{\"value\":0.1},\"fill_color\":{\"value\":\"#FF0000\"},\"line_alpha\":{\"value\":0.1},\"line_color\":{\"value\":\"#FF0000\"},\"size\":{\"units\":\"screen\",\"value\":10},\"x\":{\"field\":\"x\"},\"y\":{\"field\":\"y\"}},\"id\":\"2284\",\"type\":\"Circle\"},{\"attributes\":{\"bottom_units\":\"screen\",\"fill_alpha\":0.5,\"fill_color\":\"lightgrey\",\"left_units\":\"screen\",\"level\":\"overlay\",\"line_alpha\":1.0,\"line_color\":\"black\",\"line_dash\":[4,4],\"line_width\":2,\"right_units\":\"screen\",\"top_units\":\"screen\"},\"id\":\"2269\",\"type\":\"BoxAnnotation\"},{\"attributes\":{\"data\":{\"x\":[0,1,2,3,4,5,6,7,8,9,10,11,12,13,14,15,16,17,18,19,20,21,22,23,24,25,26,27,28,29,30,31,32,33,34,35,36,37,38,39,40,41,42,43,44,45,46,47,48,49,50,51,52,53,54,55,56,57,58,59,60,61,62,63,64,65,66,67,68,69,70,71,72,73,74,75,76,77,78,79,80,81,82,83,84,85,86,87,88,89,90,91,92,93,94,95,96,97,98,99],\"y\":{\"__ndarray__\":\"TEA0MNp71D8LGjBQ3Bfbv5wNR1MdSca/7A6F94+e7j8u7JQQmzzrv7dLyx96J9y/BDIAmb0JmL97C3TB1AHZP+hacFGc3eg/WnR0bfLx4b8EA9C5h/rSvy2qr3vuiwbAaDRDL38P479LMmbx8a/BP/9JofgLE9q/ynR+58hk0r+9YPx9NUD1v96HTBAKsPe/Sj1bGAlbyr/PJgDAk7vPP2HVSMpHcPe/m71yDXq4/L+pGdjNFSjqv4rjt9deKO0/XYfHkBNFAsCS+X2JoJ/mP4UmNPNPELO/RjO5hi9i4r9t8rXl6KDTP359YbO1Ptu/p/x03QEm+T8Q4N8FuDX6P2VxDD26U/Q/Sc1wt42E1D8F2SLtZ6+zPyO3fNPkPPM/TAqoIJy857/88mBLOhquvz3loa3id82/H3SPDfwZ/79pCoAKZsjrv6x3oqOTZuw/D2QnQiml8D+H6XaV5AXRP8Yl6FIlsSW/KtjSQeZf1z+bB40+MgLXv9wHUsqaTfC/FwFCmyF87z/jqC3ZQVC3v0naWi+Ey9A/CKWiWbhRlL88Pl282R3aP2k2K42k4vA/Kw+t6aA7b78nmFp30D31P+C1gytYoOI/bABGmgfk0j/NCNYJod/gv9HJ13CYP/u/Ml39rNxR8D9ZaOenaYTaP9A6m4Q3XJ6/TbvDE8i/57+xX+5ZkxXqv5liTTUSJq0/Dg5twZeCyj9nmi/EyYrjv8D8msESE/i/bVy2SsA+8b9LQ546cH6nv0qXGVqkevG/9uDXznzcwT9VwXDemXx6v107FPvxctu/gIv4FuY76D9EKR2AEWjYP7ZxOFdWQv0/OLhmCxIj4L9Y7ylji8zSv3SaI15KLfi/zVGdX7x2+L9SOUq9vH7Pv7tcMZt0rPk/u4YxkwA9/T8b9PF9JLrnv/pPifVCJtm/5n+exCC34L+eiGSzLGbov1WKfmARIeW/lMugiL7J9T+7gEBkH3zrP7Sani6yFuA/VZrk9YEd9z/ZccITl+XZv+dOZUddRdg/LqN6qRLey79O1Q4y82PMP11q7il83Pi/+v9CWH9p878=\",\"dtype\":\"float64\",\"order\":\"little\",\"shape\":[100]}},\"selected\":{\"id\":\"2384\"},\"selection_policy\":{\"id\":\"2383\"}},\"id\":\"2277\",\"type\":\"ColumnDataSource\"},{\"attributes\":{},\"id\":\"2383\",\"type\":\"UnionRenderers\"},{\"attributes\":{\"text\":\"\"},\"id\":\"2377\",\"type\":\"Title\"},{\"attributes\":{},\"id\":\"2247\",\"type\":\"DataRange1d\"},{\"attributes\":{},\"id\":\"2260\",\"type\":\"BasicTicker\"},{\"attributes\":{\"axis\":{\"id\":\"2259\"},\"band_fill_alpha\":0.1,\"band_fill_color\":\"navy\",\"dimension\":1,\"ticker\":null},\"id\":\"2262\",\"type\":\"Grid\"},{\"attributes\":{},\"id\":\"2251\",\"type\":\"LinearScale\"},{\"attributes\":{},\"id\":\"2249\",\"type\":\"DataRange1d\"},{\"attributes\":{\"fill_alpha\":{\"value\":0.1},\"fill_color\":{\"value\":\"green\"},\"line_alpha\":{\"value\":0.1},\"line_color\":{\"value\":\"green\"},\"size\":{\"units\":\"screen\",\"value\":10},\"x\":{\"field\":\"x\"},\"y\":{\"field\":\"y\"}},\"id\":\"2279\",\"type\":\"Circle\"},{\"attributes\":{\"source\":{\"id\":\"2277\"}},\"id\":\"2281\",\"type\":\"CDSView\"},{\"attributes\":{},\"id\":\"2253\",\"type\":\"LinearScale\"},{\"attributes\":{\"fill_alpha\":{\"value\":0.5},\"fill_color\":{\"value\":\"#FF0000\"},\"line_alpha\":{\"value\":0.5},\"line_color\":{\"value\":\"#FF0000\"},\"size\":{\"units\":\"screen\",\"value\":10},\"x\":{\"field\":\"x\"},\"y\":{\"field\":\"y\"}},\"id\":\"2283\",\"type\":\"Circle\"},{\"attributes\":{},\"id\":\"2384\",\"type\":\"Selection\"}],\"root_ids\":[\"2246\"]},\"title\":\"Bokeh Application\",\"version\":\"2.2.3\"}};\n",
       "  var render_items = [{\"docid\":\"f26df61e-f703-4f88-8ffc-40c330a99643\",\"root_ids\":[\"2246\"],\"roots\":{\"2246\":\"c0c7d44c-67c7-481d-983a-5a0ed197a418\"}}];\n",
       "  root.Bokeh.embed.embed_items_notebook(docs_json, render_items);\n",
       "\n",
       "  }\n",
       "  if (root.Bokeh !== undefined) {\n",
       "    embed_document(root);\n",
       "  } else {\n",
       "    var attempts = 0;\n",
       "    var timer = setInterval(function(root) {\n",
       "      if (root.Bokeh !== undefined) {\n",
       "        clearInterval(timer);\n",
       "        embed_document(root);\n",
       "      } else {\n",
       "        attempts++;\n",
       "        if (attempts > 100) {\n",
       "          clearInterval(timer);\n",
       "          console.log(\"Bokeh: ERROR: Unable to run BokehJS code because BokehJS library is missing\");\n",
       "        }\n",
       "      }\n",
       "    }, 10, root)\n",
       "  }\n",
       "})(window);"
      ],
      "application/vnd.bokehjs_exec.v0+json": ""
     },
     "metadata": {
      "application/vnd.bokehjs_exec.v0+json": {
       "id": "2246"
      }
     },
     "output_type": "display_data"
    }
   ],
   "source": [
    "# Grid - 格网设置\n",
    "# 颜色填充\n",
    "\n",
    "p = figure(plot_width=600, plot_height=400)\n",
    "p.circle(df.index, df['A'], color = 'green', size=10,  alpha=0.5)\n",
    "p.circle(df.index, df['B'], color = '#FF0000', size=10,  alpha=0.5)\n",
    "# 绘制散点图\n",
    "\n",
    "p.xgrid.grid_line_color = None\n",
    "# 设置颜色为空\n",
    "\n",
    "p.ygrid.band_fill_alpha = 0.1\n",
    "p.ygrid.band_fill_color = \"navy\"\n",
    "# 设置颜色填充，及透明度\n",
    "\n",
    "#p.grid.bounds = (-1, 1)\n",
    "# 设置填充边界\n",
    "\n",
    "show(p)"
   ]
  },
  {
   "cell_type": "code",
   "execution_count": 16,
   "metadata": {},
   "outputs": [
    {
     "data": {
      "text/html": [
       "\n",
       "\n",
       "\n",
       "\n",
       "\n",
       "\n",
       "  <div class=\"bk-root\" id=\"3155bd6e-8fd7-46ea-87d9-5ebcbd8a6cbd\" data-root-id=\"3116\"></div>\n"
      ]
     },
     "metadata": {},
     "output_type": "display_data"
    },
    {
     "data": {
      "application/javascript": [
       "(function(root) {\n",
       "  function embed_document(root) {\n",
       "    \n",
       "  var docs_json = {\"dcd22bd6-4078-40fe-baf8-4baa47fe0111\":{\"roots\":{\"references\":[{\"attributes\":{\"below\":[{\"id\":\"3125\"}],\"center\":[{\"id\":\"3128\"},{\"id\":\"3132\"},{\"id\":\"3161\"}],\"left\":[{\"id\":\"3129\"}],\"plot_height\":400,\"renderers\":[{\"id\":\"3150\"},{\"id\":\"3166\"},{\"id\":\"3182\"},{\"id\":\"3201\"},{\"id\":\"3222\"}],\"title\":{\"id\":\"3152\"},\"toolbar\":{\"id\":\"3140\"},\"x_range\":{\"id\":\"3117\"},\"x_scale\":{\"id\":\"3121\"},\"y_range\":{\"id\":\"3119\"},\"y_scale\":{\"id\":\"3123\"}},\"id\":\"3116\",\"subtype\":\"Figure\",\"type\":\"Plot\"},{\"attributes\":{\"active_drag\":\"auto\",\"active_inspect\":\"auto\",\"active_multi\":null,\"active_scroll\":\"auto\",\"active_tap\":\"auto\",\"tools\":[{\"id\":\"3133\"},{\"id\":\"3134\"},{\"id\":\"3135\"},{\"id\":\"3136\"},{\"id\":\"3137\"},{\"id\":\"3138\"}]},\"id\":\"3140\",\"type\":\"Toolbar\"},{\"attributes\":{\"label\":{\"value\":\"3*sin(x)\"},\"renderers\":[{\"id\":\"3201\"},{\"id\":\"3222\"}]},\"id\":\"3218\",\"type\":\"LegendItem\"},{\"attributes\":{},\"id\":\"3195\",\"type\":\"Selection\"},{\"attributes\":{\"text\":\"\"},\"id\":\"3152\",\"type\":\"Title\"},{\"attributes\":{\"line_color\":\"#1f77b4\",\"x\":{\"field\":\"x\"},\"y\":{\"field\":\"y\"}},\"id\":\"3164\",\"type\":\"Line\"},{\"attributes\":{\"fill_alpha\":{\"value\":0.1},\"fill_color\":{\"value\":\"#1f77b4\"},\"line_alpha\":{\"value\":0.1},\"line_color\":{\"value\":\"#1f77b4\"},\"x\":{\"field\":\"x\"},\"y\":{\"field\":\"y\"}},\"id\":\"3149\",\"type\":\"Circle\"},{\"attributes\":{\"source\":{\"id\":\"3219\"}},\"id\":\"3223\",\"type\":\"CDSView\"},{\"attributes\":{\"data\":{\"x\":{\"__ndarray__\":\"AAAAAAAAAACRGkt8Vz/AP5EaS3xXP9A/2qdwOgNf2D+RGkt8Vz/gPzXhXVstT+Q/2qdwOgNf6D9+boMZ2W7sP5EaS3xXP/A/433Ua0JH8j814V1bLU/0P4dE50oYV/Y/2qdwOgNf+D8sC/op7mb6P35ugxnZbvw/0NEMCcR2/j+RGkt8Vz8AQDrMD/RMQwFA433Ua0JHAkCML5njN0sDQDXhXVstTwRA3pIi0yJTBUCHROdKGFcGQDD2q8INWwdA2qdwOgNfCECDWTWy+GIJQCwL+inuZgpA1by+oeNqC0B+boMZ2W4MQCcgSJHOcg1A0NEMCcR2DkB5g9GAuXoPQJEaS3xXPxBAZnMtOFLBEEA6zA/0TEMRQA8l8q9HxRFA433Ua0JHEkC41rYnPckSQIwvmeM3SxNAYYh7nzLNE0A14V1bLU8UQAo6QBco0RRA3pIi0yJTFUCz6wSPHdUVQIdE50oYVxZAXJ3JBhPZFkAw9qvCDVsXQAVPjn4I3RdA2qdwOgNfGECuAFP2/eAYQINZNbL4YhlAV7IXbvPkGUAsC/op7mYaQABk3OXo6BpA1by+oeNqG0CpFaFd3uwbQH5ugxnZbhxAUsdl1dPwHEAnIEiRznIdQPt4Kk3J9B1A0NEMCcR2HkCkKu/EvvgeQHmD0YC5eh9ATdyzPLT8H0CRGkt8Vz8gQPtGPNpUgCBAZnMtOFLBIEDQnx6WTwIhQDrMD/RMQyFApPgAUkqEIUAPJfKvR8UhQHlR4w1FBiJA433Ua0JHIkBNqsXJP4giQLjWtic9ySJAIgOohToKI0CML5njN0sjQPZbikE1jCNAYYh7nzLNI0DLtGz9Lw4kQDXhXVstTyRAoA1PuSqQJEAKOkAXKNEkQHRmMXUlEiVA3pIi0yJTJUBJvxMxIJQlQLPrBI8d1SVAHRj27BoWJkCHROdKGFcmQPJw2KgVmCZAXJ3JBhPZJkDGybpkEBonQDD2q8INWydAmyKdIAucJ0AFT45+CN0nQG97f9wFHihA2qdwOgNfKEBE1GGYAKAoQK4AU/b94ChAGC1EVPshKUA=\",\"dtype\":\"float64\",\"order\":\"little\",\"shape\":[100]},\"y\":{\"__ndarray__\":\"AAAAAAAAAADoxQO0RU7YP+dMxoI2HOg//C5K/vzW8T/Tua6vYlb3P+nH5xKndfw/AFIvb9iPAEBm8BjVpKACQNka5Ym2ZARADqEya8fUBUD+Gu1b6+oGQBHVYKmoogdAYgGEegr5B0DMzIX9rOwHQM+xeSHDfQdA1L6JxBWuBkB9BRBa/IAFQO0A3yZP+wNAeZ5rTFMjAkDe5Qz1oAAAQDnpZxcIOPs/tv7u/6/+9T/6iGdXvmrwP2wf+wVaJuU/5X710zFA0j+uSTsu9124v2QnUqkVVt6/o9Qx/NsL679m4Ulpoj7zvxQdiFoRqPi/bDUKCPCr/b/J7VIByxoBwPGhyyYpGQPAgTlCLtzIBMCuGkzd8SIGwAOBBKLYIQfAMzIqg3bBB8BzaxsFOv8HwKfUGL4k2gfAJ8c7bs9SB8BSNUOKZ2sGwCX1VkOmJwXAMfGzMMGMA8AkU27aVKEBwC4hWvuS2v6/DwQZ9WTz+b9lsKPjUaH0v8Yvs7GI9O2/YIF44Akr4r8GSRAz01rIvzJJEDPTWsg/aoF44Akr4j/QL7OxiPTtP1+wo+NRofQ/FAQZ9WTz+T8oIVr7ktr+PyVTbtpUoQFAMPGzMMGMA0Am9VZDpicFQFE1Q4pnawZAKMc7bs9SB0Cn1Bi+JNoHQHNrGwU6/wdANDIqg3bBB0ACgQSi2CEHQLAaTN3xIgZAfTlCLtzIBEDwocsmKRkDQMntUgHLGgFAcTUKCPCr/T8MHYhaEaj4P2HhSWmiPvM/pNQx/NsL6z99J1KpFVbeP/ZIOy73Xbg/+n710zFA0r9fH/sFWiblv+6IZ1e+avC/uv7u/6/+9b846WcXCDj7v9vlDPWgAADAfJ5rTFMjAsDuAN8mT/sDwH0FEFr8gAXA076JxBWuBsDQsXkhw30HwMzMhf2s7AfAYgGEegr5B8AS1WCpqKIHwPwa7Vvr6gbADqEya8fUBcDaGuWJtmQEwGnwGNWkoALA/VEvb9iPAMDpx+cSp3X8v9e5rq9iVve/8C5K/vzW8b/bTMaCNhzov+rFA7RFTti/CoqeTDl52rw=\",\"dtype\":\"float64\",\"order\":\"little\",\"shape\":[100]}},\"selected\":{\"id\":\"3239\"},\"selection_policy\":{\"id\":\"3238\"}},\"id\":\"3219\",\"type\":\"ColumnDataSource\"},{\"attributes\":{},\"id\":\"3194\",\"type\":\"UnionRenderers\"},{\"attributes\":{},\"id\":\"3117\",\"type\":\"DataRange1d\"},{\"attributes\":{\"bottom_units\":\"screen\",\"fill_alpha\":0.5,\"fill_color\":\"lightgrey\",\"left_units\":\"screen\",\"level\":\"overlay\",\"line_alpha\":1.0,\"line_color\":\"black\",\"line_dash\":[4,4],\"line_width\":2,\"right_units\":\"screen\",\"top_units\":\"screen\"},\"id\":\"3139\",\"type\":\"BoxAnnotation\"},{\"attributes\":{\"data\":{\"x\":{\"__ndarray__\":\"AAAAAAAAAACRGkt8Vz/AP5EaS3xXP9A/2qdwOgNf2D+RGkt8Vz/gPzXhXVstT+Q/2qdwOgNf6D9+boMZ2W7sP5EaS3xXP/A/433Ua0JH8j814V1bLU/0P4dE50oYV/Y/2qdwOgNf+D8sC/op7mb6P35ugxnZbvw/0NEMCcR2/j+RGkt8Vz8AQDrMD/RMQwFA433Ua0JHAkCML5njN0sDQDXhXVstTwRA3pIi0yJTBUCHROdKGFcGQDD2q8INWwdA2qdwOgNfCECDWTWy+GIJQCwL+inuZgpA1by+oeNqC0B+boMZ2W4MQCcgSJHOcg1A0NEMCcR2DkB5g9GAuXoPQJEaS3xXPxBAZnMtOFLBEEA6zA/0TEMRQA8l8q9HxRFA433Ua0JHEkC41rYnPckSQIwvmeM3SxNAYYh7nzLNE0A14V1bLU8UQAo6QBco0RRA3pIi0yJTFUCz6wSPHdUVQIdE50oYVxZAXJ3JBhPZFkAw9qvCDVsXQAVPjn4I3RdA2qdwOgNfGECuAFP2/eAYQINZNbL4YhlAV7IXbvPkGUAsC/op7mYaQABk3OXo6BpA1by+oeNqG0CpFaFd3uwbQH5ugxnZbhxAUsdl1dPwHEAnIEiRznIdQPt4Kk3J9B1A0NEMCcR2HkCkKu/EvvgeQHmD0YC5eh9ATdyzPLT8H0CRGkt8Vz8gQPtGPNpUgCBAZnMtOFLBIEDQnx6WTwIhQDrMD/RMQyFApPgAUkqEIUAPJfKvR8UhQHlR4w1FBiJA433Ua0JHIkBNqsXJP4giQLjWtic9ySJAIgOohToKI0CML5njN0sjQPZbikE1jCNAYYh7nzLNI0DLtGz9Lw4kQDXhXVstTyRAoA1PuSqQJEAKOkAXKNEkQHRmMXUlEiVA3pIi0yJTJUBJvxMxIJQlQLPrBI8d1SVAHRj27BoWJkCHROdKGFcmQPJw2KgVmCZAXJ3JBhPZJkDGybpkEBonQDD2q8INWydAmyKdIAucJ0AFT45+CN0nQG97f9wFHihA2qdwOgNfKEBE1GGYAKAoQK4AU/b94ChAGC1EVPshKUA=\",\"dtype\":\"float64\",\"order\":\"little\",\"shape\":[100]},\"y\":{\"__ndarray__\":\"AAAAAAAAAADoxQO0RU7YP+dMxoI2HOg//C5K/vzW8T/Tua6vYlb3P+nH5xKndfw/AFIvb9iPAEBm8BjVpKACQNka5Ym2ZARADqEya8fUBUD+Gu1b6+oGQBHVYKmoogdAYgGEegr5B0DMzIX9rOwHQM+xeSHDfQdA1L6JxBWuBkB9BRBa/IAFQO0A3yZP+wNAeZ5rTFMjAkDe5Qz1oAAAQDnpZxcIOPs/tv7u/6/+9T/6iGdXvmrwP2wf+wVaJuU/5X710zFA0j+uSTsu9124v2QnUqkVVt6/o9Qx/NsL679m4Ulpoj7zvxQdiFoRqPi/bDUKCPCr/b/J7VIByxoBwPGhyyYpGQPAgTlCLtzIBMCuGkzd8SIGwAOBBKLYIQfAMzIqg3bBB8BzaxsFOv8HwKfUGL4k2gfAJ8c7bs9SB8BSNUOKZ2sGwCX1VkOmJwXAMfGzMMGMA8AkU27aVKEBwC4hWvuS2v6/DwQZ9WTz+b9lsKPjUaH0v8Yvs7GI9O2/YIF44Akr4r8GSRAz01rIvzJJEDPTWsg/aoF44Akr4j/QL7OxiPTtP1+wo+NRofQ/FAQZ9WTz+T8oIVr7ktr+PyVTbtpUoQFAMPGzMMGMA0Am9VZDpicFQFE1Q4pnawZAKMc7bs9SB0Cn1Bi+JNoHQHNrGwU6/wdANDIqg3bBB0ACgQSi2CEHQLAaTN3xIgZAfTlCLtzIBEDwocsmKRkDQMntUgHLGgFAcTUKCPCr/T8MHYhaEaj4P2HhSWmiPvM/pNQx/NsL6z99J1KpFVbeP/ZIOy73Xbg/+n710zFA0r9fH/sFWiblv+6IZ1e+avC/uv7u/6/+9b846WcXCDj7v9vlDPWgAADAfJ5rTFMjAsDuAN8mT/sDwH0FEFr8gAXA076JxBWuBsDQsXkhw30HwMzMhf2s7AfAYgGEegr5B8AS1WCpqKIHwPwa7Vvr6gbADqEya8fUBcDaGuWJtmQEwGnwGNWkoALA/VEvb9iPAMDpx+cSp3X8v9e5rq9iVve/8C5K/vzW8b/bTMaCNhzov+rFA7RFTti/CoqeTDl52rw=\",\"dtype\":\"float64\",\"order\":\"little\",\"shape\":[100]}},\"selected\":{\"id\":\"3216\"},\"selection_policy\":{\"id\":\"3215\"}},\"id\":\"3198\",\"type\":\"ColumnDataSource\"},{\"attributes\":{},\"id\":\"3130\",\"type\":\"BasicTicker\"},{\"attributes\":{\"label\":{\"value\":\"2*sin(x)\"},\"renderers\":[{\"id\":\"3182\"}]},\"id\":\"3197\",\"type\":\"LegendItem\"},{\"attributes\":{\"label\":{\"value\":\"sin(x)\"},\"renderers\":[{\"id\":\"3150\"},{\"id\":\"3166\"}]},\"id\":\"3162\",\"type\":\"LegendItem\"},{\"attributes\":{},\"id\":\"3155\",\"type\":\"BasicTickFormatter\"},{\"attributes\":{\"data_source\":{\"id\":\"3147\"},\"glyph\":{\"id\":\"3148\"},\"hover_glyph\":null,\"muted_glyph\":null,\"nonselection_glyph\":{\"id\":\"3149\"},\"selection_glyph\":null,\"view\":{\"id\":\"3151\"}},\"id\":\"3150\",\"type\":\"GlyphRenderer\"},{\"attributes\":{\"line_alpha\":0.1,\"line_color\":\"green\",\"x\":{\"field\":\"x\"},\"y\":{\"field\":\"y\"}},\"id\":\"3221\",\"type\":\"Line\"},{\"attributes\":{\"data\":{\"x\":{\"__ndarray__\":\"AAAAAAAAAACRGkt8Vz/AP5EaS3xXP9A/2qdwOgNf2D+RGkt8Vz/gPzXhXVstT+Q/2qdwOgNf6D9+boMZ2W7sP5EaS3xXP/A/433Ua0JH8j814V1bLU/0P4dE50oYV/Y/2qdwOgNf+D8sC/op7mb6P35ugxnZbvw/0NEMCcR2/j+RGkt8Vz8AQDrMD/RMQwFA433Ua0JHAkCML5njN0sDQDXhXVstTwRA3pIi0yJTBUCHROdKGFcGQDD2q8INWwdA2qdwOgNfCECDWTWy+GIJQCwL+inuZgpA1by+oeNqC0B+boMZ2W4MQCcgSJHOcg1A0NEMCcR2DkB5g9GAuXoPQJEaS3xXPxBAZnMtOFLBEEA6zA/0TEMRQA8l8q9HxRFA433Ua0JHEkC41rYnPckSQIwvmeM3SxNAYYh7nzLNE0A14V1bLU8UQAo6QBco0RRA3pIi0yJTFUCz6wSPHdUVQIdE50oYVxZAXJ3JBhPZFkAw9qvCDVsXQAVPjn4I3RdA2qdwOgNfGECuAFP2/eAYQINZNbL4YhlAV7IXbvPkGUAsC/op7mYaQABk3OXo6BpA1by+oeNqG0CpFaFd3uwbQH5ugxnZbhxAUsdl1dPwHEAnIEiRznIdQPt4Kk3J9B1A0NEMCcR2HkCkKu/EvvgeQHmD0YC5eh9ATdyzPLT8H0CRGkt8Vz8gQPtGPNpUgCBAZnMtOFLBIEDQnx6WTwIhQDrMD/RMQyFApPgAUkqEIUAPJfKvR8UhQHlR4w1FBiJA433Ua0JHIkBNqsXJP4giQLjWtic9ySJAIgOohToKI0CML5njN0sjQPZbikE1jCNAYYh7nzLNI0DLtGz9Lw4kQDXhXVstTyRAoA1PuSqQJEAKOkAXKNEkQHRmMXUlEiVA3pIi0yJTJUBJvxMxIJQlQLPrBI8d1SVAHRj27BoWJkCHROdKGFcmQPJw2KgVmCZAXJ3JBhPZJkDGybpkEBonQDD2q8INWydAmyKdIAucJ0AFT45+CN0nQG97f9wFHihA2qdwOgNfKEBE1GGYAKAoQK4AU/b94ChAGC1EVPshKUA=\",\"dtype\":\"float64\",\"order\":\"little\",\"shape\":[100]},\"y\":{\"__ndarray__\":\"AAAAAAAAAADwgwJ4LjTQP5qI2QHPEuA/+5MNU1HJ5z8ZTT7q2B3vP0aFmgwa+fI/ABg/lCAV9j+IQCEcMdb4P3fOhmLzMPs/EyzujrQb/T/9Izwlj47+PxccgYyLg/8/g6xao7j2/z9mZrL8O+b/P7+X94FZUv8/xVNiW3I9/j9RB8Ai+6v8P5FWKYlppPo/oSg6uxkv+D/Th2bxK1b1PyZGRbpaJfI/8qg+VZVT7T/4C4p0qOPlP+UppLIiM9w/3FNHxZdVyD/J23zJpD6wv+3ENsZjOdS/wo12/ecH4r/dgWKM2Kjpv2MTsJELcPC/83ixWvXH87+358MBZM72v5eCD4nhdvm/rExY6Hq2+7+TIxAn7YP9vwSssILL1/6/70I4BJ6s/7/vOc8G+P7/vzTGy1KGzf+/3176khQZ/7/C8a4NiuT9vzGcHq/dNPy/l0FFlgER+r+FGZN4xoH3vx8WPFK3kfS/Cli7+O1M8b+HQNqEwoHrv9kfIiFb+OO/gKyggGI52L8EhrXMjDzAvyGGtcyMPMA/jqyggGI52D/gHyIhW/jjP39A2oTCges/DVi7+O1M8T8bFjxSt5H0P4cZk3jGgfc/lUFFlgER+j8ynB6v3TT8P8Hxrg2K5P0/4F76khQZ/z80xstShs3/P+85zwb4/v8/8EI4BJ6s/z8DrLCCy9f+P5UjECftg/0/p0xY6Hq2+z+Vgg+J4Xb5P7fnwwFkzvY/9nixWvXH8z9dE7CRC3DwP9eBYozYqOk/w412/ecH4j/+xDbGYznUP0/bfMmkPrA/+FNHxZdVyL/UKaSyIjPcv+gLinSo4+W/+Kg+VZVT7b8lRkW6WiXyv8+HZvErVvW/pig6uxkv+L+TVimJaaT6v1EHwCL7q/y/xFNiW3I9/r/Al/eBWVL/v2Zmsvw75v+/g6xao7j2/78YHIGMi4P/v/sjPCWPjv6/EyzujrQb/b94zoZi8zD7v4xAIRwx1vi//Bc/lCAV9r9GhZoMGvnyvx9NPurYHe+/65MNU1HJ57+SiNkBzxLgv/GDAnguNNC/B1wUMyam0bw=\",\"dtype\":\"float64\",\"order\":\"little\",\"shape\":[100]}},\"selected\":{\"id\":\"3195\"},\"selection_policy\":{\"id\":\"3194\"}},\"id\":\"3179\",\"type\":\"ColumnDataSource\"},{\"attributes\":{\"data_source\":{\"id\":\"3198\"},\"glyph\":{\"id\":\"3199\"},\"hover_glyph\":null,\"muted_glyph\":null,\"nonselection_glyph\":{\"id\":\"3200\"},\"selection_glyph\":null,\"view\":{\"id\":\"3202\"}},\"id\":\"3201\",\"type\":\"GlyphRenderer\"},{\"attributes\":{},\"id\":\"3158\",\"type\":\"UnionRenderers\"},{\"attributes\":{},\"id\":\"3177\",\"type\":\"Selection\"},{\"attributes\":{},\"id\":\"3119\",\"type\":\"DataRange1d\"},{\"attributes\":{},\"id\":\"3239\",\"type\":\"Selection\"},{\"attributes\":{},\"id\":\"3121\",\"type\":\"LinearScale\"},{\"attributes\":{},\"id\":\"3157\",\"type\":\"BasicTickFormatter\"},{\"attributes\":{},\"id\":\"3159\",\"type\":\"Selection\"},{\"attributes\":{},\"id\":\"3123\",\"type\":\"LinearScale\"},{\"attributes\":{\"line_color\":\"orange\",\"line_dash\":[4,4],\"line_width\":2,\"x\":{\"field\":\"x\"},\"y\":{\"field\":\"y\"}},\"id\":\"3180\",\"type\":\"Line\"},{\"attributes\":{},\"id\":\"3215\",\"type\":\"UnionRenderers\"},{\"attributes\":{\"data_source\":{\"id\":\"3179\"},\"glyph\":{\"id\":\"3180\"},\"hover_glyph\":null,\"muted_glyph\":null,\"nonselection_glyph\":{\"id\":\"3181\"},\"selection_glyph\":null,\"view\":{\"id\":\"3183\"}},\"id\":\"3182\",\"type\":\"GlyphRenderer\"},{\"attributes\":{\"data\":{\"x\":{\"__ndarray__\":\"AAAAAAAAAACRGkt8Vz/AP5EaS3xXP9A/2qdwOgNf2D+RGkt8Vz/gPzXhXVstT+Q/2qdwOgNf6D9+boMZ2W7sP5EaS3xXP/A/433Ua0JH8j814V1bLU/0P4dE50oYV/Y/2qdwOgNf+D8sC/op7mb6P35ugxnZbvw/0NEMCcR2/j+RGkt8Vz8AQDrMD/RMQwFA433Ua0JHAkCML5njN0sDQDXhXVstTwRA3pIi0yJTBUCHROdKGFcGQDD2q8INWwdA2qdwOgNfCECDWTWy+GIJQCwL+inuZgpA1by+oeNqC0B+boMZ2W4MQCcgSJHOcg1A0NEMCcR2DkB5g9GAuXoPQJEaS3xXPxBAZnMtOFLBEEA6zA/0TEMRQA8l8q9HxRFA433Ua0JHEkC41rYnPckSQIwvmeM3SxNAYYh7nzLNE0A14V1bLU8UQAo6QBco0RRA3pIi0yJTFUCz6wSPHdUVQIdE50oYVxZAXJ3JBhPZFkAw9qvCDVsXQAVPjn4I3RdA2qdwOgNfGECuAFP2/eAYQINZNbL4YhlAV7IXbvPkGUAsC/op7mYaQABk3OXo6BpA1by+oeNqG0CpFaFd3uwbQH5ugxnZbhxAUsdl1dPwHEAnIEiRznIdQPt4Kk3J9B1A0NEMCcR2HkCkKu/EvvgeQHmD0YC5eh9ATdyzPLT8H0CRGkt8Vz8gQPtGPNpUgCBAZnMtOFLBIEDQnx6WTwIhQDrMD/RMQyFApPgAUkqEIUAPJfKvR8UhQHlR4w1FBiJA433Ua0JHIkBNqsXJP4giQLjWtic9ySJAIgOohToKI0CML5njN0sjQPZbikE1jCNAYYh7nzLNI0DLtGz9Lw4kQDXhXVstTyRAoA1PuSqQJEAKOkAXKNEkQHRmMXUlEiVA3pIi0yJTJUBJvxMxIJQlQLPrBI8d1SVAHRj27BoWJkCHROdKGFcmQPJw2KgVmCZAXJ3JBhPZJkDGybpkEBonQDD2q8INWydAmyKdIAucJ0AFT45+CN0nQG97f9wFHihA2qdwOgNfKEBE1GGYAKAoQK4AU/b94ChAGC1EVPshKUA=\",\"dtype\":\"float64\",\"order\":\"little\",\"shape\":[100]},\"y\":{\"__ndarray__\":\"AAAAAAAAAADwgwJ4LjTAP5qI2QHPEtA/+5MNU1HJ1z8ZTT7q2B3fP0aFmgwa+eI/ABg/lCAV5j+IQCEcMdboP3fOhmLzMOs/EyzujrQb7T/9Izwlj47uPxccgYyLg+8/g6xao7j27z9mZrL8O+bvP7+X94FZUu8/xVNiW3I97j9RB8Ai+6vsP5FWKYlppOo/oSg6uxkv6D/Th2bxK1blPyZGRbpaJeI/8qg+VZVT3T/4C4p0qOPVP+UppLIiM8w/3FNHxZdVuD/J23zJpD6gv+3ENsZjOcS/wo12/ecH0r/dgWKM2KjZv2MTsJELcOC/83ixWvXH47+358MBZM7mv5eCD4nhdum/rExY6Hq267+TIxAn7YPtvwSssILL1+6/70I4BJ6s77/vOc8G+P7vvzTGy1KGze+/3176khQZ77/C8a4NiuTtvzGcHq/dNOy/l0FFlgER6r+FGZN4xoHnvx8WPFK3keS/Cli7+O1M4b+HQNqEwoHbv9kfIiFb+NO/gKyggGI5yL8EhrXMjDywvyGGtcyMPLA/jqyggGI5yD/gHyIhW/jTP39A2oTCgds/DVi7+O1M4T8bFjxSt5HkP4cZk3jGgec/lUFFlgER6j8ynB6v3TTsP8Hxrg2K5O0/4F76khQZ7z80xstShs3vP+85zwb4/u8/8EI4BJ6s7z8DrLCCy9fuP5UjECftg+0/p0xY6Hq26z+Vgg+J4XbpP7fnwwFkzuY/9nixWvXH4z9dE7CRC3DgP9eBYozYqNk/w412/ecH0j/+xDbGYznEP0/bfMmkPqA/+FNHxZdVuL/UKaSyIjPMv+gLinSo49W/+Kg+VZVT3b8lRkW6WiXiv8+HZvErVuW/pig6uxkv6L+TVimJaaTqv1EHwCL7q+y/xFNiW3I97r/Al/eBWVLvv2Zmsvw75u+/g6xao7j2778YHIGMi4Pvv/sjPCWPju6/EyzujrQb7b94zoZi8zDrv4xAIRwx1ui//Bc/lCAV5r9GhZoMGvnivx9NPurYHd+/65MNU1HJ17+SiNkBzxLQv/GDAnguNMC/B1wUMyamwbw=\",\"dtype\":\"float64\",\"order\":\"little\",\"shape\":[100]}},\"selected\":{\"id\":\"3177\"},\"selection_policy\":{\"id\":\"3176\"}},\"id\":\"3163\",\"type\":\"ColumnDataSource\"},{\"attributes\":{\"fill_alpha\":{\"value\":0.1},\"fill_color\":{\"value\":null},\"line_alpha\":{\"value\":0.1},\"line_color\":{\"value\":\"green\"},\"x\":{\"field\":\"x\"},\"y\":{\"field\":\"y\"}},\"id\":\"3200\",\"type\":\"Square\"},{\"attributes\":{\"source\":{\"id\":\"3198\"}},\"id\":\"3202\",\"type\":\"CDSView\"},{\"attributes\":{\"fill_color\":{\"value\":null},\"line_color\":{\"value\":\"green\"},\"x\":{\"field\":\"x\"},\"y\":{\"field\":\"y\"}},\"id\":\"3199\",\"type\":\"Square\"},{\"attributes\":{},\"id\":\"3138\",\"type\":\"HelpTool\"},{\"attributes\":{\"formatter\":{\"id\":\"3155\"},\"ticker\":{\"id\":\"3126\"}},\"id\":\"3125\",\"type\":\"LinearAxis\"},{\"attributes\":{\"source\":{\"id\":\"3163\"}},\"id\":\"3167\",\"type\":\"CDSView\"},{\"attributes\":{\"line_color\":\"green\",\"x\":{\"field\":\"x\"},\"y\":{\"field\":\"y\"}},\"id\":\"3220\",\"type\":\"Line\"},{\"attributes\":{},\"id\":\"3137\",\"type\":\"ResetTool\"},{\"attributes\":{\"background_fill_alpha\":0.2,\"background_fill_color\":\"gray\",\"border_line_color\":\"navy\",\"border_line_width\":3,\"items\":[{\"id\":\"3162\"},{\"id\":\"3197\"},{\"id\":\"3218\"}],\"label_text_color\":\"navy\",\"label_text_font\":\"times\",\"label_text_font_size\":\"12pt\",\"label_text_font_style\":\"italic\",\"location\":\"bottom_left\"},\"id\":\"3161\",\"type\":\"Legend\"},{\"attributes\":{\"source\":{\"id\":\"3179\"}},\"id\":\"3183\",\"type\":\"CDSView\"},{\"attributes\":{},\"id\":\"3126\",\"type\":\"BasicTicker\"},{\"attributes\":{},\"id\":\"3136\",\"type\":\"SaveTool\"},{\"attributes\":{},\"id\":\"3176\",\"type\":\"UnionRenderers\"},{\"attributes\":{},\"id\":\"3216\",\"type\":\"Selection\"},{\"attributes\":{\"axis\":{\"id\":\"3125\"},\"ticker\":null},\"id\":\"3128\",\"type\":\"Grid\"},{\"attributes\":{\"fill_color\":{\"value\":\"#1f77b4\"},\"line_color\":{\"value\":\"#1f77b4\"},\"x\":{\"field\":\"x\"},\"y\":{\"field\":\"y\"}},\"id\":\"3148\",\"type\":\"Circle\"},{\"attributes\":{\"line_alpha\":0.1,\"line_color\":\"#1f77b4\",\"x\":{\"field\":\"x\"},\"y\":{\"field\":\"y\"}},\"id\":\"3165\",\"type\":\"Line\"},{\"attributes\":{},\"id\":\"3133\",\"type\":\"PanTool\"},{\"attributes\":{\"data_source\":{\"id\":\"3163\"},\"glyph\":{\"id\":\"3164\"},\"hover_glyph\":null,\"muted_glyph\":null,\"nonselection_glyph\":{\"id\":\"3165\"},\"selection_glyph\":null,\"view\":{\"id\":\"3167\"}},\"id\":\"3166\",\"type\":\"GlyphRenderer\"},{\"attributes\":{},\"id\":\"3134\",\"type\":\"WheelZoomTool\"},{\"attributes\":{},\"id\":\"3238\",\"type\":\"UnionRenderers\"},{\"attributes\":{\"source\":{\"id\":\"3147\"}},\"id\":\"3151\",\"type\":\"CDSView\"},{\"attributes\":{\"data_source\":{\"id\":\"3219\"},\"glyph\":{\"id\":\"3220\"},\"hover_glyph\":null,\"muted_glyph\":null,\"nonselection_glyph\":{\"id\":\"3221\"},\"selection_glyph\":null,\"view\":{\"id\":\"3223\"}},\"id\":\"3222\",\"type\":\"GlyphRenderer\"},{\"attributes\":{\"data\":{\"x\":{\"__ndarray__\":\"AAAAAAAAAACRGkt8Vz/AP5EaS3xXP9A/2qdwOgNf2D+RGkt8Vz/gPzXhXVstT+Q/2qdwOgNf6D9+boMZ2W7sP5EaS3xXP/A/433Ua0JH8j814V1bLU/0P4dE50oYV/Y/2qdwOgNf+D8sC/op7mb6P35ugxnZbvw/0NEMCcR2/j+RGkt8Vz8AQDrMD/RMQwFA433Ua0JHAkCML5njN0sDQDXhXVstTwRA3pIi0yJTBUCHROdKGFcGQDD2q8INWwdA2qdwOgNfCECDWTWy+GIJQCwL+inuZgpA1by+oeNqC0B+boMZ2W4MQCcgSJHOcg1A0NEMCcR2DkB5g9GAuXoPQJEaS3xXPxBAZnMtOFLBEEA6zA/0TEMRQA8l8q9HxRFA433Ua0JHEkC41rYnPckSQIwvmeM3SxNAYYh7nzLNE0A14V1bLU8UQAo6QBco0RRA3pIi0yJTFUCz6wSPHdUVQIdE50oYVxZAXJ3JBhPZFkAw9qvCDVsXQAVPjn4I3RdA2qdwOgNfGECuAFP2/eAYQINZNbL4YhlAV7IXbvPkGUAsC/op7mYaQABk3OXo6BpA1by+oeNqG0CpFaFd3uwbQH5ugxnZbhxAUsdl1dPwHEAnIEiRznIdQPt4Kk3J9B1A0NEMCcR2HkCkKu/EvvgeQHmD0YC5eh9ATdyzPLT8H0CRGkt8Vz8gQPtGPNpUgCBAZnMtOFLBIEDQnx6WTwIhQDrMD/RMQyFApPgAUkqEIUAPJfKvR8UhQHlR4w1FBiJA433Ua0JHIkBNqsXJP4giQLjWtic9ySJAIgOohToKI0CML5njN0sjQPZbikE1jCNAYYh7nzLNI0DLtGz9Lw4kQDXhXVstTyRAoA1PuSqQJEAKOkAXKNEkQHRmMXUlEiVA3pIi0yJTJUBJvxMxIJQlQLPrBI8d1SVAHRj27BoWJkCHROdKGFcmQPJw2KgVmCZAXJ3JBhPZJkDGybpkEBonQDD2q8INWydAmyKdIAucJ0AFT45+CN0nQG97f9wFHihA2qdwOgNfKEBE1GGYAKAoQK4AU/b94ChAGC1EVPshKUA=\",\"dtype\":\"float64\",\"order\":\"little\",\"shape\":[100]},\"y\":{\"__ndarray__\":\"AAAAAAAAAADwgwJ4LjTAP5qI2QHPEtA/+5MNU1HJ1z8ZTT7q2B3fP0aFmgwa+eI/ABg/lCAV5j+IQCEcMdboP3fOhmLzMOs/EyzujrQb7T/9Izwlj47uPxccgYyLg+8/g6xao7j27z9mZrL8O+bvP7+X94FZUu8/xVNiW3I97j9RB8Ai+6vsP5FWKYlppOo/oSg6uxkv6D/Th2bxK1blPyZGRbpaJeI/8qg+VZVT3T/4C4p0qOPVP+UppLIiM8w/3FNHxZdVuD/J23zJpD6gv+3ENsZjOcS/wo12/ecH0r/dgWKM2KjZv2MTsJELcOC/83ixWvXH47+358MBZM7mv5eCD4nhdum/rExY6Hq267+TIxAn7YPtvwSssILL1+6/70I4BJ6s77/vOc8G+P7vvzTGy1KGze+/3176khQZ77/C8a4NiuTtvzGcHq/dNOy/l0FFlgER6r+FGZN4xoHnvx8WPFK3keS/Cli7+O1M4b+HQNqEwoHbv9kfIiFb+NO/gKyggGI5yL8EhrXMjDywvyGGtcyMPLA/jqyggGI5yD/gHyIhW/jTP39A2oTCgds/DVi7+O1M4T8bFjxSt5HkP4cZk3jGgec/lUFFlgER6j8ynB6v3TTsP8Hxrg2K5O0/4F76khQZ7z80xstShs3vP+85zwb4/u8/8EI4BJ6s7z8DrLCCy9fuP5UjECftg+0/p0xY6Hq26z+Vgg+J4XbpP7fnwwFkzuY/9nixWvXH4z9dE7CRC3DgP9eBYozYqNk/w412/ecH0j/+xDbGYznEP0/bfMmkPqA/+FNHxZdVuL/UKaSyIjPMv+gLinSo49W/+Kg+VZVT3b8lRkW6WiXiv8+HZvErVuW/pig6uxkv6L+TVimJaaTqv1EHwCL7q+y/xFNiW3I97r/Al/eBWVLvv2Zmsvw75u+/g6xao7j2778YHIGMi4Pvv/sjPCWPju6/EyzujrQb7b94zoZi8zDrv4xAIRwx1ui//Bc/lCAV5r9GhZoMGvnivx9NPurYHd+/65MNU1HJ17+SiNkBzxLQv/GDAnguNMC/B1wUMyamwbw=\",\"dtype\":\"float64\",\"order\":\"little\",\"shape\":[100]}},\"selected\":{\"id\":\"3159\"},\"selection_policy\":{\"id\":\"3158\"}},\"id\":\"3147\",\"type\":\"ColumnDataSource\"},{\"attributes\":{\"overlay\":{\"id\":\"3139\"}},\"id\":\"3135\",\"type\":\"BoxZoomTool\"},{\"attributes\":{\"formatter\":{\"id\":\"3157\"},\"ticker\":{\"id\":\"3130\"}},\"id\":\"3129\",\"type\":\"LinearAxis\"},{\"attributes\":{\"axis\":{\"id\":\"3129\"},\"dimension\":1,\"ticker\":null},\"id\":\"3132\",\"type\":\"Grid\"},{\"attributes\":{\"line_alpha\":0.1,\"line_color\":\"orange\",\"line_dash\":[4,4],\"line_width\":2,\"x\":{\"field\":\"x\"},\"y\":{\"field\":\"y\"}},\"id\":\"3181\",\"type\":\"Line\"}],\"root_ids\":[\"3116\"]},\"title\":\"Bokeh Application\",\"version\":\"2.2.3\"}};\n",
       "  var render_items = [{\"docid\":\"dcd22bd6-4078-40fe-baf8-4baa47fe0111\",\"root_ids\":[\"3116\"],\"roots\":{\"3116\":\"3155bd6e-8fd7-46ea-87d9-5ebcbd8a6cbd\"}}];\n",
       "  root.Bokeh.embed.embed_items_notebook(docs_json, render_items);\n",
       "\n",
       "  }\n",
       "  if (root.Bokeh !== undefined) {\n",
       "    embed_document(root);\n",
       "  } else {\n",
       "    var attempts = 0;\n",
       "    var timer = setInterval(function(root) {\n",
       "      if (root.Bokeh !== undefined) {\n",
       "        clearInterval(timer);\n",
       "        embed_document(root);\n",
       "      } else {\n",
       "        attempts++;\n",
       "        if (attempts > 100) {\n",
       "          clearInterval(timer);\n",
       "          console.log(\"Bokeh: ERROR: Unable to run BokehJS code because BokehJS library is missing\");\n",
       "        }\n",
       "      }\n",
       "    }, 10, root)\n",
       "  }\n",
       "})(window);"
      ],
      "application/vnd.bokehjs_exec.v0+json": ""
     },
     "metadata": {
      "application/vnd.bokehjs_exec.v0+json": {
       "id": "3116"
      }
     },
     "output_type": "display_data"
    }
   ],
   "source": [
    "# Legend - 图例设置\n",
    "# 设置方法 → 在绘图时设置图例名称 + 设置图例位置\n",
    "\n",
    "p = figure(plot_width=600, plot_height=400)\n",
    "# 创建图表\n",
    "\n",
    "x = np.linspace(0, 4*np.pi, 100)\n",
    "y = np.sin(x)\n",
    "# 设置x，y\n",
    "\n",
    "p.circle(x, y, legend_label=\"sin(x)\")\n",
    "p.line(x, y, legend_label=\"sin(x)\")\n",
    "# 绘制line1，设置图例名称\n",
    "\n",
    "p.line(x, 2*y, legend_label=\"2*sin(x)\",line_dash=[4, 4], line_color=\"orange\", line_width=2)\n",
    "# 绘制line2，设置图例名称\n",
    "\n",
    "p.square(x, 3*y, legend_label=\"3*sin(x)\", fill_color=None, line_color=\"green\")\n",
    "p.line(x, 3*y, legend_label=\"3*sin(x)\", line_color=\"green\")\n",
    "# 绘制line3，设置图例名称\n",
    "\n",
    "p.legend.location = \"bottom_left\"\n",
    "# 设置图例位置：\"top_left\"、\"top_center\"、\"top_right\" (the default)、\"center_right\"、\"bottom_right\"、\"bottom_center\"\n",
    "# \"bottom_left\"、\"center_left\"、\"center\"\n",
    "\n",
    "p.legend.orientation = \"vertical\"\n",
    "# 设置图例排列方向：\"vertical\" （默认）or \"horizontal\"\n",
    "\n",
    "p.legend.label_text_font = \"times\"\n",
    "p.legend.label_text_font_style = \"italic\"  # 斜体\n",
    "p.legend.label_text_color = \"navy\"\n",
    "p.legend.label_text_font_size = '12pt'\n",
    "# 设置图例：字体、风格、颜色、字体大小\n",
    "\n",
    "p.legend.border_line_width = 3\n",
    "p.legend.border_line_color = \"navy\"\n",
    "p.legend.border_line_alpha = 0.5\n",
    "# 设置图例外边线：宽度、颜色、透明度\n",
    "\n",
    "p.legend.background_fill_color = \"gray\"\n",
    "p.legend.background_fill_alpha = 0.2\n",
    "# 设置图例背景：颜色、透明度\n",
    "\n",
    "show(p)"
   ]
  },
  {
   "cell_type": "code",
   "execution_count": null,
   "metadata": {},
   "outputs": [],
   "source": []
  }
 ],
 "metadata": {
  "kernelspec": {
   "display_name": "Python 3",
   "language": "python",
   "name": "python3"
  },
  "language_info": {
   "codemirror_mode": {
    "name": "ipython",
    "version": 3
   },
   "file_extension": ".py",
   "mimetype": "text/x-python",
   "name": "python",
   "nbconvert_exporter": "python",
   "pygments_lexer": "ipython3",
   "version": "3.7.4"
  }
 },
 "nbformat": 4,
 "nbformat_minor": 4
}
